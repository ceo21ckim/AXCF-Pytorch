{
 "cells": [
  {
   "attachments": {},
   "cell_type": "markdown",
   "metadata": {},
   "source": [
    "## Import Packages"
   ]
  },
  {
   "cell_type": "code",
   "execution_count": 1,
   "metadata": {},
   "outputs": [
    {
     "name": "stderr",
     "output_type": "stream",
     "text": [
      "/opt/conda/lib/python3.8/site-packages/tqdm/auto.py:22: TqdmWarning: IProgress not found. Please update jupyter and ipywidgets. See https://ipywidgets.readthedocs.io/en/stable/user_install.html\n",
      "  from .autonotebook import tqdm as notebook_tqdm\n"
     ]
    }
   ],
   "source": [
    "from tqdm import tqdm\n",
    "import os\n",
    "\n",
    "from sklearn.model_selection import train_test_split\n",
    "\n",
    "import pandas as pd \n",
    "import random \n",
    "import numpy as np \n",
    "from torch import nn, optim \n",
    "import torch \n",
    "\n",
    "from torch.utils.data import Dataset, DataLoader"
   ]
  },
  {
   "attachments": {},
   "cell_type": "markdown",
   "metadata": {},
   "source": [
    "## Build Class"
   ]
  },
  {
   "cell_type": "code",
   "execution_count": 2,
   "metadata": {},
   "outputs": [],
   "source": [
    "class GMF(nn.Module):\n",
    "    def __init__(self, args):\n",
    "        super(GMF, self).__init__()\n",
    "\n",
    "        self.num_users = args.num_users \n",
    "        self.num_items = args.num_items \n",
    "        self.latent_dim = args.latent_dim \n",
    "\n",
    "        self.user_embedding = nn.Embedding(self.num_users, self.latent_dim)\n",
    "        self.item_embedding = nn.Embedding(self.num_items, self.latent_dim)\n",
    "\n",
    "        self.fc_layer = nn.Linear(args.latent_dim, 1)\n",
    "        self.sigmoid = nn.Sigmoid()\n",
    "        \n",
    "    def forward(self, uid, iid):\n",
    "        user_emb = self.user_embedding(uid)\n",
    "        item_emb = self.item_embedding(iid)\n",
    "\n",
    "        multiply_layer = torch.mul(user_emb, item_emb)\n",
    "        # predict = torch.sum(multiply_layer, axis=1)\n",
    "        predict = self.fc_layer(multiply_layer)\n",
    "        # output = self.sigmoid(predict)\n",
    "        return predict \n",
    "\n",
    "    def _init_weight(self):\n",
    "        for module in self.modules():\n",
    "            if isinstance(module, nn.Embedding):\n",
    "                nn.init.normal_(module.weight, std=0.01)\n",
    "            \n",
    "            if isinstance(module, nn.Linear) and module.bias is not None:\n",
    "                module.bias.zero_()"
   ]
  },
  {
   "cell_type": "code",
   "execution_count": 3,
   "metadata": {},
   "outputs": [],
   "source": [
    "def set_seed(args):\n",
    "    random.seed(args.seed)\n",
    "    np.random.seed(args.seed)\n",
    "    torch.manual_seed(args.seed)\n",
    "    torch.cuda.manual_seed_all(args.seed)"
   ]
  },
  {
   "cell_type": "code",
   "execution_count": 4,
   "metadata": {},
   "outputs": [],
   "source": [
    "class MFDataset(Dataset):\n",
    "    def __init__(self, dataframe):\n",
    "        self.user_id = dataframe.user_id\n",
    "        self.item_id = dataframe.business_id\n",
    "        self.labels = dataframe.stars \n",
    "\n",
    "    def __len__(self):\n",
    "        return len(self.user_id)\n",
    "\n",
    "    def __getitem__(self, idx):\n",
    "        uid = self.user_id[idx]\n",
    "        iid = self.item_id[idx]\n",
    "        label = self.labels[idx]\n",
    "\n",
    "        return (\n",
    "            torch.tensor(uid, dtype=torch.long), \n",
    "            torch.tensor(iid, dtype=torch.long), \n",
    "            torch.tensor(label, dtype=torch.float)\n",
    "        )\n"
   ]
  },
  {
   "cell_type": "code",
   "execution_count": 5,
   "metadata": {},
   "outputs": [],
   "source": [
    "def sentiment_score(x):\n",
    "    if x >= 3.5 : return 1\n",
    "    elif x < 3.5 : return 0\n",
    "    \n",
    "def train(args, model, train_loader, test_loader, optimizer, criterion):\n",
    "    train_losses = []\n",
    "    valid_losses = []\n",
    "    best_loss = float('inf')\n",
    "\n",
    "    set_seed(args)\n",
    "    model = model.to(args.device)\n",
    "    model.train()\n",
    "    for epoch in tqdm(range(1, args.num_epochs + 1)):\n",
    "        train_loss, valid_loss = 0.0, 0.0\n",
    "\n",
    "        for batch in train_loader:\n",
    "            batch = tuple(b.to(args.device) for b in batch)\n",
    "\n",
    "            inputs = {'uid':    batch[0], \n",
    "                      'iid':    batch[1]}\n",
    "            gold_y = batch[2]\n",
    "\n",
    "            pred_y = model(**inputs).squeeze()\n",
    "            loss = criterion(pred_y, gold_y)\n",
    "\n",
    "            optimizer.zero_grad()\n",
    "            loss.backward()\n",
    "            optimizer.step()\n",
    "\n",
    "            train_loss += loss.item()\n",
    "\n",
    "        train_loss /= len(train_loader)\n",
    "\n",
    "        train_losses.append(train_loss)\n",
    "\n",
    "        valid_loss = evaluate(args, model, test_loader, criterion)\n",
    "        valid_losses.append(valid_loss)\n",
    "\n",
    "        if epoch % 10 == 0 :\n",
    "            print(f'Epoch: [{epoch}/{args.num_epochs}]')\n",
    "            print(f'Train Loss: {train_loss:.5f}')\n",
    "            print(f'Valid Loss: {valid_loss:.5f}')\n",
    "\n",
    "        if best_loss > valid_loss:\n",
    "            best_loss = valid_loss\n",
    "            if not os.path.exists(args.SAVE_PATH):\n",
    "                os.makedirs(args.SAVE_PATH)\n",
    "            torch.save(model.state_dict(), os.path.join(args.SAVE_PATH, f'{model._get_name()}_parameters.pt'))\n",
    "    \n",
    "    return {\n",
    "        'train_loss': train_losses, \n",
    "        'valid_loss': valid_losses\n",
    "    }\n",
    "\n",
    "\n",
    "def evaluate(args, model, test_loader, criterion):\n",
    "    losses = 0\n",
    "    model.eval()\n",
    "    with torch.no_grad():\n",
    "        for batch in test_loader:\n",
    "            batch = tuple(b.to(args.device) for b in batch)\n",
    "\n",
    "            inputs = {'uid':    batch[0], \n",
    "                      'iid':    batch[1]}\n",
    "            gold_y = batch[2]\n",
    "\n",
    "            pred_y = model(**inputs).squeeze()\n",
    "                \n",
    "            loss = criterion(pred_y, gold_y)\n",
    "        \n",
    "            losses += loss.item()\n",
    "        losses /= len(test_loader)\n",
    "    return losses\n"
   ]
  },
  {
   "cell_type": "code",
   "execution_count": 6,
   "metadata": {},
   "outputs": [],
   "source": [
    "class args:\n",
    "    seed = 42 \n",
    "    batch_size = 512\n",
    "    SAVE_PATH = os.path.join(os.getcwd(), 'baseline_parameters')\n",
    "    device = 'cuda' if torch.cuda.is_available() else 'cpu'\n",
    "    lr = 1e-3"
   ]
  },
  {
   "cell_type": "code",
   "execution_count": 7,
   "metadata": {},
   "outputs": [],
   "source": [
    "DATA_PATH = '../dataset/Yelp2018/Yelp2018.csv'\n",
    "d_set = pd.read_csv(DATA_PATH, encoding='utf-8-sig')\n",
    "\n",
    "d_set = d_set.astype({'user_id':'category', 'business_id':'category'})\n",
    "\n",
    "# d_set.stars = d_set.stars.apply(sentiment_score)"
   ]
  },
  {
   "cell_type": "code",
   "execution_count": 8,
   "metadata": {},
   "outputs": [],
   "source": [
    "from sklearn.preprocessing import MinMaxScaler\n",
    "\n",
    "d_set.loc[:, 'stars'] = MinMaxScaler().fit_transform(d_set.loc[:, 'stars'].values.reshape(-1, 1))"
   ]
  },
  {
   "cell_type": "code",
   "execution_count": 9,
   "metadata": {},
   "outputs": [],
   "source": [
    "d_train, d_test = train_test_split(d_set, train_size=0.6, random_state=args.seed)\n",
    "d_valid, d_test = train_test_split(d_test, train_size=0.5, random_state=args.seed)"
   ]
  },
  {
   "cell_type": "code",
   "execution_count": 10,
   "metadata": {},
   "outputs": [],
   "source": [
    "# d_train = d_train.astype({'user_id':'category', 'business_id':'category'})\n",
    "# d_valid = d_valid.astype({'user_id':'category', 'business_id':'category'})\n",
    "# d_test = d_test.astype({'user_id':'category', 'business_id':'category'})"
   ]
  },
  {
   "cell_type": "code",
   "execution_count": 11,
   "metadata": {},
   "outputs": [
    {
     "data": {
      "text/plain": [
       "((723952, 7), (241317, 7), (241318, 7))"
      ]
     },
     "execution_count": 11,
     "metadata": {},
     "output_type": "execute_result"
    }
   ],
   "source": [
    "d_train.shape, d_valid.shape, d_test.shape"
   ]
  },
  {
   "cell_type": "code",
   "execution_count": 12,
   "metadata": {},
   "outputs": [],
   "source": [
    "u_cat = d_train.user_id.cat.categories\n",
    "b_cat = d_train.business_id.cat.categories"
   ]
  },
  {
   "cell_type": "code",
   "execution_count": 13,
   "metadata": {},
   "outputs": [],
   "source": [
    "d_valid.user_id = d_valid.user_id.cat.set_categories(u_cat)\n",
    "d_valid.business_id = d_valid.business_id.cat.set_categories(b_cat)\n",
    "\n",
    "d_test.user_id = d_test.user_id.cat.set_categories(u_cat)\n",
    "d_test.business_id = d_test.business_id.cat.set_categories(b_cat)"
   ]
  },
  {
   "cell_type": "code",
   "execution_count": 14,
   "metadata": {},
   "outputs": [],
   "source": [
    "d_train.user_id = d_train.user_id.cat.codes\n",
    "d_train.business_id = d_train.business_id.cat.codes \n",
    "\n",
    "d_valid.user_id = d_valid.user_id.cat.codes\n",
    "d_valid.business_id = d_valid.business_id.cat.codes \n",
    "\n",
    "d_test.user_id = d_test.user_id.cat.codes\n",
    "d_test.business_id = d_test.business_id.cat.codes "
   ]
  },
  {
   "cell_type": "code",
   "execution_count": 15,
   "metadata": {},
   "outputs": [],
   "source": [
    "d_train = d_train.dropna()\n",
    "d_valid = d_valid.dropna()\n",
    "d_test = d_test.dropna()\n",
    "\n",
    "d_train.reset_index(drop=True, inplace=True)\n",
    "d_valid.reset_index(drop=True, inplace=True)\n",
    "d_test.reset_index(drop=True, inplace=True)"
   ]
  },
  {
   "cell_type": "code",
   "execution_count": 16,
   "metadata": {},
   "outputs": [],
   "source": [
    "args.num_users = d_train.user_id.max() + 1\n",
    "args.num_items = d_train.business_id.max() + 1\n",
    "args.latent_dim = 64\n",
    "args.num_epochs = 30"
   ]
  },
  {
   "cell_type": "code",
   "execution_count": 17,
   "metadata": {},
   "outputs": [],
   "source": [
    "model = GMF(args)\n",
    "\n",
    "train_set = MFDataset(d_train)\n",
    "valid_set = MFDataset(d_valid)\n",
    "test_set = MFDataset(d_test)\n",
    "\n",
    "train_loader = DataLoader(train_set, batch_size=args.batch_size, num_workers=4)\n",
    "valid_loader = DataLoader(valid_set, batch_size=args.batch_size, num_workers=4)\n",
    "test_loader = DataLoader(test_set, batch_size=args.batch_size, num_workers=4)\n",
    "\n",
    "optimizer = optim.SGD(model.parameters(), lr=args.lr)\n",
    "# criterion = nn.BCELoss()\n",
    "criterion = nn.L1Loss()"
   ]
  },
  {
   "cell_type": "code",
   "execution_count": 18,
   "metadata": {},
   "outputs": [
    {
     "name": "stderr",
     "output_type": "stream",
     "text": [
      " 33%|███▎      | 10/30 [00:52<01:45,  5.28s/it]"
     ]
    },
    {
     "name": "stdout",
     "output_type": "stream",
     "text": [
      "Epoch: [10/30]\n",
      "Train Loss: 0.21106\n",
      "Valid Loss: 0.21190\n"
     ]
    },
    {
     "name": "stderr",
     "output_type": "stream",
     "text": [
      " 67%|██████▋   | 20/30 [02:40<01:57, 11.78s/it]"
     ]
    },
    {
     "name": "stdout",
     "output_type": "stream",
     "text": [
      "Epoch: [20/30]\n",
      "Train Loss: 0.21106\n",
      "Valid Loss: 0.21190\n"
     ]
    },
    {
     "name": "stderr",
     "output_type": "stream",
     "text": [
      "100%|██████████| 30/30 [04:43<00:00,  9.44s/it]"
     ]
    },
    {
     "name": "stdout",
     "output_type": "stream",
     "text": [
      "Epoch: [30/30]\n",
      "Train Loss: 0.21106\n",
      "Valid Loss: 0.21189\n"
     ]
    },
    {
     "name": "stderr",
     "output_type": "stream",
     "text": [
      "\n"
     ]
    }
   ],
   "source": [
    "losses = train(args, model, train_loader, valid_loader, optimizer, criterion)"
   ]
  },
  {
   "cell_type": "code",
   "execution_count": 19,
   "metadata": {},
   "outputs": [],
   "source": [
    "test_loss = evaluate(args, model, test_loader, criterion)"
   ]
  },
  {
   "cell_type": "code",
   "execution_count": 20,
   "metadata": {},
   "outputs": [
    {
     "data": {
      "image/png": "[encoded data removed]",
      "text/plain": [
       "<Figure size 640x480 with 1 Axes>"
      ]
     },
     "metadata": {},
     "output_type": "display_data"
    }
   ],
   "source": [
    "import matplotlib.pyplot as plt \n",
    "\n",
    "train_losses = losses['train_loss']\n",
    "valid_losses = losses['valid_loss']\n",
    "\n",
    "length = range(train_losses.__len__())\n",
    "\n",
    "plt.plot(length, train_losses, '-')\n",
    "plt.plot(length, valid_losses, '-')\n",
    "plt.show()"
   ]
  },
  {
   "cell_type": "code",
   "execution_count": 21,
   "metadata": {},
   "outputs": [],
   "source": [
    "def get_yhat(args, model, test_loader, criterion):\n",
    "    y_hat = []\n",
    "    losses = 0\n",
    "    model.eval()\n",
    "    with torch.no_grad():\n",
    "        for batch in test_loader:\n",
    "            batch = tuple(b.to(args.device) for b in batch)\n",
    "\n",
    "            inputs = {'uid':    batch[0], \n",
    "                      'iid':    batch[1]}\n",
    "            gold_y = batch[2]\n",
    "\n",
    "            pred_y = model(**inputs).squeeze()\n",
    "            y_hat.append(pred_y.detach().cpu())\n",
    "                \n",
    "            loss = criterion(pred_y, gold_y)\n",
    "        \n",
    "            losses += loss.item()\n",
    "        losses /= len(test_loader)\n",
    "    y_hat = torch.concat(y_hat)\n",
    "    return y_hat"
   ]
  },
  {
   "cell_type": "code",
   "execution_count": 22,
   "metadata": {},
   "outputs": [],
   "source": [
    "y_hat = get_yhat(args, model, test_loader, criterion)\n",
    "d_test.loc[:, 'yhat'] = y_hat "
   ]
  },
  {
   "cell_type": "code",
   "execution_count": 23,
   "metadata": {},
   "outputs": [
    {
     "data": {
      "text/plain": [
       "torch.Size([241317])"
      ]
     },
     "execution_count": 23,
     "metadata": {},
     "output_type": "execute_result"
    }
   ],
   "source": [
    "y_hat.shape"
   ]
  },
  {
   "cell_type": "code",
   "execution_count": 24,
   "metadata": {},
   "outputs": [],
   "source": [
    "\n",
    "def accuracy(pred_y, true_y):\n",
    "    pred_y = torch.sigmoid(pred_y)\n",
    "    return ((pred_y > 0.5) == true_y).sum().detach().cpu().item()\n",
    "\n",
    "def sentiment_score(x):\n",
    "    if x >= 3.5 : return 1\n",
    "    elif x < 3.5 : return 0\n",
    "\n",
    "def dcg(label, k):\n",
    "    label = np.asfarray(label)[:k]\n",
    "    if label.size:\n",
    "        return label[0] + np.sum(label[1:] / np.log2(np.arange(2, label.size + 1)))\n",
    "\n",
    "    return 0\n",
    "\n",
    "def ndcg(dataframe, k):\n",
    "    ndcg_list = []\n",
    "    for uid in dataframe.user_id.unique():\n",
    "        label_temp = dataframe.loc[dataframe.user_id == uid]['stars'].tolist()\n",
    "\n",
    "        idcg = dcg(sorted(label_temp, reverse=True), k)\n",
    "\n",
    "        if not idcg:\n",
    "            return 0 \n",
    "\n",
    "        ndcg_list.append(dcg(label_temp, k) / idcg)\n",
    "    return np.mean(ndcg_list)\n",
    "    \n",
    "def metrics(dataframe, top_k):\n",
    "    # metrics for Sentiment Analysis\n",
    "    item = dataframe.groupby(['user_id'])['stars'].sum()\n",
    "    precision_k, recall_k, f1_k, ndcg_k = [], [], [], []\n",
    "    for k in top_k:\n",
    "        precision, recall, f1_score, ndcg_score = [], [], [], []\n",
    "        for uid in tqdm(dataframe.loc[:, 'user_id'].unique(), desc=f'Tok@{k} evaluating..'):\n",
    "            new_df = dataframe.loc[dataframe.loc[:, 'user_id'] == uid].copy()\n",
    "\n",
    "            new_df = new_df.sort_values(by = ['yhat'], ascending=False).head(k)\n",
    "            pr_temp = sum(new_df.loc[:, 'stars']) / k \n",
    "            re_temp = sum(new_df.loc[:, 'stars']) / item[uid] if item[uid] != 0 else 0 \n",
    "            pr_re = pr_temp + re_temp \n",
    "            f1_temp = (2 * pr_temp * re_temp) / pr_re if pr_re != 0 else 0\n",
    "            precision.append(pr_temp)\n",
    "            recall.append(re_temp)\n",
    "            f1_score.append(f1_temp)\n",
    "            ndcg_score.append(ndcg(new_df, k))\n",
    "        \n",
    "        precision_k.append(np.mean(precision))\n",
    "        recall_k.append(np.mean(recall))\n",
    "        f1_k.append(np.mean(f1_score))\n",
    "        ndcg_k.append(np.mean(ndcg_score))\n",
    "\n",
    "    outputs = pd.DataFrame({\n",
    "        'recall': recall_k, \n",
    "        'precision': precision_k, \n",
    "        'f1_score': f1_k, \n",
    "        'ndcg': ndcg_k\n",
    "    }, index=top_k)\n",
    "    return outputs "
   ]
  },
  {
   "cell_type": "code",
   "execution_count": 25,
   "metadata": {},
   "outputs": [
    {
     "name": "stderr",
     "output_type": "stream",
     "text": [
      "Tok@10 evaluating..: 100%|██████████| 25307/25307 [00:21<00:00, 1173.87it/s]\n",
      "Tok@20 evaluating..: 100%|██████████| 25307/25307 [00:21<00:00, 1158.82it/s]\n",
      "Tok@40 evaluating..: 100%|██████████| 25307/25307 [00:20<00:00, 1205.15it/s]\n",
      "Tok@50 evaluating..: 100%|██████████| 25307/25307 [00:20<00:00, 1206.29it/s]\n",
      "Tok@80 evaluating..: 100%|██████████| 25307/25307 [00:20<00:00, 1210.88it/s]\n",
      "Tok@100 evaluating..: 100%|██████████| 25307/25307 [00:21<00:00, 1190.46it/s]\n"
     ]
    }
   ],
   "source": [
    "results = metrics(d_test, [10, 20, 40, 50, 80, 100])"
   ]
  },
  {
   "cell_type": "code",
   "execution_count": 26,
   "metadata": {},
   "outputs": [
    {
     "data": {
      "text/html": [
       "<div>\n",
       "<style scoped>\n",
       "    .dataframe tbody tr th:only-of-type {\n",
       "        vertical-align: middle;\n",
       "    }\n",
       "\n",
       "    .dataframe tbody tr th {\n",
       "        vertical-align: top;\n",
       "    }\n",
       "\n",
       "    .dataframe thead th {\n",
       "        text-align: right;\n",
       "    }\n",
       "</style>\n",
       "<table border=\"1\" class=\"dataframe\">\n",
       "  <thead>\n",
       "    <tr style=\"text-align: right;\">\n",
       "      <th></th>\n",
       "      <th>recall</th>\n",
       "      <th>precision</th>\n",
       "      <th>f1_score</th>\n",
       "      <th>ndcg</th>\n",
       "    </tr>\n",
       "  </thead>\n",
       "  <tbody>\n",
       "    <tr>\n",
       "      <th>10</th>\n",
       "      <td>0.896257</td>\n",
       "      <td>0.496626</td>\n",
       "      <td>0.579262</td>\n",
       "      <td>0.908195</td>\n",
       "    </tr>\n",
       "    <tr>\n",
       "      <th>20</th>\n",
       "      <td>0.971753</td>\n",
       "      <td>0.304145</td>\n",
       "      <td>0.421222</td>\n",
       "      <td>0.907202</td>\n",
       "    </tr>\n",
       "    <tr>\n",
       "      <th>40</th>\n",
       "      <td>0.992255</td>\n",
       "      <td>0.166000</td>\n",
       "      <td>0.262055</td>\n",
       "      <td>0.907412</td>\n",
       "    </tr>\n",
       "    <tr>\n",
       "      <th>50</th>\n",
       "      <td>0.994342</td>\n",
       "      <td>0.134625</td>\n",
       "      <td>0.219943</td>\n",
       "      <td>0.907451</td>\n",
       "    </tr>\n",
       "    <tr>\n",
       "      <th>80</th>\n",
       "      <td>0.996144</td>\n",
       "      <td>0.085495</td>\n",
       "      <td>0.148339</td>\n",
       "      <td>0.907493</td>\n",
       "    </tr>\n",
       "    <tr>\n",
       "      <th>100</th>\n",
       "      <td>0.996513</td>\n",
       "      <td>0.068706</td>\n",
       "      <td>0.121974</td>\n",
       "      <td>0.907501</td>\n",
       "    </tr>\n",
       "  </tbody>\n",
       "</table>\n",
       "</div>"
      ],
      "text/plain": [
       "       recall  precision  f1_score      ndcg\n",
       "10   0.896257   0.496626  0.579262  0.908195\n",
       "20   0.971753   0.304145  0.421222  0.907202\n",
       "40   0.992255   0.166000  0.262055  0.907412\n",
       "50   0.994342   0.134625  0.219943  0.907451\n",
       "80   0.996144   0.085495  0.148339  0.907493\n",
       "100  0.996513   0.068706  0.121974  0.907501"
      ]
     },
     "execution_count": 26,
     "metadata": {},
     "output_type": "execute_result"
    }
   ],
   "source": [
    "results "
   ]
  },
  {
   "cell_type": "code",
   "execution_count": null,
   "metadata": {},
   "outputs": [],
   "source": []
  }
 ],
 "metadata": {
  "kernelspec": {
   "display_name": "base",
   "language": "python",
   "name": "python3"
  },
  "language_info": {
   "codemirror_mode": {
    "name": "ipython",
    "version": 3
   },
   "file_extension": ".py",
   "mimetype": "text/x-python",
   "name": "python",
   "nbconvert_exporter": "python",
   "pygments_lexer": "ipython3",
   "version": "3.8.12 (default, Oct 12 2021, 13:49:34) \n[GCC 7.5.0]"
  },
  "orig_nbformat": 4,
  "vscode": {
   "interpreter": {
    "hash": "8a5edab282632443219e051e4ade2d1d5bbc671c781051bf1437897cbdfea0f1"
   }
  }
 },
 "nbformat": 4,
 "nbformat_minor": 2
}
