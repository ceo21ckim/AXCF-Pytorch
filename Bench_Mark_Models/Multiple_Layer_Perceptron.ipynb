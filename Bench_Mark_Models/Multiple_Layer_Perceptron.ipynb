{
 "cells": [
  {
   "attachments": {},
   "cell_type": "markdown",
   "metadata": {},
   "source": [
    "## Import Packages"
   ]
  },
  {
   "cell_type": "code",
   "execution_count": 17,
   "metadata": {},
   "outputs": [],
   "source": [
    "from tqdm import tqdm\n",
    "import os\n",
    "\n",
    "from sklearn.model_selection import train_test_split\n",
    "from sklearn.preprocessing import MinMaxScaler\n",
    "\n",
    "import pandas as pd \n",
    "import random \n",
    "import numpy as np \n",
    "from torch import nn, optim \n",
    "import torch \n",
    "\n",
    "from torch.utils.data import Dataset, DataLoader"
   ]
  },
  {
   "attachments": {},
   "cell_type": "markdown",
   "metadata": {},
   "source": [
    "## Build Class"
   ]
  },
  {
   "cell_type": "code",
   "execution_count": 18,
   "metadata": {},
   "outputs": [],
   "source": [
    "class MLP(nn.Module):\n",
    "    def __init__(self, args):\n",
    "        super(MLP, self).__init__()\n",
    "\n",
    "        self.num_users = args.num_users\n",
    "        self.num_items = args.num_items \n",
    "        self.latent_dim = args.latent_dim \n",
    "\n",
    "\n",
    "        self.user_emb = nn.Embedding(self.num_users, self.latent_dim)\n",
    "        self.item_emb = nn.Embedding(self.num_items, self.latent_dim)\n",
    "\n",
    "        self.mlp_layer = nn.Sequential(\n",
    "            nn.Linear(2*self.latent_dim, self.latent_dim), \n",
    "            nn.ReLU(), \n",
    "            nn.Linear(self.latent_dim, self.latent_dim//2), \n",
    "            nn.ReLU(), \n",
    "            nn.Linear(self.latent_dim//2, self.latent_dim//4)\n",
    "        )\n",
    "        self.fc_layer = nn.Linear(self.latent_dim//4, 1)\n",
    "        self.sigmoid = nn.Sigmoid()\n",
    "\n",
    "    def forward(self, uid, iid):\n",
    "        user_emb = self.user_emb(uid)\n",
    "        item_emb = self.item_emb(iid)\n",
    "\n",
    "        inputs = torch.concat([user_emb, item_emb], axis=1)\n",
    "        outputs = self.mlp_layer(inputs)\n",
    "        outputs = self.fc_layer(outputs)\n",
    "        outputs = self.sigmoid(outputs)\n",
    "        return outputs "
   ]
  },
  {
   "cell_type": "code",
   "execution_count": 19,
   "metadata": {},
   "outputs": [],
   "source": [
    "def set_seed(args):\n",
    "    random.seed(args.seed)\n",
    "    np.random.seed(args.seed)\n",
    "    torch.manual_seed(args.seed)\n",
    "    torch.cuda.manual_seed_all(args.seed)"
   ]
  },
  {
   "cell_type": "code",
   "execution_count": 20,
   "metadata": {},
   "outputs": [],
   "source": [
    "class MFDataset(Dataset):\n",
    "    def __init__(self, dataframe):\n",
    "        self.user_id = dataframe.user_id\n",
    "        self.item_id = dataframe.business_id\n",
    "        self.labels = dataframe.stars \n",
    "\n",
    "    def __len__(self):\n",
    "        return len(self.user_id)\n",
    "\n",
    "    def __getitem__(self, idx):\n",
    "        uid = self.user_id[idx]\n",
    "        iid = self.item_id[idx]\n",
    "        label = self.labels[idx]\n",
    "\n",
    "        return (\n",
    "            torch.tensor(uid, dtype=torch.long), \n",
    "            torch.tensor(iid, dtype=torch.long), \n",
    "            torch.tensor(label, dtype=torch.float)\n",
    "        )\n"
   ]
  },
  {
   "cell_type": "code",
   "execution_count": 21,
   "metadata": {},
   "outputs": [],
   "source": [
    "def sentiment_score(x):\n",
    "    if x >= 3.5 : return 1\n",
    "    elif x < 3.5 : return 0\n",
    "    \n",
    "def train(args, model, train_loader, test_loader, optimizer, criterion):\n",
    "    train_losses = []\n",
    "    valid_losses = []\n",
    "    best_loss = float('inf')\n",
    "\n",
    "    set_seed(args)\n",
    "    model = model.to(args.device)\n",
    "    model.train()\n",
    "    for epoch in tqdm(range(1, args.num_epochs + 1)):\n",
    "        train_loss, valid_loss = 0.0, 0.0\n",
    "\n",
    "        for batch in train_loader:\n",
    "            batch = tuple(b.to(args.device) for b in batch)\n",
    "\n",
    "            inputs = {'uid':    batch[0], \n",
    "                      'iid':    batch[1]}\n",
    "            gold_y = batch[2]\n",
    "\n",
    "            pred_y = model(**inputs).squeeze()\n",
    "            loss = criterion(pred_y, gold_y)\n",
    "\n",
    "            optimizer.zero_grad()\n",
    "            loss.backward()\n",
    "            optimizer.step()\n",
    "\n",
    "            train_loss += loss.item()\n",
    "\n",
    "        train_loss /= len(train_loader)\n",
    "\n",
    "        train_losses.append(train_loss)\n",
    "\n",
    "        valid_loss = evaluate(args, model, test_loader, criterion)\n",
    "        valid_losses.append(valid_loss)\n",
    "\n",
    "        if epoch % 10 == 0 :\n",
    "            print(f'Epoch: [{epoch}/{args.num_epochs}]')\n",
    "            print(f'Train Loss: {train_loss:.5f}')\n",
    "            print(f'Valid Loss: {valid_loss:.5f}')\n",
    "\n",
    "        if best_loss > valid_loss:\n",
    "            best_loss = valid_loss\n",
    "            if not os.path.exists(args.SAVE_PATH):\n",
    "                os.makedirs(args.SAVE_PATH)\n",
    "            torch.save(model.state_dict(), os.path.join(args.SAVE_PATH, f'{model._get_name()}_parameters.pt'))\n",
    "    \n",
    "    return {\n",
    "        'train_loss': train_losses, \n",
    "        'valid_loss': valid_losses\n",
    "    }\n",
    "\n",
    "\n",
    "def evaluate(args, model, test_loader, criterion):\n",
    "    losses = 0\n",
    "    model.eval()\n",
    "    with torch.no_grad():\n",
    "        for batch in test_loader:\n",
    "            batch = tuple(b.to(args.device) for b in batch)\n",
    "\n",
    "            inputs = {'uid':    batch[0], \n",
    "                      'iid':    batch[1]}\n",
    "            gold_y = batch[2]\n",
    "\n",
    "            pred_y = model(**inputs).squeeze()\n",
    "                \n",
    "            loss = criterion(pred_y, gold_y)\n",
    "        \n",
    "            losses += loss.item()\n",
    "        losses /= len(test_loader)\n",
    "    return losses\n"
   ]
  },
  {
   "cell_type": "code",
   "execution_count": 22,
   "metadata": {},
   "outputs": [],
   "source": [
    "class args:\n",
    "    seed = 42 \n",
    "    batch_size = 512\n",
    "    SAVE_PATH = os.path.join(os.getcwd(), 'baseline_parameters')\n",
    "    device = 'cuda' if torch.cuda.is_available() else 'cpu'\n",
    "    lr = 1e-3"
   ]
  },
  {
   "cell_type": "code",
   "execution_count": 23,
   "metadata": {},
   "outputs": [],
   "source": [
    "DATA_PATH = '../dataset/Yelp2018/Yelp2018.csv'\n",
    "d_set = pd.read_csv(DATA_PATH, encoding='utf-8-sig')\n",
    "\n",
    "d_set = d_set.astype({'user_id':'category', 'business_id':'category'})\n",
    "\n",
    "# d_set.stars = d_set.stars.apply(sentiment_score)"
   ]
  },
  {
   "cell_type": "code",
   "execution_count": 24,
   "metadata": {},
   "outputs": [],
   "source": [
    "d_set.loc[:, 'stars'] = MinMaxScaler().fit_transform(d_set.loc[:, 'stars'].values.reshape(-1, 1))"
   ]
  },
  {
   "cell_type": "code",
   "execution_count": 25,
   "metadata": {},
   "outputs": [],
   "source": [
    "d_train, d_test = train_test_split(d_set, train_size=0.6, random_state=args.seed)\n",
    "d_valid, d_test = train_test_split(d_test, train_size=0.5, random_state=args.seed)"
   ]
  },
  {
   "cell_type": "code",
   "execution_count": 10,
   "metadata": {},
   "outputs": [],
   "source": [
    "# d_train = d_train.astype({'user_id':'category', 'business_id':'category'})\n",
    "# d_valid = d_valid.astype({'user_id':'category', 'business_id':'category'})\n",
    "# d_test = d_test.astype({'user_id':'category', 'business_id':'category'})"
   ]
  },
  {
   "cell_type": "code",
   "execution_count": 26,
   "metadata": {},
   "outputs": [
    {
     "data": {
      "text/plain": [
       "((723952, 7), (241317, 7), (241318, 7))"
      ]
     },
     "execution_count": 26,
     "metadata": {},
     "output_type": "execute_result"
    }
   ],
   "source": [
    "d_train.shape, d_valid.shape, d_test.shape"
   ]
  },
  {
   "cell_type": "code",
   "execution_count": 27,
   "metadata": {},
   "outputs": [],
   "source": [
    "u_cat = d_train.user_id.cat.categories\n",
    "b_cat = d_train.business_id.cat.categories"
   ]
  },
  {
   "cell_type": "code",
   "execution_count": 28,
   "metadata": {},
   "outputs": [],
   "source": [
    "d_valid.user_id = d_valid.user_id.cat.set_categories(u_cat)\n",
    "d_valid.business_id = d_valid.business_id.cat.set_categories(b_cat)\n",
    "\n",
    "d_test.user_id = d_test.user_id.cat.set_categories(u_cat)\n",
    "d_test.business_id = d_test.business_id.cat.set_categories(b_cat)"
   ]
  },
  {
   "cell_type": "code",
   "execution_count": 29,
   "metadata": {},
   "outputs": [],
   "source": [
    "d_train.user_id = d_train.user_id.cat.codes\n",
    "d_train.business_id = d_train.business_id.cat.codes \n",
    "\n",
    "d_valid.user_id = d_valid.user_id.cat.codes\n",
    "d_valid.business_id = d_valid.business_id.cat.codes \n",
    "\n",
    "d_test.user_id = d_test.user_id.cat.codes\n",
    "d_test.business_id = d_test.business_id.cat.codes "
   ]
  },
  {
   "cell_type": "code",
   "execution_count": 30,
   "metadata": {},
   "outputs": [],
   "source": [
    "d_train = d_train.dropna()\n",
    "d_valid = d_valid.dropna()\n",
    "d_test = d_test.dropna()\n",
    "\n",
    "d_train.reset_index(drop=True, inplace=True)\n",
    "d_valid.reset_index(drop=True, inplace=True)\n",
    "d_test.reset_index(drop=True, inplace=True)"
   ]
  },
  {
   "cell_type": "code",
   "execution_count": 31,
   "metadata": {},
   "outputs": [],
   "source": [
    "args.num_users = d_train.user_id.max() + 1\n",
    "args.num_items = d_train.business_id.max() + 1\n",
    "args.latent_dim = 64\n",
    "args.num_epochs = 50"
   ]
  },
  {
   "cell_type": "code",
   "execution_count": 32,
   "metadata": {},
   "outputs": [],
   "source": [
    "model = MLP(args).to(args.device)\n",
    "\n",
    "train_set = MFDataset(d_train)\n",
    "valid_set = MFDataset(d_valid)\n",
    "test_set = MFDataset(d_test)\n",
    "\n",
    "train_loader = DataLoader(train_set, batch_size=args.batch_size, num_workers=4)\n",
    "valid_loader = DataLoader(valid_set, batch_size=args.batch_size, num_workers=4)\n",
    "test_loader = DataLoader(test_set, batch_size=args.batch_size, num_workers=4)\n",
    "\n",
    "optimizer = optim.SGD(model.parameters(), lr=args.lr)\n",
    "# criterion = nn.BCELoss()\n",
    "criterion = nn.L1Loss()"
   ]
  },
  {
   "cell_type": "code",
   "execution_count": 33,
   "metadata": {},
   "outputs": [
    {
     "name": "stderr",
     "output_type": "stream",
     "text": [
      " 20%|██        | 10/50 [00:57<03:48,  5.72s/it]"
     ]
    },
    {
     "name": "stdout",
     "output_type": "stream",
     "text": [
      "Epoch: [10/50]\n",
      "Train Loss: 0.21425\n",
      "Valid Loss: 0.21499\n"
     ]
    },
    {
     "name": "stderr",
     "output_type": "stream",
     "text": [
      " 40%|████      | 20/50 [01:54<02:51,  5.72s/it]"
     ]
    },
    {
     "name": "stdout",
     "output_type": "stream",
     "text": [
      "Epoch: [20/50]\n",
      "Train Loss: 0.21323\n",
      "Valid Loss: 0.21402\n"
     ]
    },
    {
     "name": "stderr",
     "output_type": "stream",
     "text": [
      " 60%|██████    | 30/50 [02:51<01:55,  5.78s/it]"
     ]
    },
    {
     "name": "stdout",
     "output_type": "stream",
     "text": [
      "Epoch: [30/50]\n",
      "Train Loss: 0.21264\n",
      "Valid Loss: 0.21346\n"
     ]
    },
    {
     "name": "stderr",
     "output_type": "stream",
     "text": [
      " 80%|████████  | 40/50 [03:49<00:56,  5.67s/it]"
     ]
    },
    {
     "name": "stdout",
     "output_type": "stream",
     "text": [
      "Epoch: [40/50]\n",
      "Train Loss: 0.21228\n",
      "Valid Loss: 0.21311\n"
     ]
    },
    {
     "name": "stderr",
     "output_type": "stream",
     "text": [
      "100%|██████████| 50/50 [04:48<00:00,  5.78s/it]"
     ]
    },
    {
     "name": "stdout",
     "output_type": "stream",
     "text": [
      "Epoch: [50/50]\n",
      "Train Loss: 0.21203\n",
      "Valid Loss: 0.21286\n"
     ]
    },
    {
     "name": "stderr",
     "output_type": "stream",
     "text": [
      "\n"
     ]
    }
   ],
   "source": [
    "losses = train(args, model, train_loader, valid_loader, optimizer, criterion)"
   ]
  },
  {
   "cell_type": "code",
   "execution_count": 34,
   "metadata": {},
   "outputs": [],
   "source": [
    "test_loss = evaluate(args, model, test_loader, criterion)"
   ]
  },
  {
   "cell_type": "code",
   "execution_count": 35,
   "metadata": {},
   "outputs": [
    {
     "data": {
      "image/png": "[encoded data removed]",
      "text/plain": [
       "<Figure size 640x480 with 1 Axes>"
      ]
     },
     "metadata": {},
     "output_type": "display_data"
    }
   ],
   "source": [
    "import matplotlib.pyplot as plt \n",
    "\n",
    "train_losses = losses['train_loss']\n",
    "valid_losses = losses['valid_loss']\n",
    "\n",
    "length = range(train_losses.__len__())\n",
    "\n",
    "plt.plot(length, train_losses, '-')\n",
    "plt.plot(length, valid_losses, '-')\n",
    "plt.show()"
   ]
  },
  {
   "cell_type": "code",
   "execution_count": 36,
   "metadata": {},
   "outputs": [],
   "source": [
    "def get_yhat(args, model, test_loader, criterion):\n",
    "    y_hat = []\n",
    "    losses = 0\n",
    "    model.eval()\n",
    "    with torch.no_grad():\n",
    "        for batch in test_loader:\n",
    "            batch = tuple(b.to(args.device) for b in batch)\n",
    "\n",
    "            inputs = {'uid':    batch[0], \n",
    "                      'iid':    batch[1]}\n",
    "            gold_y = batch[2]\n",
    "\n",
    "            pred_y = model(**inputs).squeeze()\n",
    "            y_hat.append(pred_y.detach().cpu())\n",
    "                \n",
    "            loss = criterion(pred_y, gold_y)\n",
    "        \n",
    "            losses += loss.item()\n",
    "        losses /= len(test_loader)\n",
    "    y_hat = torch.concat(y_hat)\n",
    "    return y_hat"
   ]
  },
  {
   "cell_type": "code",
   "execution_count": 37,
   "metadata": {},
   "outputs": [],
   "source": [
    "y_hat = get_yhat(args, model, test_loader, criterion)\n",
    "d_test.loc[:, 'yhat'] = y_hat "
   ]
  },
  {
   "cell_type": "code",
   "execution_count": 38,
   "metadata": {},
   "outputs": [],
   "source": [
    "\n",
    "def accuracy(pred_y, true_y):\n",
    "    pred_y = torch.sigmoid(pred_y)\n",
    "    return ((pred_y > 0.5) == true_y).sum().detach().cpu().item()\n",
    "\n",
    "def sentiment_score(x):\n",
    "    if x >= 3.5 : return 1\n",
    "    elif x < 3.5 : return 0\n",
    "\n",
    "def dcg(label, k):\n",
    "    label = np.asfarray(label)[:k]\n",
    "    if label.size:\n",
    "        return label[0] + np.sum(label[1:] / np.log2(np.arange(2, label.size + 1)))\n",
    "\n",
    "    return 0\n",
    "\n",
    "def ndcg(dataframe, k):\n",
    "    ndcg_list = []\n",
    "    for uid in dataframe.user_id.unique():\n",
    "        label_temp = dataframe.loc[dataframe.user_id == uid]['stars'].tolist()\n",
    "\n",
    "        idcg = dcg(sorted(label_temp, reverse=True), k)\n",
    "\n",
    "        if not idcg:\n",
    "            return 0 \n",
    "\n",
    "        ndcg_list.append(dcg(label_temp, k) / idcg)\n",
    "    return np.mean(ndcg_list)\n",
    "    \n",
    "def metrics(dataframe, top_k):\n",
    "    # metrics for Sentiment Analysis\n",
    "    item = dataframe.groupby(['user_id'])['stars'].sum()\n",
    "    precision_k, recall_k, f1_k, ndcg_k = [], [], [], []\n",
    "    for k in top_k:\n",
    "        precision, recall, f1_score, ndcg_score = [], [], [], []\n",
    "        for uid in tqdm(dataframe.loc[:, 'user_id'].unique(), desc=f'Tok@{k} evaluating..'):\n",
    "            new_df = dataframe.loc[dataframe.loc[:, 'user_id'] == uid].copy()\n",
    "\n",
    "            new_df = new_df.sort_values(by = ['yhat'], ascending=False).head(k)\n",
    "            pr_temp = sum(new_df.loc[:, 'stars']) / k \n",
    "            re_temp = sum(new_df.loc[:, 'stars']) / item[uid] if item[uid] != 0 else 0 \n",
    "            pr_re = pr_temp + re_temp \n",
    "            f1_temp = (2 * pr_temp * re_temp) / pr_re if pr_re != 0 else 0\n",
    "            precision.append(pr_temp)\n",
    "            recall.append(re_temp)\n",
    "            f1_score.append(f1_temp)\n",
    "            ndcg_score.append(ndcg(new_df, k))\n",
    "        \n",
    "        precision_k.append(np.mean(precision))\n",
    "        recall_k.append(np.mean(recall))\n",
    "        f1_k.append(np.mean(f1_score))\n",
    "        ndcg_k.append(np.mean(ndcg_score))\n",
    "\n",
    "    outputs = pd.DataFrame({\n",
    "        'recall': recall_k, \n",
    "        'precision': precision_k, \n",
    "        'f1_score': f1_k, \n",
    "        'ndcg': ndcg_k\n",
    "    }, index=top_k)\n",
    "    return outputs "
   ]
  },
  {
   "cell_type": "code",
   "execution_count": 39,
   "metadata": {},
   "outputs": [
    {
     "name": "stderr",
     "output_type": "stream",
     "text": [
      "Tok@10 evaluating..: 100%|██████████| 25307/25307 [00:19<00:00, 1331.77it/s]\n",
      "Tok@20 evaluating..: 100%|██████████| 25307/25307 [00:18<00:00, 1332.74it/s]\n",
      "Tok@40 evaluating..: 100%|██████████| 25307/25307 [00:19<00:00, 1317.92it/s]\n",
      "Tok@50 evaluating..: 100%|██████████| 25307/25307 [00:20<00:00, 1257.05it/s]\n",
      "Tok@80 evaluating..: 100%|██████████| 25307/25307 [00:19<00:00, 1279.23it/s]\n",
      "Tok@100 evaluating..: 100%|██████████| 25307/25307 [00:19<00:00, 1270.81it/s]\n"
     ]
    }
   ],
   "source": [
    "results = metrics(d_test, [10, 20, 40, 50, 80, 100])"
   ]
  },
  {
   "cell_type": "code",
   "execution_count": 41,
   "metadata": {},
   "outputs": [
    {
     "data": {
      "text/plain": [
       "0.77740556"
      ]
     },
     "execution_count": 41,
     "metadata": {},
     "output_type": "execute_result"
    }
   ],
   "source": [
    "d_test.yhat.max()"
   ]
  },
  {
   "cell_type": "code",
   "execution_count": 40,
   "metadata": {},
   "outputs": [
    {
     "data": {
      "text/html": [
       "<div>\n",
       "<style scoped>\n",
       "    .dataframe tbody tr th:only-of-type {\n",
       "        vertical-align: middle;\n",
       "    }\n",
       "\n",
       "    .dataframe tbody tr th {\n",
       "        vertical-align: top;\n",
       "    }\n",
       "\n",
       "    .dataframe thead th {\n",
       "        text-align: right;\n",
       "    }\n",
       "</style>\n",
       "<table border=\"1\" class=\"dataframe\">\n",
       "  <thead>\n",
       "    <tr style=\"text-align: right;\">\n",
       "      <th></th>\n",
       "      <th>recall</th>\n",
       "      <th>precision</th>\n",
       "      <th>f1_score</th>\n",
       "      <th>ndcg</th>\n",
       "    </tr>\n",
       "  </thead>\n",
       "  <tbody>\n",
       "    <tr>\n",
       "      <th>10</th>\n",
       "      <td>0.896335</td>\n",
       "      <td>0.496947</td>\n",
       "      <td>0.579409</td>\n",
       "      <td>0.907384</td>\n",
       "    </tr>\n",
       "    <tr>\n",
       "      <th>20</th>\n",
       "      <td>0.971832</td>\n",
       "      <td>0.304277</td>\n",
       "      <td>0.421321</td>\n",
       "      <td>0.906563</td>\n",
       "    </tr>\n",
       "    <tr>\n",
       "      <th>40</th>\n",
       "      <td>0.992231</td>\n",
       "      <td>0.165991</td>\n",
       "      <td>0.262037</td>\n",
       "      <td>0.906727</td>\n",
       "    </tr>\n",
       "    <tr>\n",
       "      <th>50</th>\n",
       "      <td>0.994326</td>\n",
       "      <td>0.134608</td>\n",
       "      <td>0.219927</td>\n",
       "      <td>0.906759</td>\n",
       "    </tr>\n",
       "    <tr>\n",
       "      <th>80</th>\n",
       "      <td>0.996147</td>\n",
       "      <td>0.085500</td>\n",
       "      <td>0.148343</td>\n",
       "      <td>0.906794</td>\n",
       "    </tr>\n",
       "    <tr>\n",
       "      <th>100</th>\n",
       "      <td>0.996515</td>\n",
       "      <td>0.068709</td>\n",
       "      <td>0.121976</td>\n",
       "      <td>0.906801</td>\n",
       "    </tr>\n",
       "  </tbody>\n",
       "</table>\n",
       "</div>"
      ],
      "text/plain": [
       "       recall  precision  f1_score      ndcg\n",
       "10   0.896335   0.496947  0.579409  0.907384\n",
       "20   0.971832   0.304277  0.421321  0.906563\n",
       "40   0.992231   0.165991  0.262037  0.906727\n",
       "50   0.994326   0.134608  0.219927  0.906759\n",
       "80   0.996147   0.085500  0.148343  0.906794\n",
       "100  0.996515   0.068709  0.121976  0.906801"
      ]
     },
     "execution_count": 40,
     "metadata": {},
     "output_type": "execute_result"
    }
   ],
   "source": [
    "results"
   ]
  },
  {
   "cell_type": "code",
   "execution_count": null,
   "metadata": {},
   "outputs": [],
   "source": [
    "\n",
    "# recall\tprecision\tf1_score\tndcg\n",
    "# 10\t0.899196\t0.307917\t0.415397\t0.848600\n",
    "# 20\t0.921900\t0.169125\t0.262435\t0.848798\n",
    "# 40\t0.926299\t0.087281\t0.149878\t0.848902\n",
    "# 50\t0.926651\t0.070118\t0.123432\t0.848912\n",
    "# 80\t0.926973\t0.044042\t0.080802\t0.848923\n",
    "# 100\t0.927022\t0.035269\t0.065701\t0.848925"
   ]
  }
 ],
 "metadata": {
  "kernelspec": {
   "display_name": "base",
   "language": "python",
   "name": "python3"
  },
  "language_info": {
   "codemirror_mode": {
    "name": "ipython",
    "version": 3
   },
   "file_extension": ".py",
   "mimetype": "text/x-python",
   "name": "python",
   "nbconvert_exporter": "python",
   "pygments_lexer": "ipython3",
   "version": "3.8.15 (default, Nov 24 2022, 15:19:38) \n[GCC 11.2.0]"
  },
  "orig_nbformat": 4,
  "vscode": {
   "interpreter": {
    "hash": "d4d1e4263499bec80672ea0156c357c1ee493ec2b1c70f0acce89fc37c4a6abe"
   }
  }
 },
 "nbformat": 4,
 "nbformat_minor": 2
}
