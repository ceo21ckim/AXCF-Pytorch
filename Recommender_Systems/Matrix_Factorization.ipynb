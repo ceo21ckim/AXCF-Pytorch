{
 "cells": [
  {
   "cell_type": "code",
   "execution_count": 1,
   "metadata": {},
   "outputs": [
    {
     "name": "stderr",
     "output_type": "stream",
     "text": [
      "/opt/conda/lib/python3.7/site-packages/tqdm/auto.py:22: TqdmWarning: IProgress not found. Please update jupyter and ipywidgets. See https://ipywidgets.readthedocs.io/en/stable/user_install.html\n",
      "  from .autonotebook import tqdm as notebook_tqdm\n"
     ]
    }
   ],
   "source": [
    "from __init__ import * \n",
    "from models.MF import * \n",
    "from models.utils import * \n",
    "\n",
    "\n",
    "import pandas as pd\n",
    "from torch import optim, nn"
   ]
  },
  {
   "cell_type": "code",
   "execution_count": 2,
   "metadata": {},
   "outputs": [],
   "source": [
    "train_path = os.path.join(YELP_DIR, 'train.csv')\n",
    "valid_path = os.path.join(YELP_DIR, 'valid.csv')\n",
    "\n",
    "trainset = pd.read_csv(train_path, encoding='utf-8-sig')\n",
    "validset = pd.read_csv(valid_path, encoding='utf-8-sig')"
   ]
  },
  {
   "cell_type": "code",
   "execution_count": 3,
   "metadata": {},
   "outputs": [],
   "source": [
    "trainset.loc[:, 'stars'] = trainset.loc[:, 'stars'].apply(sentiment_score)\n",
    "validset.loc[:, 'stars'] = validset.loc[:, 'stars'].apply(sentiment_score)"
   ]
  },
  {
   "cell_type": "code",
   "execution_count": 4,
   "metadata": {},
   "outputs": [],
   "source": [
    "class args:\n",
    "    batch_size = 512\n",
    "    latent_dim = 32\n",
    "    learning_rate = 1e-4\n",
    "    num_epochs = 20\n",
    "    seed = 42\n",
    "    device = 'cuda' if torch.cuda.is_available() else 'cpu'\n",
    "    num_users = trainset.user_id.nunique()\n",
    "    num_items = trainset.business_id.nunique()"
   ]
  },
  {
   "cell_type": "code",
   "execution_count": 5,
   "metadata": {},
   "outputs": [],
   "source": [
    "train_loader = get_dataloader(args, trainset, num_workers=4)\n",
    "valid_loader = get_dataloader(args, validset, num_workers=4)"
   ]
  },
  {
   "cell_type": "code",
   "execution_count": 6,
   "metadata": {},
   "outputs": [],
   "source": [
    "# model = GMF(args).to(args.device)\n",
    "model = NeuMF(args).to(args.device)"
   ]
  },
  {
   "cell_type": "code",
   "execution_count": 8,
   "metadata": {},
   "outputs": [],
   "source": [
    "optimizer = optim.Adam(model.parameters(), lr=args.learning_rate)\n",
    "criterion = nn.BCELoss()"
   ]
  },
  {
   "cell_type": "code",
   "execution_count": 9,
   "metadata": {},
   "outputs": [
    {
     "name": "stderr",
     "output_type": "stream",
     "text": [
      "Training...: 100%|██████████| 1414/1414 [00:08<00:00, 163.33it/s]\n",
      "Evaluating...: 100%|██████████| 468/468 [00:01<00:00, 310.35it/s]\n"
     ]
    },
    {
     "name": "stdout",
     "output_type": "stream",
     "text": [
      "Epoch: [1/20]\n",
      "Train Loss: 0.62108\n",
      "Valid Loss: 0.60446\n"
     ]
    },
    {
     "name": "stderr",
     "output_type": "stream",
     "text": [
      "Training...: 100%|██████████| 1414/1414 [00:08<00:00, 173.78it/s]\n",
      "Evaluating...: 100%|██████████| 468/468 [00:01<00:00, 280.37it/s]\n"
     ]
    },
    {
     "name": "stdout",
     "output_type": "stream",
     "text": [
      "Epoch: [2/20]\n",
      "Train Loss: 0.60071\n",
      "Valid Loss: 0.60047\n"
     ]
    },
    {
     "name": "stderr",
     "output_type": "stream",
     "text": [
      "Training...: 100%|██████████| 1414/1414 [00:08<00:00, 175.30it/s]\n",
      "Evaluating...: 100%|██████████| 468/468 [00:01<00:00, 307.13it/s]\n"
     ]
    },
    {
     "name": "stdout",
     "output_type": "stream",
     "text": [
      "Epoch: [3/20]\n",
      "Train Loss: 0.59832\n",
      "Valid Loss: 0.59936\n"
     ]
    },
    {
     "name": "stderr",
     "output_type": "stream",
     "text": [
      "Training...: 100%|██████████| 1414/1414 [00:08<00:00, 176.06it/s]\n",
      "Evaluating...: 100%|██████████| 468/468 [00:01<00:00, 293.48it/s]\n"
     ]
    },
    {
     "name": "stdout",
     "output_type": "stream",
     "text": [
      "Epoch: [4/20]\n",
      "Train Loss: 0.59678\n",
      "Valid Loss: 0.59842\n"
     ]
    },
    {
     "name": "stderr",
     "output_type": "stream",
     "text": [
      "Training...: 100%|██████████| 1414/1414 [00:07<00:00, 178.12it/s]\n",
      "Evaluating...: 100%|██████████| 468/468 [00:01<00:00, 317.00it/s]\n"
     ]
    },
    {
     "name": "stdout",
     "output_type": "stream",
     "text": [
      "Epoch: [5/20]\n",
      "Train Loss: 0.59489\n",
      "Valid Loss: 0.59732\n"
     ]
    },
    {
     "name": "stderr",
     "output_type": "stream",
     "text": [
      "Training...: 100%|██████████| 1414/1414 [00:07<00:00, 176.98it/s]\n",
      "Evaluating...: 100%|██████████| 468/468 [00:01<00:00, 307.06it/s]\n"
     ]
    },
    {
     "name": "stdout",
     "output_type": "stream",
     "text": [
      "Epoch: [6/20]\n",
      "Train Loss: 0.59243\n",
      "Valid Loss: 0.59603\n"
     ]
    },
    {
     "name": "stderr",
     "output_type": "stream",
     "text": [
      "Training...: 100%|██████████| 1414/1414 [00:07<00:00, 178.56it/s]\n",
      "Evaluating...: 100%|██████████| 468/468 [00:01<00:00, 312.12it/s]\n"
     ]
    },
    {
     "name": "stdout",
     "output_type": "stream",
     "text": [
      "Epoch: [7/20]\n",
      "Train Loss: 0.58931\n",
      "Valid Loss: 0.59457\n"
     ]
    },
    {
     "name": "stderr",
     "output_type": "stream",
     "text": [
      "Training...: 100%|██████████| 1414/1414 [00:07<00:00, 178.68it/s]\n",
      "Evaluating...: 100%|██████████| 468/468 [00:01<00:00, 313.83it/s]\n"
     ]
    },
    {
     "name": "stdout",
     "output_type": "stream",
     "text": [
      "Epoch: [8/20]\n",
      "Train Loss: 0.58551\n",
      "Valid Loss: 0.59303\n"
     ]
    },
    {
     "name": "stderr",
     "output_type": "stream",
     "text": [
      "Training...: 100%|██████████| 1414/1414 [00:08<00:00, 176.70it/s]\n",
      "Evaluating...: 100%|██████████| 468/468 [00:01<00:00, 313.86it/s]\n"
     ]
    },
    {
     "name": "stdout",
     "output_type": "stream",
     "text": [
      "Epoch: [9/20]\n",
      "Train Loss: 0.58110\n",
      "Valid Loss: 0.59155\n"
     ]
    },
    {
     "name": "stderr",
     "output_type": "stream",
     "text": [
      "Training...: 100%|██████████| 1414/1414 [00:08<00:00, 174.00it/s]\n",
      "Evaluating...: 100%|██████████| 468/468 [00:01<00:00, 299.77it/s]\n"
     ]
    },
    {
     "name": "stdout",
     "output_type": "stream",
     "text": [
      "Epoch: [10/20]\n",
      "Train Loss: 0.57627\n",
      "Valid Loss: 0.59026\n"
     ]
    },
    {
     "name": "stderr",
     "output_type": "stream",
     "text": [
      "Training...: 100%|██████████| 1414/1414 [00:08<00:00, 172.85it/s]\n",
      "Evaluating...: 100%|██████████| 468/468 [00:01<00:00, 315.28it/s]\n"
     ]
    },
    {
     "name": "stdout",
     "output_type": "stream",
     "text": [
      "Epoch: [11/20]\n",
      "Train Loss: 0.57123\n",
      "Valid Loss: 0.58919\n"
     ]
    },
    {
     "name": "stderr",
     "output_type": "stream",
     "text": [
      "Training...: 100%|██████████| 1414/1414 [00:08<00:00, 173.79it/s]\n",
      "Evaluating...: 100%|██████████| 468/468 [00:01<00:00, 309.55it/s]\n"
     ]
    },
    {
     "name": "stdout",
     "output_type": "stream",
     "text": [
      "Epoch: [12/20]\n",
      "Train Loss: 0.56612\n",
      "Valid Loss: 0.58832\n"
     ]
    },
    {
     "name": "stderr",
     "output_type": "stream",
     "text": [
      "Training...: 100%|██████████| 1414/1414 [00:08<00:00, 176.55it/s]\n",
      "Evaluating...: 100%|██████████| 468/468 [00:01<00:00, 302.59it/s]\n"
     ]
    },
    {
     "name": "stdout",
     "output_type": "stream",
     "text": [
      "Epoch: [13/20]\n",
      "Train Loss: 0.56101\n",
      "Valid Loss: 0.58759\n"
     ]
    },
    {
     "name": "stderr",
     "output_type": "stream",
     "text": [
      "Training...: 100%|██████████| 1414/1414 [00:08<00:00, 176.05it/s]\n",
      "Evaluating...: 100%|██████████| 468/468 [00:01<00:00, 323.71it/s]\n"
     ]
    },
    {
     "name": "stdout",
     "output_type": "stream",
     "text": [
      "Epoch: [14/20]\n",
      "Train Loss: 0.55591\n",
      "Valid Loss: 0.58699\n"
     ]
    },
    {
     "name": "stderr",
     "output_type": "stream",
     "text": [
      "Training...: 100%|██████████| 1414/1414 [00:08<00:00, 174.22it/s]\n",
      "Evaluating...: 100%|██████████| 468/468 [00:01<00:00, 310.30it/s]\n"
     ]
    },
    {
     "name": "stdout",
     "output_type": "stream",
     "text": [
      "Epoch: [15/20]\n",
      "Train Loss: 0.55080\n",
      "Valid Loss: 0.58652\n"
     ]
    },
    {
     "name": "stderr",
     "output_type": "stream",
     "text": [
      "Training...: 100%|██████████| 1414/1414 [00:08<00:00, 173.15it/s]\n",
      "Evaluating...: 100%|██████████| 468/468 [00:01<00:00, 309.51it/s]\n"
     ]
    },
    {
     "name": "stdout",
     "output_type": "stream",
     "text": [
      "Epoch: [16/20]\n",
      "Train Loss: 0.54569\n",
      "Valid Loss: 0.58617\n"
     ]
    },
    {
     "name": "stderr",
     "output_type": "stream",
     "text": [
      "Training...: 100%|██████████| 1414/1414 [00:08<00:00, 175.73it/s]\n",
      "Evaluating...: 100%|██████████| 468/468 [00:01<00:00, 305.78it/s]\n"
     ]
    },
    {
     "name": "stdout",
     "output_type": "stream",
     "text": [
      "Epoch: [17/20]\n",
      "Train Loss: 0.54058\n",
      "Valid Loss: 0.58595\n"
     ]
    },
    {
     "name": "stderr",
     "output_type": "stream",
     "text": [
      "Training...: 100%|██████████| 1414/1414 [00:08<00:00, 175.68it/s]\n",
      "Evaluating...: 100%|██████████| 468/468 [00:01<00:00, 285.54it/s]\n"
     ]
    },
    {
     "name": "stdout",
     "output_type": "stream",
     "text": [
      "Epoch: [18/20]\n",
      "Train Loss: 0.53546\n",
      "Valid Loss: 0.58586\n"
     ]
    },
    {
     "name": "stderr",
     "output_type": "stream",
     "text": [
      "Training...: 100%|██████████| 1414/1414 [00:08<00:00, 173.85it/s]\n",
      "Evaluating...: 100%|██████████| 468/468 [00:01<00:00, 308.18it/s]\n"
     ]
    },
    {
     "name": "stdout",
     "output_type": "stream",
     "text": [
      "Epoch: [19/20]\n",
      "Train Loss: 0.53035\n",
      "Valid Loss: 0.58593\n"
     ]
    },
    {
     "name": "stderr",
     "output_type": "stream",
     "text": [
      "Training...: 100%|██████████| 1414/1414 [00:08<00:00, 175.77it/s]\n",
      "Evaluating...: 100%|██████████| 468/468 [00:01<00:00, 303.76it/s]"
     ]
    },
    {
     "name": "stdout",
     "output_type": "stream",
     "text": [
      "Epoch: [20/20]\n",
      "Train Loss: 0.52524\n",
      "Valid Loss: 0.58614\n"
     ]
    },
    {
     "name": "stderr",
     "output_type": "stream",
     "text": [
      "\n"
     ]
    }
   ],
   "source": [
    "train_loss, valid_loss = train(args, model, train_loader, valid_loader, optimizer, criterion)"
   ]
  },
  {
   "cell_type": "markdown",
   "metadata": {},
   "source": [
    "## Inference"
   ]
  },
  {
   "cell_type": "code",
   "execution_count": 10,
   "metadata": {},
   "outputs": [],
   "source": [
    "from __init__ import * \n",
    "from models.MF import *\n",
    "from models.utils import *  \n",
    "from models.metrics import * \n",
    "\n",
    "import pandas as pd"
   ]
  },
  {
   "cell_type": "code",
   "execution_count": 13,
   "metadata": {},
   "outputs": [],
   "source": [
    "class args:\n",
    "    batch_size = 512\n",
    "    latent_dim = 32\n",
    "    learning_rate = 1e-4\n",
    "    seed = 42 \n",
    "    device = 'cuda' if torch.cuda.is_available() else 'cpu'\n",
    "    num_users = 25369\n",
    "    num_items = 44553"
   ]
  },
  {
   "cell_type": "code",
   "execution_count": 14,
   "metadata": {},
   "outputs": [
    {
     "data": {
      "text/plain": [
       "<All keys matched successfully>"
      ]
     },
     "execution_count": 14,
     "metadata": {},
     "output_type": "execute_result"
    }
   ],
   "source": [
    "model = NeuMF(args).to(args.device)\n",
    "model.load_state_dict(torch.load(os.path.join(SAVE_PATH, 'NeuMF_parameters.pt')))"
   ]
  },
  {
   "cell_type": "code",
   "execution_count": 15,
   "metadata": {},
   "outputs": [],
   "source": [
    "test_path = os.path.join(YELP_DIR, 'test.csv')\n",
    "testset = pd.read_csv(test_path, encoding='utf-8-sig')\n",
    "\n",
    "testset.loc[:, 'stars'] = testset.loc[:, 'stars'].apply(sentiment_score)\n",
    "\n",
    "test_loader = get_dataloader(args, testset, num_workers=4)\n",
    "criterion = nn.BCELoss().to(args.device)"
   ]
  },
  {
   "cell_type": "code",
   "execution_count": 16,
   "metadata": {},
   "outputs": [
    {
     "name": "stderr",
     "output_type": "stream",
     "text": [
      "Evaluating...: 100%|██████████| 469/469 [00:01<00:00, 270.05it/s]\n"
     ]
    }
   ],
   "source": [
    "test_loss = evaluate(args, model, test_loader, criterion)"
   ]
  },
  {
   "cell_type": "code",
   "execution_count": 19,
   "metadata": {},
   "outputs": [
    {
     "name": "stderr",
     "output_type": "stream",
     "text": [
      "evaluating...: 100%|██████████| 25303/25303 [01:14<00:00, 338.05it/s]\n",
      "evaluating...: 100%|██████████| 25303/25303 [01:12<00:00, 348.70it/s]\n"
     ]
    }
   ],
   "source": [
    "results = cf_metrics(args, testset, model, [10, 20])"
   ]
  },
  {
   "cell_type": "code",
   "execution_count": 20,
   "metadata": {},
   "outputs": [
    {
     "data": {
      "text/html": [
       "<div>\n",
       "<style scoped>\n",
       "    .dataframe tbody tr th:only-of-type {\n",
       "        vertical-align: middle;\n",
       "    }\n",
       "\n",
       "    .dataframe tbody tr th {\n",
       "        vertical-align: top;\n",
       "    }\n",
       "\n",
       "    .dataframe thead th {\n",
       "        text-align: right;\n",
       "    }\n",
       "</style>\n",
       "<table border=\"1\" class=\"dataframe\">\n",
       "  <thead>\n",
       "    <tr style=\"text-align: right;\">\n",
       "      <th></th>\n",
       "      <th>precision</th>\n",
       "      <th>recall</th>\n",
       "      <th>f1_score</th>\n",
       "      <th>ndcg</th>\n",
       "    </tr>\n",
       "  </thead>\n",
       "  <tbody>\n",
       "    <tr>\n",
       "      <th>0</th>\n",
       "      <td>0.488740</td>\n",
       "      <td>0.881324</td>\n",
       "      <td>0.567297</td>\n",
       "      <td>0.862080</td>\n",
       "    </tr>\n",
       "    <tr>\n",
       "      <th>1</th>\n",
       "      <td>0.298309</td>\n",
       "      <td>0.954832</td>\n",
       "      <td>0.411871</td>\n",
       "      <td>0.862757</td>\n",
       "    </tr>\n",
       "  </tbody>\n",
       "</table>\n",
       "</div>"
      ],
      "text/plain": [
       "   precision    recall  f1_score      ndcg\n",
       "0   0.488740  0.881324  0.567297  0.862080\n",
       "1   0.298309  0.954832  0.411871  0.862757"
      ]
     },
     "execution_count": 20,
     "metadata": {},
     "output_type": "execute_result"
    }
   ],
   "source": [
    "def lstm_evaluate(args, model, test_loader, criterion):\n",
    "    valid_acc, valid_loss = 0, 0\n",
    "\n",
    "    model.eval()\n",
    "    with torch.no_grad():\n",
    "        for batch in tqdm.tqdm(test_loader, desc='Evaluating..'):\n",
    "            batch = tuple(t.to(args.device) for t in batch)\n",
    "            reviews = batch[0]\n",
    "            labels = batch[1]\n",
    "\n",
    "            pred_y = model(reviews).squeeze()\n",
    "            loss = criterion(pred_y, labels)\n",
    "\n",
    "            valid_acc += calc_accuracy(pred_y, labels) / len(pred_y)\n",
    "            valid_loss += loss.item() / len(pred_y)\n",
    "    \n",
    "    valid_acc /= len(test_loader)\n",
    "    valid_loss /= len(test_loader)\n",
    "    \n",
    "    return valid_acc, valid_loss "
   ]
  }
 ],
 "metadata": {
  "kernelspec": {
   "display_name": "Python 3.7.15 ('base')",
   "language": "python",
   "name": "python3"
  },
  "language_info": {
   "codemirror_mode": {
    "name": "ipython",
    "version": 3
   },
   "file_extension": ".py",
   "mimetype": "text/x-python",
   "name": "python",
   "nbconvert_exporter": "python",
   "pygments_lexer": "ipython3",
   "version": "3.7.15"
  },
  "orig_nbformat": 4,
  "vscode": {
   "interpreter": {
    "hash": "d4d1e4263499bec80672ea0156c357c1ee493ec2b1c70f0acce89fc37c4a6abe"
   }
  }
 },
 "nbformat": 4,
 "nbformat_minor": 2
}
