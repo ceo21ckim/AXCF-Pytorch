{
 "cells": [
  {
   "cell_type": "code",
   "execution_count": 1,
   "metadata": {},
   "outputs": [
    {
     "name": "stderr",
     "output_type": "stream",
     "text": [
      "/opt/conda/lib/python3.7/site-packages/tqdm/auto.py:22: TqdmWarning: IProgress not found. Please update jupyter and ipywidgets. See https://ipywidgets.readthedocs.io/en/stable/user_install.html\n",
      "  from .autonotebook import tqdm as notebook_tqdm\n"
     ]
    }
   ],
   "source": [
    "import time\n",
    "import tqdm \n",
    "import pandas as pd \n",
    "\n",
    "from __init__ import * \n",
    "\n",
    "import torch\n",
    "import torch.nn as nn \n",
    "import torch.optim as optim \n",
    "\n",
    "from torch.utils.data import Dataset, DataLoader\n",
    "from transformers import BertTokenizer, BertModel"
   ]
  },
  {
   "cell_type": "code",
   "execution_count": 2,
   "metadata": {},
   "outputs": [],
   "source": [
    "class args:\n",
    "    seed = 42\n",
    "    max_seq_length = 128\n",
    "    learning_rate = 1e-5\n",
    "    batch_size = 256\n",
    "    dr_rate = 0.3\n",
    "    hidden_dim = 312\n",
    "    num_epochs = 200\n",
    "    device = 'cuda' if torch.cuda.is_available() else 'cpu'"
   ]
  },
  {
   "cell_type": "code",
   "execution_count": 3,
   "metadata": {},
   "outputs": [],
   "source": [
    "def sentiment_score(x):\n",
    "    '''\n",
    "    input:\n",
    "        score: range(1, 6)\n",
    "    \n",
    "    output:\n",
    "        if x > 3.0 : return 1 \n",
    "        elif x < 3.0 : return 0 \n",
    "        elif x == 3.0 : return np.NaN\n",
    "    '''\n",
    "    if x >= 3.5 :\n",
    "        return 1\n",
    "    \n",
    "    elif x < 3.5 :\n",
    "        return 0"
   ]
  },
  {
   "cell_type": "code",
   "execution_count": 4,
   "metadata": {},
   "outputs": [
    {
     "name": "stderr",
     "output_type": "stream",
     "text": [
      "Some weights of the model checkpoint at huawei-noah/TinyBERT_General_4L_312D were not used when initializing BertModel: ['fit_denses.1.bias', 'cls.predictions.transform.dense.weight', 'fit_denses.4.weight', 'fit_denses.4.bias', 'cls.seq_relationship.bias', 'cls.seq_relationship.weight', 'cls.predictions.decoder.weight', 'fit_denses.1.weight', 'cls.predictions.transform.dense.bias', 'fit_denses.0.weight', 'cls.predictions.transform.LayerNorm.weight', 'fit_denses.2.weight', 'fit_denses.3.weight', 'fit_denses.2.bias', 'fit_denses.3.bias', 'cls.predictions.transform.LayerNorm.bias', 'fit_denses.0.bias', 'cls.predictions.bias']\n",
      "- This IS expected if you are initializing BertModel from the checkpoint of a model trained on another task or with another architecture (e.g. initializing a BertForSequenceClassification model from a BertForPreTraining model).\n",
      "- This IS NOT expected if you are initializing BertModel from the checkpoint of a model that you expect to be exactly identical (initializing a BertForSequenceClassification model from a BertForSequenceClassification model).\n"
     ]
    }
   ],
   "source": [
    "train_path = os.path.join(YELP_DIR, 'train.csv')\n",
    "valid_path = os.path.join(YELP_DIR, 'valid.csv')\n",
    "test_path = os.path.join(YELP_DIR, 'test.csv')\n",
    "\n",
    "train = pd.read_csv(train_path, encoding='utf-8-sig')\n",
    "valid = pd.read_csv(valid_path, encoding='utf-8-sig')\n",
    "test = pd.read_csv(test_path, encoding='utf-8-sig')\n",
    "\n",
    "\n",
    "bert_model = BertModel.from_pretrained('huawei-noah/TinyBERT_General_4L_312D')\n",
    "tokenizer = BertTokenizer.from_pretrained('huawei-noah/TinyBERT_General_4L_312D')"
   ]
  },
  {
   "cell_type": "code",
   "execution_count": 5,
   "metadata": {},
   "outputs": [
    {
     "data": {
      "text/plain": [
       "BertConfig {\n",
       "  \"_name_or_path\": \"huawei-noah/TinyBERT_General_4L_312D\",\n",
       "  \"attention_probs_dropout_prob\": 0.1,\n",
       "  \"cell\": {},\n",
       "  \"classifier_dropout\": null,\n",
       "  \"emb_size\": 312,\n",
       "  \"hidden_act\": \"gelu\",\n",
       "  \"hidden_dropout_prob\": 0.1,\n",
       "  \"hidden_size\": 312,\n",
       "  \"initializer_range\": 0.02,\n",
       "  \"intermediate_size\": 1200,\n",
       "  \"layer_norm_eps\": 1e-12,\n",
       "  \"max_position_embeddings\": 512,\n",
       "  \"model_type\": \"bert\",\n",
       "  \"num_attention_heads\": 12,\n",
       "  \"num_hidden_layers\": 4,\n",
       "  \"pad_token_id\": 0,\n",
       "  \"position_embedding_type\": \"absolute\",\n",
       "  \"pre_trained\": \"\",\n",
       "  \"structure\": [],\n",
       "  \"transformers_version\": \"4.24.0\",\n",
       "  \"type_vocab_size\": 2,\n",
       "  \"use_cache\": true,\n",
       "  \"vocab_size\": 30522\n",
       "}"
      ]
     },
     "execution_count": 5,
     "metadata": {},
     "output_type": "execute_result"
    }
   ],
   "source": [
    "bert_model.config"
   ]
  },
  {
   "cell_type": "code",
   "execution_count": 6,
   "metadata": {},
   "outputs": [],
   "source": [
    "train.loc[:,'stars'] = train.loc[:, 'stars'].apply(sentiment_score)\n",
    "valid.loc[:, 'stars'] = valid.loc[:, 'stars'].apply(sentiment_score)\n",
    "test.loc[:, 'stars'] = test.loc[:, 'stars'].apply(sentiment_score)\n",
    "\n",
    "train = train.dropna().reset_index(drop=True)\n",
    "valid = valid.dropna().reset_index(drop=True)\n",
    "test = test.dropna().reset_index(drop=True)"
   ]
  },
  {
   "cell_type": "code",
   "execution_count": 8,
   "metadata": {},
   "outputs": [],
   "source": [
    "class BERTDataset(Dataset):\n",
    "    def __init__(self, args, dataframe, tokenizer):\n",
    "        self.tokenizer = tokenizer \n",
    "        self.data = dataframe \n",
    "        self.reviews = dataframe.text \n",
    "        self.labels = dataframe.stars\n",
    "        self.max_seq_length = args.max_seq_length\n",
    "\n",
    "        \n",
    "\n",
    "    def __len__(self):\n",
    "        return len(self.labels)\n",
    "\n",
    "    def __getitem__(self, idx):\n",
    "\n",
    "        review = self.reviews[idx]\n",
    "\n",
    "        inputs = self.tokenizer.encode_plus(\n",
    "            review, \n",
    "            None,\n",
    "            add_special_tokens=True, \n",
    "            max_length=self.max_seq_length, \n",
    "            padding='max_length', \n",
    "            return_token_type_ids=True, \n",
    "            truncation=True\n",
    "        )\n",
    "\n",
    "        input_ids = inputs['input_ids']\n",
    "        masks = inputs['attention_mask']\n",
    "        token_type_ids = inputs['token_type_ids']\n",
    "\n",
    "        return (\n",
    "            torch.tensor(input_ids, dtype=torch.long), # token_ids\n",
    "            torch.tensor(masks, dtype=torch.long), # attention_mask\n",
    "            torch.tensor(token_type_ids, dtype=torch.long), # token_type_ids\n",
    "            torch.tensor(self.labels[idx], dtype = float) # labels\n",
    "        )\n",
    "\n",
    "\n",
    "class BERTClassifier(nn.Module):\n",
    "    def __init__(self, args, bertmodel):\n",
    "        super(BERTClassifier, self).__init__()\n",
    "        self.bert = bertmodel\n",
    "        self.classifier = nn.Linear(args.hidden_dim, 1)\n",
    "        self.dropout = nn.Dropout(args.dr_rate)\n",
    "\n",
    "    \n",
    "    def forward(self, input_ids, attention_mask, token_type_ids):\n",
    "        output = self.bert(input_ids, attention_mask = attention_mask, token_type_ids = token_type_ids)\n",
    "        pooler = output['pooler_output']\n",
    "        pooler = self.dropout(pooler)\n",
    "        fc_layer = self.classifier(pooler)\n",
    "        return fc_layer \n",
    "\n",
    "def calc_accuracy(pred_y, true_y):\n",
    "    pred_y = torch.sigmoid(pred_y)\n",
    "    return ((pred_y > 0.5) == true_y).sum().detach().cpu().item()"
   ]
  },
  {
   "cell_type": "code",
   "execution_count": 9,
   "metadata": {},
   "outputs": [],
   "source": [
    "set_seed(args)\n",
    "\n",
    "train_dataset = BERTDataset(args, train, tokenizer)\n",
    "valid_dataset = BERTDataset(args, valid, tokenizer)\n",
    "\n",
    "train_dataloader = DataLoader(train_dataset, batch_size=args.batch_size, num_workers=4)\n",
    "valid_dataloader = DataLoader(valid_dataset, batch_size=args.batch_size, num_workers=4)\n",
    "\n",
    "\n",
    "model = BERTClassifier(args, bert_model)\n",
    "model.to(args.device)\n",
    "\n",
    "\n",
    "criterion = nn.BCEWithLogitsLoss().to(args.device)\n",
    "optimizer =optim.Adam(model.parameters(), lr = args.learning_rate, weight_decay = 0.001)"
   ]
  },
  {
   "cell_type": "code",
   "execution_count": 10,
   "metadata": {},
   "outputs": [
    {
     "name": "stderr",
     "output_type": "stream",
     "text": [
      "training...: 100%|██████████| 3394/3394 [06:53<00:00,  8.21it/s]\n",
      "evaluating...: 100%|██████████| 378/378 [00:36<00:00, 10.23it/s]\n"
     ]
    },
    {
     "name": "stdout",
     "output_type": "stream",
     "text": [
      "epoch [1/200], elapsed time: 7m, 30.12s\n",
      "train loss: 0.0013\ttrain accuracy: 84.26%\n",
      "test loss: 0.0012\ttest accuracy: 86.94%\n",
      "\n"
     ]
    },
    {
     "name": "stderr",
     "output_type": "stream",
     "text": [
      "training...: 100%|██████████| 3394/3394 [06:54<00:00,  8.18it/s]\n",
      "evaluating...: 100%|██████████| 378/378 [00:36<00:00, 10.33it/s]\n"
     ]
    },
    {
     "name": "stdout",
     "output_type": "stream",
     "text": [
      "epoch [2/200], elapsed time: 7m, 31.31s\n",
      "train loss: 0.0012\ttrain accuracy: 86.78%\n",
      "test loss: 0.0011\ttest accuracy: 87.55%\n",
      "\n"
     ]
    },
    {
     "name": "stderr",
     "output_type": "stream",
     "text": [
      "training...: 100%|██████████| 3394/3394 [06:55<00:00,  8.18it/s]\n",
      "evaluating...: 100%|██████████| 378/378 [00:37<00:00, 10.16it/s]\n"
     ]
    },
    {
     "name": "stdout",
     "output_type": "stream",
     "text": [
      "epoch [3/200], elapsed time: 7m, 32.35s\n",
      "train loss: 0.0011\ttrain accuracy: 87.31%\n",
      "test loss: 0.0011\ttest accuracy: 87.62%\n",
      "\n"
     ]
    },
    {
     "name": "stderr",
     "output_type": "stream",
     "text": [
      "training...: 100%|██████████| 3394/3394 [06:54<00:00,  8.19it/s]\n",
      "evaluating...: 100%|██████████| 378/378 [00:37<00:00, 10.19it/s]\n"
     ]
    },
    {
     "name": "stdout",
     "output_type": "stream",
     "text": [
      "epoch [4/200], elapsed time: 7m, 31.73s\n",
      "train loss: 0.0011\ttrain accuracy: 87.52%\n",
      "test loss: 0.0011\ttest accuracy: 87.71%\n",
      "\n"
     ]
    },
    {
     "name": "stderr",
     "output_type": "stream",
     "text": [
      "training...: 100%|██████████| 3394/3394 [06:54<00:00,  8.19it/s]\n",
      "evaluating...: 100%|██████████| 378/378 [00:37<00:00, 10.16it/s]\n"
     ]
    },
    {
     "name": "stdout",
     "output_type": "stream",
     "text": [
      "epoch [5/200], elapsed time: 7m, 31.85s\n",
      "train loss: 0.0011\ttrain accuracy: 87.66%\n",
      "test loss: 0.0011\ttest accuracy: 87.66%\n",
      "\n"
     ]
    },
    {
     "name": "stderr",
     "output_type": "stream",
     "text": [
      "training...: 100%|██████████| 3394/3394 [06:54<00:00,  8.18it/s]\n",
      "evaluating...: 100%|██████████| 378/378 [00:37<00:00, 10.14it/s]\n"
     ]
    },
    {
     "name": "stdout",
     "output_type": "stream",
     "text": [
      "epoch [6/200], elapsed time: 7m, 32.10s\n",
      "train loss: 0.0011\ttrain accuracy: 87.79%\n",
      "test loss: 0.0011\ttest accuracy: 87.57%\n",
      "\n"
     ]
    },
    {
     "name": "stderr",
     "output_type": "stream",
     "text": [
      "training...: 100%|██████████| 3394/3394 [06:54<00:00,  8.19it/s]\n",
      "evaluating...: 100%|██████████| 378/378 [00:36<00:00, 10.25it/s]\n"
     ]
    },
    {
     "name": "stdout",
     "output_type": "stream",
     "text": [
      "epoch [7/200], elapsed time: 7m, 31.25s\n",
      "train loss: 0.0011\ttrain accuracy: 87.90%\n",
      "test loss: 0.0011\ttest accuracy: 87.67%\n",
      "\n"
     ]
    },
    {
     "name": "stderr",
     "output_type": "stream",
     "text": [
      "training...: 100%|██████████| 3394/3394 [06:54<00:00,  8.19it/s]\n",
      "evaluating...: 100%|██████████| 378/378 [00:37<00:00, 10.13it/s]\n"
     ]
    },
    {
     "name": "stdout",
     "output_type": "stream",
     "text": [
      "epoch [8/200], elapsed time: 7m, 31.61s\n",
      "train loss: 0.0011\ttrain accuracy: 88.00%\n",
      "test loss: 0.0011\ttest accuracy: 87.62%\n",
      "\n"
     ]
    },
    {
     "name": "stderr",
     "output_type": "stream",
     "text": [
      "training...: 100%|██████████| 3394/3394 [06:54<00:00,  8.19it/s]\n",
      "evaluating...: 100%|██████████| 378/378 [00:36<00:00, 10.39it/s]\n"
     ]
    },
    {
     "name": "stdout",
     "output_type": "stream",
     "text": [
      "epoch [9/200], elapsed time: 7m, 30.96s\n",
      "train loss: 0.0011\ttrain accuracy: 88.05%\n",
      "test loss: 0.0011\ttest accuracy: 87.62%\n",
      "\n"
     ]
    },
    {
     "name": "stderr",
     "output_type": "stream",
     "text": [
      "training...: 100%|██████████| 3394/3394 [06:50<00:00,  8.26it/s]\n",
      "evaluating...: 100%|██████████| 378/378 [00:36<00:00, 10.33it/s]\n"
     ]
    },
    {
     "name": "stdout",
     "output_type": "stream",
     "text": [
      "epoch [10/200], elapsed time: 7m, 27.53s\n",
      "train loss: 0.0011\ttrain accuracy: 88.14%\n",
      "test loss: 0.0011\ttest accuracy: 87.52%\n",
      "\n"
     ]
    },
    {
     "name": "stderr",
     "output_type": "stream",
     "text": [
      "training...: 100%|██████████| 3394/3394 [06:51<00:00,  8.26it/s]\n",
      "evaluating...: 100%|██████████| 378/378 [00:36<00:00, 10.29it/s]\n"
     ]
    },
    {
     "name": "stdout",
     "output_type": "stream",
     "text": [
      "epoch [11/200], elapsed time: 7m, 27.75s\n",
      "train loss: 0.0010\ttrain accuracy: 88.18%\n",
      "test loss: 0.0011\ttest accuracy: 87.55%\n",
      "\n"
     ]
    },
    {
     "name": "stderr",
     "output_type": "stream",
     "text": [
      "training...: 100%|██████████| 3394/3394 [06:51<00:00,  8.25it/s]\n",
      "evaluating...: 100%|██████████| 378/378 [00:36<00:00, 10.40it/s]\n"
     ]
    },
    {
     "name": "stdout",
     "output_type": "stream",
     "text": [
      "epoch [12/200], elapsed time: 7m, 27.79s\n",
      "train loss: 0.0010\ttrain accuracy: 88.28%\n",
      "test loss: 0.0011\ttest accuracy: 87.52%\n",
      "\n"
     ]
    },
    {
     "name": "stderr",
     "output_type": "stream",
     "text": [
      "training...: 100%|██████████| 3394/3394 [06:51<00:00,  8.25it/s]\n",
      "evaluating...: 100%|██████████| 378/378 [00:35<00:00, 10.51it/s]\n"
     ]
    },
    {
     "name": "stdout",
     "output_type": "stream",
     "text": [
      "epoch [13/200], elapsed time: 7m, 27.31s\n",
      "train loss: 0.0010\ttrain accuracy: 88.29%\n",
      "test loss: 0.0011\ttest accuracy: 87.18%\n",
      "\n"
     ]
    },
    {
     "name": "stderr",
     "output_type": "stream",
     "text": [
      "training...: 100%|██████████| 3394/3394 [06:52<00:00,  8.22it/s]\n",
      "evaluating...: 100%|██████████| 378/378 [00:36<00:00, 10.33it/s]\n"
     ]
    },
    {
     "name": "stdout",
     "output_type": "stream",
     "text": [
      "epoch [14/200], elapsed time: 7m, 29.46s\n",
      "train loss: 0.0010\ttrain accuracy: 88.37%\n",
      "test loss: 0.0011\ttest accuracy: 87.52%\n",
      "\n"
     ]
    },
    {
     "name": "stderr",
     "output_type": "stream",
     "text": [
      "training...: 100%|██████████| 3394/3394 [06:52<00:00,  8.22it/s]\n",
      "evaluating...: 100%|██████████| 378/378 [00:36<00:00, 10.34it/s]\n"
     ]
    },
    {
     "name": "stdout",
     "output_type": "stream",
     "text": [
      "epoch [15/200], elapsed time: 7m, 29.29s\n",
      "train loss: 0.0010\ttrain accuracy: 88.44%\n",
      "test loss: 0.0011\ttest accuracy: 87.50%\n",
      "\n"
     ]
    },
    {
     "name": "stderr",
     "output_type": "stream",
     "text": [
      "training...: 100%|██████████| 3394/3394 [06:52<00:00,  8.22it/s]\n",
      "evaluating...: 100%|██████████| 378/378 [00:36<00:00, 10.28it/s]\n"
     ]
    },
    {
     "name": "stdout",
     "output_type": "stream",
     "text": [
      "epoch [16/200], elapsed time: 7m, 29.62s\n",
      "train loss: 0.0010\ttrain accuracy: 88.49%\n",
      "test loss: 0.0011\ttest accuracy: 87.40%\n",
      "\n"
     ]
    },
    {
     "name": "stderr",
     "output_type": "stream",
     "text": [
      "training...: 100%|██████████| 3394/3394 [06:53<00:00,  8.21it/s]\n",
      "evaluating...: 100%|██████████| 378/378 [00:36<00:00, 10.38it/s]\n"
     ]
    },
    {
     "name": "stdout",
     "output_type": "stream",
     "text": [
      "epoch [17/200], elapsed time: 7m, 29.62s\n",
      "train loss: 0.0010\ttrain accuracy: 88.54%\n",
      "test loss: 0.0011\ttest accuracy: 87.34%\n",
      "\n"
     ]
    },
    {
     "name": "stderr",
     "output_type": "stream",
     "text": [
      "training...: 100%|██████████| 3394/3394 [06:52<00:00,  8.24it/s]\n",
      "evaluating...: 100%|██████████| 378/378 [00:36<00:00, 10.31it/s]\n"
     ]
    },
    {
     "name": "stdout",
     "output_type": "stream",
     "text": [
      "epoch [18/200], elapsed time: 7m, 28.70s\n",
      "train loss: 0.0010\ttrain accuracy: 88.61%\n",
      "test loss: 0.0011\ttest accuracy: 87.44%\n",
      "\n"
     ]
    },
    {
     "name": "stderr",
     "output_type": "stream",
     "text": [
      "training...: 100%|██████████| 3394/3394 [06:51<00:00,  8.24it/s]\n",
      "evaluating...: 100%|██████████| 378/378 [00:36<00:00, 10.40it/s]\n"
     ]
    },
    {
     "name": "stdout",
     "output_type": "stream",
     "text": [
      "epoch [19/200], elapsed time: 7m, 28.08s\n",
      "train loss: 0.0010\ttrain accuracy: 88.69%\n",
      "test loss: 0.0011\ttest accuracy: 87.36%\n",
      "\n"
     ]
    },
    {
     "name": "stderr",
     "output_type": "stream",
     "text": [
      "training...: 100%|██████████| 3394/3394 [06:51<00:00,  8.25it/s]\n",
      "evaluating...: 100%|██████████| 378/378 [00:36<00:00, 10.36it/s]\n"
     ]
    },
    {
     "name": "stdout",
     "output_type": "stream",
     "text": [
      "epoch [20/200], elapsed time: 7m, 27.67s\n",
      "train loss: 0.0010\ttrain accuracy: 88.74%\n",
      "test loss: 0.0012\ttest accuracy: 87.21%\n",
      "\n"
     ]
    },
    {
     "name": "stderr",
     "output_type": "stream",
     "text": [
      "training...: 100%|██████████| 3394/3394 [06:50<00:00,  8.28it/s]\n",
      "evaluating...: 100%|██████████| 378/378 [00:37<00:00,  9.99it/s]\n"
     ]
    },
    {
     "name": "stdout",
     "output_type": "stream",
     "text": [
      "epoch [21/200], elapsed time: 7m, 27.94s\n",
      "train loss: 0.0010\ttrain accuracy: 88.80%\n",
      "test loss: 0.0012\ttest accuracy: 87.35%\n",
      "\n"
     ]
    },
    {
     "name": "stderr",
     "output_type": "stream",
     "text": [
      "training...: 100%|██████████| 3394/3394 [06:49<00:00,  8.29it/s]\n",
      "evaluating...: 100%|██████████| 378/378 [00:37<00:00, 10.19it/s]\n"
     ]
    },
    {
     "name": "stdout",
     "output_type": "stream",
     "text": [
      "epoch [22/200], elapsed time: 7m, 26.51s\n",
      "train loss: 0.0010\ttrain accuracy: 88.87%\n",
      "test loss: 0.0012\ttest accuracy: 87.24%\n",
      "\n"
     ]
    },
    {
     "name": "stderr",
     "output_type": "stream",
     "text": [
      "training...: 100%|██████████| 3394/3394 [06:49<00:00,  8.29it/s]\n",
      "evaluating...: 100%|██████████| 378/378 [00:37<00:00, 10.07it/s]\n"
     ]
    },
    {
     "name": "stdout",
     "output_type": "stream",
     "text": [
      "epoch [23/200], elapsed time: 7m, 26.97s\n",
      "train loss: 0.0010\ttrain accuracy: 88.94%\n",
      "test loss: 0.0012\ttest accuracy: 87.36%\n",
      "\n"
     ]
    },
    {
     "name": "stderr",
     "output_type": "stream",
     "text": [
      "training...: 100%|██████████| 3394/3394 [06:49<00:00,  8.29it/s]\n",
      "evaluating...: 100%|██████████| 378/378 [00:37<00:00, 10.13it/s]\n"
     ]
    },
    {
     "name": "stdout",
     "output_type": "stream",
     "text": [
      "epoch [24/200], elapsed time: 7m, 26.88s\n",
      "train loss: 0.0010\ttrain accuracy: 89.01%\n",
      "test loss: 0.0012\ttest accuracy: 87.24%\n",
      "\n"
     ]
    },
    {
     "name": "stderr",
     "output_type": "stream",
     "text": [
      "training...: 100%|██████████| 3394/3394 [06:49<00:00,  8.30it/s]\n",
      "evaluating...: 100%|██████████| 378/378 [00:38<00:00,  9.84it/s]\n"
     ]
    },
    {
     "name": "stdout",
     "output_type": "stream",
     "text": [
      "epoch [25/200], elapsed time: 7m, 27.57s\n",
      "train loss: 0.0010\ttrain accuracy: 89.09%\n",
      "test loss: 0.0012\ttest accuracy: 86.97%\n",
      "\n"
     ]
    },
    {
     "name": "stderr",
     "output_type": "stream",
     "text": [
      "training...: 100%|██████████| 3394/3394 [06:49<00:00,  8.30it/s]\n",
      "evaluating...: 100%|██████████| 378/378 [00:37<00:00, 10.11it/s]\n"
     ]
    },
    {
     "name": "stdout",
     "output_type": "stream",
     "text": [
      "epoch [26/200], elapsed time: 7m, 26.54s\n",
      "train loss: 0.0010\ttrain accuracy: 89.18%\n",
      "test loss: 0.0012\ttest accuracy: 87.11%\n",
      "\n"
     ]
    },
    {
     "name": "stderr",
     "output_type": "stream",
     "text": [
      "training...: 100%|██████████| 3394/3394 [06:49<00:00,  8.29it/s]\n",
      "evaluating...: 100%|██████████| 378/378 [00:37<00:00, 10.06it/s]\n"
     ]
    },
    {
     "name": "stdout",
     "output_type": "stream",
     "text": [
      "epoch [27/200], elapsed time: 7m, 26.85s\n",
      "train loss: 0.0010\ttrain accuracy: 89.21%\n",
      "test loss: 0.0012\ttest accuracy: 86.99%\n",
      "\n"
     ]
    },
    {
     "name": "stderr",
     "output_type": "stream",
     "text": [
      "training...: 100%|██████████| 3394/3394 [06:49<00:00,  8.29it/s]\n",
      "evaluating...: 100%|██████████| 378/378 [00:37<00:00, 10.05it/s]\n"
     ]
    },
    {
     "name": "stdout",
     "output_type": "stream",
     "text": [
      "epoch [28/200], elapsed time: 7m, 27.26s\n",
      "train loss: 0.0010\ttrain accuracy: 89.32%\n",
      "test loss: 0.0012\ttest accuracy: 86.99%\n",
      "\n"
     ]
    },
    {
     "name": "stderr",
     "output_type": "stream",
     "text": [
      "training...: 100%|██████████| 3394/3394 [06:50<00:00,  8.27it/s]\n",
      "evaluating...: 100%|██████████| 378/378 [00:37<00:00,  9.98it/s]\n"
     ]
    },
    {
     "name": "stdout",
     "output_type": "stream",
     "text": [
      "epoch [29/200], elapsed time: 7m, 28.07s\n",
      "train loss: 0.0010\ttrain accuracy: 89.39%\n",
      "test loss: 0.0012\ttest accuracy: 87.08%\n",
      "\n"
     ]
    },
    {
     "name": "stderr",
     "output_type": "stream",
     "text": [
      "training...: 100%|██████████| 3394/3394 [06:50<00:00,  8.27it/s]\n",
      "evaluating...: 100%|██████████| 378/378 [00:37<00:00, 10.01it/s]\n"
     ]
    },
    {
     "name": "stdout",
     "output_type": "stream",
     "text": [
      "epoch [30/200], elapsed time: 7m, 28.11s\n",
      "train loss: 0.0009\ttrain accuracy: 89.49%\n",
      "test loss: 0.0012\ttest accuracy: 86.92%\n",
      "\n"
     ]
    },
    {
     "name": "stderr",
     "output_type": "stream",
     "text": [
      "training...: 100%|██████████| 3394/3394 [06:50<00:00,  8.26it/s]\n",
      "evaluating...: 100%|██████████| 378/378 [00:37<00:00,  9.98it/s]\n"
     ]
    },
    {
     "name": "stdout",
     "output_type": "stream",
     "text": [
      "epoch [31/200], elapsed time: 7m, 28.62s\n",
      "train loss: 0.0009\ttrain accuracy: 89.58%\n",
      "test loss: 0.0013\ttest accuracy: 86.97%\n",
      "\n"
     ]
    },
    {
     "name": "stderr",
     "output_type": "stream",
     "text": [
      "training...: 100%|██████████| 3394/3394 [06:50<00:00,  8.26it/s]\n",
      "evaluating...: 100%|██████████| 378/378 [00:37<00:00, 10.03it/s]\n"
     ]
    },
    {
     "name": "stdout",
     "output_type": "stream",
     "text": [
      "epoch [32/200], elapsed time: 7m, 28.45s\n",
      "train loss: 0.0009\ttrain accuracy: 89.65%\n",
      "test loss: 0.0013\ttest accuracy: 86.81%\n",
      "\n"
     ]
    },
    {
     "name": "stderr",
     "output_type": "stream",
     "text": [
      "training...: 100%|██████████| 3394/3394 [06:50<00:00,  8.26it/s]\n",
      "evaluating...: 100%|██████████| 378/378 [00:37<00:00,  9.97it/s]\n"
     ]
    },
    {
     "name": "stdout",
     "output_type": "stream",
     "text": [
      "epoch [33/200], elapsed time: 7m, 28.66s\n",
      "train loss: 0.0009\ttrain accuracy: 89.76%\n",
      "test loss: 0.0013\ttest accuracy: 86.75%\n",
      "\n"
     ]
    },
    {
     "name": "stderr",
     "output_type": "stream",
     "text": [
      "training...: 100%|██████████| 3394/3394 [06:52<00:00,  8.23it/s]\n",
      "evaluating...: 100%|██████████| 378/378 [00:36<00:00, 10.27it/s]\n"
     ]
    },
    {
     "name": "stdout",
     "output_type": "stream",
     "text": [
      "epoch [34/200], elapsed time: 7m, 29.11s\n",
      "train loss: 0.0009\ttrain accuracy: 89.88%\n",
      "test loss: 0.0013\ttest accuracy: 86.88%\n",
      "\n"
     ]
    },
    {
     "name": "stderr",
     "output_type": "stream",
     "text": [
      "training...: 100%|██████████| 3394/3394 [06:52<00:00,  8.24it/s]\n",
      "evaluating...: 100%|██████████| 378/378 [00:36<00:00, 10.29it/s]\n"
     ]
    },
    {
     "name": "stdout",
     "output_type": "stream",
     "text": [
      "epoch [35/200], elapsed time: 7m, 28.80s\n",
      "train loss: 0.0009\ttrain accuracy: 89.97%\n",
      "test loss: 0.0013\ttest accuracy: 86.84%\n",
      "\n"
     ]
    },
    {
     "name": "stderr",
     "output_type": "stream",
     "text": [
      "training...: 100%|██████████| 3394/3394 [06:51<00:00,  8.25it/s]\n",
      "evaluating...: 100%|██████████| 378/378 [00:36<00:00, 10.47it/s]\n"
     ]
    },
    {
     "name": "stdout",
     "output_type": "stream",
     "text": [
      "epoch [36/200], elapsed time: 7m, 27.69s\n",
      "train loss: 0.0009\ttrain accuracy: 90.06%\n",
      "test loss: 0.0014\ttest accuracy: 86.91%\n",
      "\n"
     ]
    },
    {
     "name": "stderr",
     "output_type": "stream",
     "text": [
      "training...: 100%|██████████| 3394/3394 [06:50<00:00,  8.27it/s]\n",
      "evaluating...: 100%|██████████| 378/378 [00:37<00:00, 10.07it/s]\n"
     ]
    },
    {
     "name": "stdout",
     "output_type": "stream",
     "text": [
      "epoch [37/200], elapsed time: 7m, 27.73s\n",
      "train loss: 0.0009\ttrain accuracy: 90.13%\n",
      "test loss: 0.0013\ttest accuracy: 86.83%\n",
      "\n"
     ]
    },
    {
     "name": "stderr",
     "output_type": "stream",
     "text": [
      "training...: 100%|██████████| 3394/3394 [06:49<00:00,  8.29it/s]\n",
      "evaluating...: 100%|██████████| 378/378 [00:37<00:00, 10.08it/s]\n"
     ]
    },
    {
     "name": "stdout",
     "output_type": "stream",
     "text": [
      "epoch [38/200], elapsed time: 7m, 26.69s\n",
      "train loss: 0.0009\ttrain accuracy: 90.23%\n",
      "test loss: 0.0014\ttest accuracy: 86.64%\n",
      "\n"
     ]
    },
    {
     "name": "stderr",
     "output_type": "stream",
     "text": [
      "training...: 100%|██████████| 3394/3394 [06:48<00:00,  8.30it/s]\n",
      "evaluating...: 100%|██████████| 378/378 [00:37<00:00, 10.14it/s]\n"
     ]
    },
    {
     "name": "stdout",
     "output_type": "stream",
     "text": [
      "epoch [39/200], elapsed time: 7m, 26.15s\n",
      "train loss: 0.0009\ttrain accuracy: 90.35%\n",
      "test loss: 0.0014\ttest accuracy: 86.78%\n",
      "\n"
     ]
    },
    {
     "name": "stderr",
     "output_type": "stream",
     "text": [
      "training...: 100%|██████████| 3394/3394 [06:48<00:00,  8.30it/s]\n",
      "evaluating...: 100%|██████████| 378/378 [00:36<00:00, 10.24it/s]\n"
     ]
    },
    {
     "name": "stdout",
     "output_type": "stream",
     "text": [
      "epoch [40/200], elapsed time: 7m, 25.70s\n",
      "train loss: 0.0009\ttrain accuracy: 90.52%\n",
      "test loss: 0.0014\ttest accuracy: 86.54%\n",
      "\n"
     ]
    },
    {
     "name": "stderr",
     "output_type": "stream",
     "text": [
      "training...: 100%|██████████| 3394/3394 [06:48<00:00,  8.31it/s]\n",
      "evaluating...: 100%|██████████| 378/378 [00:37<00:00, 10.16it/s]\n"
     ]
    },
    {
     "name": "stdout",
     "output_type": "stream",
     "text": [
      "epoch [41/200], elapsed time: 7m, 25.59s\n",
      "train loss: 0.0009\ttrain accuracy: 90.57%\n",
      "test loss: 0.0014\ttest accuracy: 86.62%\n",
      "\n"
     ]
    },
    {
     "name": "stderr",
     "output_type": "stream",
     "text": [
      "training...: 100%|██████████| 3394/3394 [06:48<00:00,  8.31it/s]\n",
      "evaluating...: 100%|██████████| 378/378 [00:37<00:00, 10.19it/s]\n"
     ]
    },
    {
     "name": "stdout",
     "output_type": "stream",
     "text": [
      "epoch [42/200], elapsed time: 7m, 25.38s\n",
      "train loss: 0.0008\ttrain accuracy: 90.68%\n",
      "test loss: 0.0015\ttest accuracy: 86.58%\n",
      "\n"
     ]
    },
    {
     "name": "stderr",
     "output_type": "stream",
     "text": [
      "training...: 100%|██████████| 3394/3394 [06:48<00:00,  8.31it/s]\n",
      "evaluating...: 100%|██████████| 378/378 [00:37<00:00, 10.13it/s]\n"
     ]
    },
    {
     "name": "stdout",
     "output_type": "stream",
     "text": [
      "epoch [43/200], elapsed time: 7m, 25.83s\n",
      "train loss: 0.0008\ttrain accuracy: 90.79%\n",
      "test loss: 0.0015\ttest accuracy: 86.43%\n",
      "\n"
     ]
    },
    {
     "name": "stderr",
     "output_type": "stream",
     "text": [
      "training...: 100%|██████████| 3394/3394 [06:48<00:00,  8.31it/s]\n",
      "evaluating...: 100%|██████████| 378/378 [00:37<00:00, 10.08it/s]\n"
     ]
    },
    {
     "name": "stdout",
     "output_type": "stream",
     "text": [
      "epoch [44/200], elapsed time: 7m, 26.01s\n",
      "train loss: 0.0008\ttrain accuracy: 90.88%\n",
      "test loss: 0.0015\ttest accuracy: 86.63%\n",
      "\n"
     ]
    },
    {
     "name": "stderr",
     "output_type": "stream",
     "text": [
      "training...: 100%|██████████| 3394/3394 [06:49<00:00,  8.30it/s]\n",
      "evaluating...: 100%|██████████| 378/378 [00:36<00:00, 10.43it/s]\n"
     ]
    },
    {
     "name": "stdout",
     "output_type": "stream",
     "text": [
      "epoch [45/200], elapsed time: 7m, 25.27s\n",
      "train loss: 0.0008\ttrain accuracy: 90.98%\n",
      "test loss: 0.0015\ttest accuracy: 86.26%\n",
      "\n"
     ]
    },
    {
     "name": "stderr",
     "output_type": "stream",
     "text": [
      "training...: 100%|██████████| 3394/3394 [06:51<00:00,  8.25it/s]\n",
      "evaluating...: 100%|██████████| 378/378 [00:36<00:00, 10.35it/s]\n"
     ]
    },
    {
     "name": "stdout",
     "output_type": "stream",
     "text": [
      "epoch [46/200], elapsed time: 7m, 27.95s\n",
      "train loss: 0.0008\ttrain accuracy: 91.11%\n",
      "test loss: 0.0015\ttest accuracy: 86.33%\n",
      "\n"
     ]
    },
    {
     "name": "stderr",
     "output_type": "stream",
     "text": [
      "training...: 100%|██████████| 3394/3394 [06:52<00:00,  8.23it/s]\n",
      "evaluating...: 100%|██████████| 378/378 [00:36<00:00, 10.23it/s]\n"
     ]
    },
    {
     "name": "stdout",
     "output_type": "stream",
     "text": [
      "epoch [47/200], elapsed time: 7m, 29.56s\n",
      "train loss: 0.0008\ttrain accuracy: 91.19%\n",
      "test loss: 0.0015\ttest accuracy: 86.19%\n",
      "\n"
     ]
    },
    {
     "name": "stderr",
     "output_type": "stream",
     "text": [
      "training...: 100%|██████████| 3394/3394 [06:53<00:00,  8.22it/s]\n",
      "evaluating...: 100%|██████████| 378/378 [00:36<00:00, 10.30it/s]\n"
     ]
    },
    {
     "name": "stdout",
     "output_type": "stream",
     "text": [
      "epoch [48/200], elapsed time: 7m, 29.83s\n",
      "train loss: 0.0008\ttrain accuracy: 91.27%\n",
      "test loss: 0.0015\ttest accuracy: 86.11%\n",
      "\n"
     ]
    },
    {
     "name": "stderr",
     "output_type": "stream",
     "text": [
      "training...: 100%|██████████| 3394/3394 [06:52<00:00,  8.22it/s]\n",
      "evaluating...: 100%|██████████| 378/378 [00:36<00:00, 10.49it/s]\n"
     ]
    },
    {
     "name": "stdout",
     "output_type": "stream",
     "text": [
      "epoch [49/200], elapsed time: 7m, 28.75s\n",
      "train loss: 0.0008\ttrain accuracy: 91.38%\n",
      "test loss: 0.0016\ttest accuracy: 86.05%\n",
      "\n"
     ]
    },
    {
     "name": "stderr",
     "output_type": "stream",
     "text": [
      "training...: 100%|██████████| 3394/3394 [06:52<00:00,  8.23it/s]\n",
      "evaluating...: 100%|██████████| 378/378 [00:36<00:00, 10.28it/s]\n"
     ]
    },
    {
     "name": "stdout",
     "output_type": "stream",
     "text": [
      "epoch [50/200], elapsed time: 7m, 29.02s\n",
      "train loss: 0.0008\ttrain accuracy: 91.46%\n",
      "test loss: 0.0016\ttest accuracy: 85.71%\n",
      "\n"
     ]
    },
    {
     "name": "stderr",
     "output_type": "stream",
     "text": [
      "training...: 100%|██████████| 3394/3394 [06:52<00:00,  8.24it/s]\n",
      "evaluating...: 100%|██████████| 378/378 [00:37<00:00, 10.20it/s]\n"
     ]
    },
    {
     "name": "stdout",
     "output_type": "stream",
     "text": [
      "epoch [51/200], elapsed time: 7m, 29.21s\n",
      "train loss: 0.0008\ttrain accuracy: 91.60%\n",
      "test loss: 0.0016\ttest accuracy: 85.95%\n",
      "\n"
     ]
    },
    {
     "name": "stderr",
     "output_type": "stream",
     "text": [
      "training...: 100%|██████████| 3394/3394 [06:51<00:00,  8.25it/s]\n",
      "evaluating...: 100%|██████████| 378/378 [00:36<00:00, 10.25it/s]\n"
     ]
    },
    {
     "name": "stdout",
     "output_type": "stream",
     "text": [
      "epoch [52/200], elapsed time: 7m, 28.17s\n",
      "train loss: 0.0008\ttrain accuracy: 91.65%\n",
      "test loss: 0.0016\ttest accuracy: 85.90%\n",
      "\n"
     ]
    },
    {
     "name": "stderr",
     "output_type": "stream",
     "text": [
      "training...: 100%|██████████| 3394/3394 [06:50<00:00,  8.26it/s]\n",
      "evaluating...: 100%|██████████| 378/378 [00:37<00:00, 10.03it/s]\n"
     ]
    },
    {
     "name": "stdout",
     "output_type": "stream",
     "text": [
      "epoch [53/200], elapsed time: 7m, 28.56s\n",
      "train loss: 0.0008\ttrain accuracy: 91.76%\n",
      "test loss: 0.0016\ttest accuracy: 85.70%\n",
      "\n"
     ]
    },
    {
     "name": "stderr",
     "output_type": "stream",
     "text": [
      "training...: 100%|██████████| 3394/3394 [06:48<00:00,  8.31it/s]\n",
      "evaluating...: 100%|██████████| 378/378 [00:37<00:00, 10.09it/s]\n"
     ]
    },
    {
     "name": "stdout",
     "output_type": "stream",
     "text": [
      "epoch [54/200], elapsed time: 7m, 25.98s\n",
      "train loss: 0.0008\ttrain accuracy: 91.86%\n",
      "test loss: 0.0017\ttest accuracy: 85.54%\n",
      "\n"
     ]
    },
    {
     "name": "stderr",
     "output_type": "stream",
     "text": [
      "training...: 100%|██████████| 3394/3394 [06:48<00:00,  8.30it/s]\n",
      "evaluating...: 100%|██████████| 378/378 [00:37<00:00, 10.08it/s]\n"
     ]
    },
    {
     "name": "stdout",
     "output_type": "stream",
     "text": [
      "epoch [55/200], elapsed time: 7m, 26.52s\n",
      "train loss: 0.0007\ttrain accuracy: 91.89%\n",
      "test loss: 0.0017\ttest accuracy: 85.54%\n",
      "\n"
     ]
    },
    {
     "name": "stderr",
     "output_type": "stream",
     "text": [
      "training...: 100%|██████████| 3394/3394 [06:48<00:00,  8.31it/s]\n",
      "evaluating...: 100%|██████████| 378/378 [00:37<00:00, 10.06it/s]\n"
     ]
    },
    {
     "name": "stdout",
     "output_type": "stream",
     "text": [
      "epoch [56/200], elapsed time: 7m, 26.02s\n",
      "train loss: 0.0007\ttrain accuracy: 91.99%\n",
      "test loss: 0.0017\ttest accuracy: 85.66%\n",
      "\n"
     ]
    },
    {
     "name": "stderr",
     "output_type": "stream",
     "text": [
      "training...: 100%|██████████| 3394/3394 [06:48<00:00,  8.31it/s]\n",
      "evaluating...: 100%|██████████| 378/378 [00:37<00:00, 10.15it/s]\n"
     ]
    },
    {
     "name": "stdout",
     "output_type": "stream",
     "text": [
      "epoch [57/200], elapsed time: 7m, 25.79s\n",
      "train loss: 0.0007\ttrain accuracy: 92.08%\n",
      "test loss: 0.0017\ttest accuracy: 85.36%\n",
      "\n"
     ]
    },
    {
     "name": "stderr",
     "output_type": "stream",
     "text": [
      "training...: 100%|██████████| 3394/3394 [06:48<00:00,  8.31it/s]\n",
      "evaluating...: 100%|██████████| 378/378 [00:37<00:00, 10.08it/s]\n"
     ]
    },
    {
     "name": "stdout",
     "output_type": "stream",
     "text": [
      "epoch [58/200], elapsed time: 7m, 26.08s\n",
      "train loss: 0.0007\ttrain accuracy: 92.14%\n",
      "test loss: 0.0017\ttest accuracy: 85.65%\n",
      "\n"
     ]
    },
    {
     "name": "stderr",
     "output_type": "stream",
     "text": [
      "training...: 100%|██████████| 3394/3394 [06:48<00:00,  8.30it/s]\n",
      "evaluating...: 100%|██████████| 378/378 [00:37<00:00, 10.08it/s]\n"
     ]
    },
    {
     "name": "stdout",
     "output_type": "stream",
     "text": [
      "epoch [59/200], elapsed time: 7m, 26.17s\n",
      "train loss: 0.0007\ttrain accuracy: 92.26%\n",
      "test loss: 0.0017\ttest accuracy: 85.40%\n",
      "\n"
     ]
    },
    {
     "name": "stderr",
     "output_type": "stream",
     "text": [
      "training...: 100%|██████████| 3394/3394 [06:48<00:00,  8.31it/s]\n",
      "evaluating...: 100%|██████████| 378/378 [00:37<00:00, 10.13it/s]\n"
     ]
    },
    {
     "name": "stdout",
     "output_type": "stream",
     "text": [
      "epoch [60/200], elapsed time: 7m, 25.87s\n",
      "train loss: 0.0007\ttrain accuracy: 92.36%\n",
      "test loss: 0.0018\ttest accuracy: 85.31%\n",
      "\n"
     ]
    },
    {
     "name": "stderr",
     "output_type": "stream",
     "text": [
      "training...: 100%|██████████| 3394/3394 [06:49<00:00,  8.29it/s]\n",
      "evaluating...: 100%|██████████| 378/378 [00:36<00:00, 10.41it/s]\n"
     ]
    },
    {
     "name": "stdout",
     "output_type": "stream",
     "text": [
      "epoch [61/200], elapsed time: 7m, 25.85s\n",
      "train loss: 0.0007\ttrain accuracy: 92.43%\n",
      "test loss: 0.0018\ttest accuracy: 85.31%\n",
      "\n"
     ]
    },
    {
     "name": "stderr",
     "output_type": "stream",
     "text": [
      "training...: 100%|██████████| 3394/3394 [06:52<00:00,  8.23it/s]\n",
      "evaluating...: 100%|██████████| 378/378 [00:36<00:00, 10.28it/s]\n"
     ]
    },
    {
     "name": "stdout",
     "output_type": "stream",
     "text": [
      "epoch [62/200], elapsed time: 7m, 29.13s\n",
      "train loss: 0.0007\ttrain accuracy: 92.52%\n",
      "test loss: 0.0018\ttest accuracy: 85.24%\n",
      "\n"
     ]
    },
    {
     "name": "stderr",
     "output_type": "stream",
     "text": [
      "training...: 100%|██████████| 3394/3394 [06:51<00:00,  8.24it/s]\n",
      "evaluating...: 100%|██████████| 378/378 [00:36<00:00, 10.28it/s]\n"
     ]
    },
    {
     "name": "stdout",
     "output_type": "stream",
     "text": [
      "epoch [63/200], elapsed time: 7m, 28.66s\n",
      "train loss: 0.0007\ttrain accuracy: 92.55%\n",
      "test loss: 0.0018\ttest accuracy: 85.00%\n",
      "\n"
     ]
    },
    {
     "name": "stderr",
     "output_type": "stream",
     "text": [
      "training...: 100%|██████████| 3394/3394 [06:52<00:00,  8.23it/s]\n",
      "evaluating...: 100%|██████████| 378/378 [00:36<00:00, 10.22it/s]\n"
     ]
    },
    {
     "name": "stdout",
     "output_type": "stream",
     "text": [
      "epoch [64/200], elapsed time: 7m, 29.23s\n",
      "train loss: 0.0007\ttrain accuracy: 92.61%\n",
      "test loss: 0.0018\ttest accuracy: 85.23%\n",
      "\n"
     ]
    },
    {
     "name": "stderr",
     "output_type": "stream",
     "text": [
      "training...: 100%|██████████| 3394/3394 [06:52<00:00,  8.23it/s]\n",
      "evaluating...: 100%|██████████| 378/378 [00:36<00:00, 10.38it/s]\n"
     ]
    },
    {
     "name": "stdout",
     "output_type": "stream",
     "text": [
      "epoch [65/200], elapsed time: 7m, 29.03s\n",
      "train loss: 0.0007\ttrain accuracy: 92.71%\n",
      "test loss: 0.0018\ttest accuracy: 84.90%\n",
      "\n"
     ]
    },
    {
     "name": "stderr",
     "output_type": "stream",
     "text": [
      "training...: 100%|██████████| 3394/3394 [06:52<00:00,  8.23it/s]\n",
      "evaluating...: 100%|██████████| 378/378 [00:37<00:00, 10.18it/s]\n"
     ]
    },
    {
     "name": "stdout",
     "output_type": "stream",
     "text": [
      "epoch [66/200], elapsed time: 7m, 29.39s\n",
      "train loss: 0.0007\ttrain accuracy: 92.78%\n",
      "test loss: 0.0019\ttest accuracy: 85.02%\n",
      "\n"
     ]
    },
    {
     "name": "stderr",
     "output_type": "stream",
     "text": [
      "training...: 100%|██████████| 3394/3394 [06:51<00:00,  8.25it/s]\n",
      "evaluating...: 100%|██████████| 378/378 [00:37<00:00, 10.08it/s]\n"
     ]
    },
    {
     "name": "stdout",
     "output_type": "stream",
     "text": [
      "epoch [67/200], elapsed time: 7m, 28.72s\n",
      "train loss: 0.0007\ttrain accuracy: 92.81%\n",
      "test loss: 0.0019\ttest accuracy: 84.77%\n",
      "\n"
     ]
    },
    {
     "name": "stderr",
     "output_type": "stream",
     "text": [
      "training...: 100%|██████████| 3394/3394 [06:51<00:00,  8.25it/s]\n",
      "evaluating...: 100%|██████████| 378/378 [00:37<00:00, 10.11it/s]\n"
     ]
    },
    {
     "name": "stdout",
     "output_type": "stream",
     "text": [
      "epoch [68/200], elapsed time: 7m, 28.98s\n",
      "train loss: 0.0007\ttrain accuracy: 92.91%\n",
      "test loss: 0.0019\ttest accuracy: 84.92%\n",
      "\n"
     ]
    },
    {
     "name": "stderr",
     "output_type": "stream",
     "text": [
      "training...: 100%|██████████| 3394/3394 [06:50<00:00,  8.26it/s]\n",
      "evaluating...: 100%|██████████| 378/378 [00:37<00:00, 10.06it/s]\n"
     ]
    },
    {
     "name": "stdout",
     "output_type": "stream",
     "text": [
      "epoch [69/200], elapsed time: 7m, 28.31s\n",
      "train loss: 0.0007\ttrain accuracy: 92.98%\n",
      "test loss: 0.0020\ttest accuracy: 83.95%\n",
      "\n"
     ]
    },
    {
     "name": "stderr",
     "output_type": "stream",
     "text": [
      "training...: 100%|██████████| 3394/3394 [06:49<00:00,  8.29it/s]\n",
      "evaluating...: 100%|██████████| 378/378 [00:37<00:00,  9.95it/s]\n"
     ]
    },
    {
     "name": "stdout",
     "output_type": "stream",
     "text": [
      "epoch [70/200], elapsed time: 7m, 27.64s\n",
      "train loss: 0.0007\ttrain accuracy: 93.05%\n",
      "test loss: 0.0019\ttest accuracy: 84.89%\n",
      "\n"
     ]
    },
    {
     "name": "stderr",
     "output_type": "stream",
     "text": [
      "training...: 100%|██████████| 3394/3394 [06:49<00:00,  8.29it/s]\n",
      "evaluating...: 100%|██████████| 378/378 [00:37<00:00, 10.14it/s]\n"
     ]
    },
    {
     "name": "stdout",
     "output_type": "stream",
     "text": [
      "epoch [71/200], elapsed time: 7m, 26.75s\n",
      "train loss: 0.0006\ttrain accuracy: 93.13%\n",
      "test loss: 0.0019\ttest accuracy: 84.73%\n",
      "\n"
     ]
    },
    {
     "name": "stderr",
     "output_type": "stream",
     "text": [
      "training...: 100%|██████████| 3394/3394 [06:49<00:00,  8.29it/s]\n",
      "evaluating...: 100%|██████████| 378/378 [00:37<00:00, 10.10it/s]\n"
     ]
    },
    {
     "name": "stdout",
     "output_type": "stream",
     "text": [
      "epoch [72/200], elapsed time: 7m, 26.60s\n",
      "train loss: 0.0006\ttrain accuracy: 93.22%\n",
      "test loss: 0.0020\ttest accuracy: 84.38%\n",
      "\n"
     ]
    },
    {
     "name": "stderr",
     "output_type": "stream",
     "text": [
      "training...: 100%|██████████| 3394/3394 [06:49<00:00,  8.29it/s]\n",
      "evaluating...: 100%|██████████| 378/378 [00:37<00:00, 10.10it/s]\n"
     ]
    },
    {
     "name": "stdout",
     "output_type": "stream",
     "text": [
      "epoch [73/200], elapsed time: 7m, 26.93s\n",
      "train loss: 0.0006\ttrain accuracy: 93.21%\n",
      "test loss: 0.0020\ttest accuracy: 84.46%\n",
      "\n"
     ]
    },
    {
     "name": "stderr",
     "output_type": "stream",
     "text": [
      "training...: 100%|██████████| 3394/3394 [06:49<00:00,  8.29it/s]\n",
      "evaluating...: 100%|██████████| 378/378 [00:36<00:00, 10.25it/s]\n"
     ]
    },
    {
     "name": "stdout",
     "output_type": "stream",
     "text": [
      "epoch [74/200], elapsed time: 7m, 26.49s\n",
      "train loss: 0.0006\ttrain accuracy: 93.26%\n",
      "test loss: 0.0019\ttest accuracy: 84.93%\n",
      "\n"
     ]
    },
    {
     "name": "stderr",
     "output_type": "stream",
     "text": [
      "training...: 100%|██████████| 3394/3394 [06:50<00:00,  8.26it/s]\n",
      "evaluating...: 100%|██████████| 378/378 [00:36<00:00, 10.27it/s]\n"
     ]
    },
    {
     "name": "stdout",
     "output_type": "stream",
     "text": [
      "epoch [75/200], elapsed time: 7m, 27.78s\n",
      "train loss: 0.0006\ttrain accuracy: 93.38%\n",
      "test loss: 0.0020\ttest accuracy: 84.63%\n",
      "\n"
     ]
    },
    {
     "name": "stderr",
     "output_type": "stream",
     "text": [
      "training...: 100%|██████████| 3394/3394 [06:50<00:00,  8.27it/s]\n",
      "evaluating...: 100%|██████████| 378/378 [00:36<00:00, 10.30it/s]\n"
     ]
    },
    {
     "name": "stdout",
     "output_type": "stream",
     "text": [
      "epoch [76/200], elapsed time: 7m, 27.24s\n",
      "train loss: 0.0006\ttrain accuracy: 93.41%\n",
      "test loss: 0.0020\ttest accuracy: 84.75%\n",
      "\n"
     ]
    },
    {
     "name": "stderr",
     "output_type": "stream",
     "text": [
      "training...: 100%|██████████| 3394/3394 [06:50<00:00,  8.27it/s]\n",
      "evaluating...: 100%|██████████| 378/378 [00:36<00:00, 10.23it/s]\n"
     ]
    },
    {
     "name": "stdout",
     "output_type": "stream",
     "text": [
      "epoch [77/200], elapsed time: 7m, 27.26s\n",
      "train loss: 0.0006\ttrain accuracy: 93.48%\n",
      "test loss: 0.0020\ttest accuracy: 84.43%\n",
      "\n"
     ]
    },
    {
     "name": "stderr",
     "output_type": "stream",
     "text": [
      "training...: 100%|██████████| 3394/3394 [06:50<00:00,  8.27it/s]\n",
      "evaluating...: 100%|██████████| 378/378 [00:36<00:00, 10.37it/s]\n"
     ]
    },
    {
     "name": "stdout",
     "output_type": "stream",
     "text": [
      "epoch [78/200], elapsed time: 7m, 26.94s\n",
      "train loss: 0.0006\ttrain accuracy: 93.50%\n",
      "test loss: 0.0020\ttest accuracy: 84.86%\n",
      "\n"
     ]
    },
    {
     "name": "stderr",
     "output_type": "stream",
     "text": [
      "training...: 100%|██████████| 3394/3394 [06:52<00:00,  8.23it/s]\n",
      "evaluating...: 100%|██████████| 378/378 [00:36<00:00, 10.36it/s]\n"
     ]
    },
    {
     "name": "stdout",
     "output_type": "stream",
     "text": [
      "epoch [79/200], elapsed time: 7m, 28.82s\n",
      "train loss: 0.0006\ttrain accuracy: 93.57%\n",
      "test loss: 0.0020\ttest accuracy: 84.82%\n",
      "\n"
     ]
    },
    {
     "name": "stderr",
     "output_type": "stream",
     "text": [
      "training...: 100%|██████████| 3394/3394 [06:52<00:00,  8.23it/s]\n",
      "evaluating...: 100%|██████████| 378/378 [00:36<00:00, 10.25it/s]\n"
     ]
    },
    {
     "name": "stdout",
     "output_type": "stream",
     "text": [
      "epoch [80/200], elapsed time: 7m, 29.36s\n",
      "train loss: 0.0006\ttrain accuracy: 93.68%\n",
      "test loss: 0.0021\ttest accuracy: 84.70%\n",
      "\n"
     ]
    },
    {
     "name": "stderr",
     "output_type": "stream",
     "text": [
      "training...: 100%|██████████| 3394/3394 [06:52<00:00,  8.23it/s]\n",
      "evaluating...: 100%|██████████| 378/378 [00:36<00:00, 10.45it/s]\n"
     ]
    },
    {
     "name": "stdout",
     "output_type": "stream",
     "text": [
      "epoch [81/200], elapsed time: 7m, 28.83s\n",
      "train loss: 0.0006\ttrain accuracy: 93.68%\n",
      "test loss: 0.0021\ttest accuracy: 84.67%\n",
      "\n"
     ]
    },
    {
     "name": "stderr",
     "output_type": "stream",
     "text": [
      "training...: 100%|██████████| 3394/3394 [06:52<00:00,  8.22it/s]\n",
      "evaluating...: 100%|██████████| 378/378 [00:36<00:00, 10.39it/s]\n"
     ]
    },
    {
     "name": "stdout",
     "output_type": "stream",
     "text": [
      "epoch [82/200], elapsed time: 7m, 29.21s\n",
      "train loss: 0.0006\ttrain accuracy: 93.71%\n",
      "test loss: 0.0021\ttest accuracy: 84.70%\n",
      "\n"
     ]
    },
    {
     "name": "stderr",
     "output_type": "stream",
     "text": [
      "training...: 100%|██████████| 3394/3394 [06:52<00:00,  8.23it/s]\n",
      "evaluating...: 100%|██████████| 378/378 [00:36<00:00, 10.38it/s]\n"
     ]
    },
    {
     "name": "stdout",
     "output_type": "stream",
     "text": [
      "epoch [83/200], elapsed time: 7m, 29.00s\n",
      "train loss: 0.0006\ttrain accuracy: 93.78%\n",
      "test loss: 0.0021\ttest accuracy: 84.58%\n",
      "\n"
     ]
    },
    {
     "name": "stderr",
     "output_type": "stream",
     "text": [
      "training...: 100%|██████████| 3394/3394 [06:53<00:00,  8.21it/s]\n",
      "evaluating...: 100%|██████████| 378/378 [00:36<00:00, 10.36it/s]\n"
     ]
    },
    {
     "name": "stdout",
     "output_type": "stream",
     "text": [
      "epoch [84/200], elapsed time: 7m, 29.71s\n",
      "train loss: 0.0006\ttrain accuracy: 93.81%\n",
      "test loss: 0.0021\ttest accuracy: 84.84%\n",
      "\n"
     ]
    },
    {
     "name": "stderr",
     "output_type": "stream",
     "text": [
      "training...: 100%|██████████| 3394/3394 [06:52<00:00,  8.22it/s]\n",
      "evaluating...: 100%|██████████| 378/378 [00:37<00:00, 10.06it/s]\n"
     ]
    },
    {
     "name": "stdout",
     "output_type": "stream",
     "text": [
      "epoch [85/200], elapsed time: 7m, 30.35s\n",
      "train loss: 0.0006\ttrain accuracy: 93.89%\n",
      "test loss: 0.0021\ttest accuracy: 84.54%\n",
      "\n"
     ]
    },
    {
     "name": "stderr",
     "output_type": "stream",
     "text": [
      "training...: 100%|██████████| 3394/3394 [06:49<00:00,  8.29it/s]\n",
      "evaluating...: 100%|██████████| 378/378 [00:38<00:00,  9.94it/s]\n"
     ]
    },
    {
     "name": "stdout",
     "output_type": "stream",
     "text": [
      "epoch [86/200], elapsed time: 7m, 27.64s\n",
      "train loss: 0.0006\ttrain accuracy: 93.91%\n",
      "test loss: 0.0021\ttest accuracy: 84.56%\n",
      "\n"
     ]
    },
    {
     "name": "stderr",
     "output_type": "stream",
     "text": [
      "training...: 100%|██████████| 3394/3394 [06:48<00:00,  8.30it/s]\n",
      "evaluating...: 100%|██████████| 378/378 [00:37<00:00, 10.08it/s]\n"
     ]
    },
    {
     "name": "stdout",
     "output_type": "stream",
     "text": [
      "epoch [87/200], elapsed time: 7m, 26.48s\n",
      "train loss: 0.0006\ttrain accuracy: 93.98%\n",
      "test loss: 0.0022\ttest accuracy: 84.57%\n",
      "\n"
     ]
    },
    {
     "name": "stderr",
     "output_type": "stream",
     "text": [
      "training...: 100%|██████████| 3394/3394 [06:48<00:00,  8.30it/s]\n",
      "evaluating...: 100%|██████████| 378/378 [00:37<00:00, 10.13it/s]\n"
     ]
    },
    {
     "name": "stdout",
     "output_type": "stream",
     "text": [
      "epoch [88/200], elapsed time: 7m, 26.21s\n",
      "train loss: 0.0006\ttrain accuracy: 94.03%\n",
      "test loss: 0.0022\ttest accuracy: 84.23%\n",
      "\n"
     ]
    },
    {
     "name": "stderr",
     "output_type": "stream",
     "text": [
      "training...: 100%|██████████| 3394/3394 [06:48<00:00,  8.31it/s]\n",
      "evaluating...: 100%|██████████| 378/378 [00:37<00:00, 10.08it/s]\n"
     ]
    },
    {
     "name": "stdout",
     "output_type": "stream",
     "text": [
      "epoch [89/200], elapsed time: 7m, 26.08s\n",
      "train loss: 0.0006\ttrain accuracy: 94.08%\n",
      "test loss: 0.0022\ttest accuracy: 84.38%\n",
      "\n"
     ]
    },
    {
     "name": "stderr",
     "output_type": "stream",
     "text": [
      "training...: 100%|██████████| 3394/3394 [06:48<00:00,  8.30it/s]\n",
      "evaluating...: 100%|██████████| 378/378 [00:37<00:00, 10.02it/s]\n"
     ]
    },
    {
     "name": "stdout",
     "output_type": "stream",
     "text": [
      "epoch [90/200], elapsed time: 7m, 26.49s\n",
      "train loss: 0.0006\ttrain accuracy: 94.12%\n",
      "test loss: 0.0022\ttest accuracy: 84.67%\n",
      "\n"
     ]
    },
    {
     "name": "stderr",
     "output_type": "stream",
     "text": [
      "training...: 100%|██████████| 3394/3394 [06:48<00:00,  8.31it/s]\n",
      "evaluating...: 100%|██████████| 378/378 [00:37<00:00, 10.04it/s]\n"
     ]
    },
    {
     "name": "stdout",
     "output_type": "stream",
     "text": [
      "epoch [91/200], elapsed time: 7m, 26.00s\n",
      "train loss: 0.0006\ttrain accuracy: 94.14%\n",
      "test loss: 0.0022\ttest accuracy: 84.46%\n",
      "\n"
     ]
    },
    {
     "name": "stderr",
     "output_type": "stream",
     "text": [
      "training...: 100%|██████████| 3394/3394 [06:48<00:00,  8.32it/s]\n",
      "evaluating...: 100%|██████████| 378/378 [00:37<00:00,  9.95it/s]\n"
     ]
    },
    {
     "name": "stdout",
     "output_type": "stream",
     "text": [
      "epoch [92/200], elapsed time: 7m, 26.16s\n",
      "train loss: 0.0006\ttrain accuracy: 94.19%\n",
      "test loss: 0.0022\ttest accuracy: 84.35%\n",
      "\n"
     ]
    },
    {
     "name": "stderr",
     "output_type": "stream",
     "text": [
      "training...: 100%|██████████| 3394/3394 [06:48<00:00,  8.31it/s]\n",
      "evaluating...: 100%|██████████| 378/378 [00:37<00:00, 10.09it/s]\n"
     ]
    },
    {
     "name": "stdout",
     "output_type": "stream",
     "text": [
      "epoch [93/200], elapsed time: 7m, 25.88s\n",
      "train loss: 0.0006\ttrain accuracy: 94.21%\n",
      "test loss: 0.0022\ttest accuracy: 84.15%\n",
      "\n"
     ]
    },
    {
     "name": "stderr",
     "output_type": "stream",
     "text": [
      "training...: 100%|██████████| 3394/3394 [06:48<00:00,  8.32it/s]\n",
      "evaluating...: 100%|██████████| 378/378 [00:37<00:00, 10.04it/s]\n"
     ]
    },
    {
     "name": "stdout",
     "output_type": "stream",
     "text": [
      "epoch [94/200], elapsed time: 7m, 25.82s\n",
      "train loss: 0.0005\ttrain accuracy: 94.28%\n",
      "test loss: 0.0022\ttest accuracy: 84.43%\n",
      "\n"
     ]
    },
    {
     "name": "stderr",
     "output_type": "stream",
     "text": [
      "training...: 100%|██████████| 3394/3394 [06:47<00:00,  8.32it/s]\n",
      "evaluating...: 100%|██████████| 378/378 [00:37<00:00,  9.99it/s]\n"
     ]
    },
    {
     "name": "stdout",
     "output_type": "stream",
     "text": [
      "epoch [95/200], elapsed time: 7m, 25.77s\n",
      "train loss: 0.0005\ttrain accuracy: 94.30%\n",
      "test loss: 0.0022\ttest accuracy: 84.10%\n",
      "\n"
     ]
    },
    {
     "name": "stderr",
     "output_type": "stream",
     "text": [
      "training...: 100%|██████████| 3394/3394 [06:48<00:00,  8.32it/s]\n",
      "evaluating...: 100%|██████████| 378/378 [00:37<00:00, 10.11it/s]\n"
     ]
    },
    {
     "name": "stdout",
     "output_type": "stream",
     "text": [
      "epoch [96/200], elapsed time: 7m, 25.52s\n",
      "train loss: 0.0005\ttrain accuracy: 94.36%\n",
      "test loss: 0.0022\ttest accuracy: 84.23%\n",
      "\n"
     ]
    },
    {
     "name": "stderr",
     "output_type": "stream",
     "text": [
      "training...: 100%|██████████| 3394/3394 [06:47<00:00,  8.32it/s]\n",
      "evaluating...: 100%|██████████| 378/378 [00:37<00:00, 10.07it/s]\n"
     ]
    },
    {
     "name": "stdout",
     "output_type": "stream",
     "text": [
      "epoch [97/200], elapsed time: 7m, 25.43s\n",
      "train loss: 0.0005\ttrain accuracy: 94.38%\n",
      "test loss: 0.0023\ttest accuracy: 84.24%\n",
      "\n"
     ]
    },
    {
     "name": "stderr",
     "output_type": "stream",
     "text": [
      "training...: 100%|██████████| 3394/3394 [06:48<00:00,  8.31it/s]\n",
      "evaluating...: 100%|██████████| 378/378 [00:36<00:00, 10.37it/s]\n"
     ]
    },
    {
     "name": "stdout",
     "output_type": "stream",
     "text": [
      "epoch [98/200], elapsed time: 7m, 25.09s\n",
      "train loss: 0.0005\ttrain accuracy: 94.44%\n",
      "test loss: 0.0023\ttest accuracy: 84.26%\n",
      "\n"
     ]
    },
    {
     "name": "stderr",
     "output_type": "stream",
     "text": [
      "training...: 100%|██████████| 3394/3394 [06:49<00:00,  8.28it/s]\n",
      "evaluating...: 100%|██████████| 378/378 [00:36<00:00, 10.45it/s]\n"
     ]
    },
    {
     "name": "stdout",
     "output_type": "stream",
     "text": [
      "epoch [99/200], elapsed time: 7m, 26.09s\n",
      "train loss: 0.0005\ttrain accuracy: 94.49%\n",
      "test loss: 0.0022\ttest accuracy: 84.53%\n",
      "\n"
     ]
    },
    {
     "name": "stderr",
     "output_type": "stream",
     "text": [
      "training...: 100%|██████████| 3394/3394 [06:49<00:00,  8.28it/s]\n",
      "evaluating...: 100%|██████████| 378/378 [00:36<00:00, 10.40it/s]\n"
     ]
    },
    {
     "name": "stdout",
     "output_type": "stream",
     "text": [
      "epoch [100/200], elapsed time: 7m, 26.11s\n",
      "train loss: 0.0005\ttrain accuracy: 94.52%\n",
      "test loss: 0.0022\ttest accuracy: 84.45%\n",
      "\n"
     ]
    },
    {
     "name": "stderr",
     "output_type": "stream",
     "text": [
      "training...: 100%|██████████| 3394/3394 [06:48<00:00,  8.30it/s]\n",
      "evaluating...: 100%|██████████| 378/378 [00:36<00:00, 10.26it/s]\n"
     ]
    },
    {
     "name": "stdout",
     "output_type": "stream",
     "text": [
      "epoch [101/200], elapsed time: 7m, 25.67s\n",
      "train loss: 0.0005\ttrain accuracy: 94.54%\n",
      "test loss: 0.0023\ttest accuracy: 84.15%\n",
      "\n"
     ]
    },
    {
     "name": "stderr",
     "output_type": "stream",
     "text": [
      "training...: 100%|██████████| 3394/3394 [06:47<00:00,  8.32it/s]\n",
      "evaluating...: 100%|██████████| 378/378 [00:37<00:00, 10.11it/s]\n"
     ]
    },
    {
     "name": "stdout",
     "output_type": "stream",
     "text": [
      "epoch [102/200], elapsed time: 7m, 25.24s\n",
      "train loss: 0.0005\ttrain accuracy: 94.59%\n",
      "test loss: 0.0023\ttest accuracy: 84.54%\n",
      "\n"
     ]
    },
    {
     "name": "stderr",
     "output_type": "stream",
     "text": [
      "training...: 100%|██████████| 3394/3394 [06:47<00:00,  8.32it/s]\n",
      "evaluating...: 100%|██████████| 378/378 [00:37<00:00, 10.18it/s]\n"
     ]
    },
    {
     "name": "stdout",
     "output_type": "stream",
     "text": [
      "epoch [103/200], elapsed time: 7m, 25.00s\n",
      "train loss: 0.0005\ttrain accuracy: 94.64%\n",
      "test loss: 0.0023\ttest accuracy: 84.41%\n",
      "\n"
     ]
    },
    {
     "name": "stderr",
     "output_type": "stream",
     "text": [
      "training...: 100%|██████████| 3394/3394 [06:47<00:00,  8.33it/s]\n",
      "evaluating...: 100%|██████████| 378/378 [00:36<00:00, 10.22it/s]\n"
     ]
    },
    {
     "name": "stdout",
     "output_type": "stream",
     "text": [
      "epoch [104/200], elapsed time: 7m, 24.56s\n",
      "train loss: 0.0005\ttrain accuracy: 94.65%\n",
      "test loss: 0.0023\ttest accuracy: 84.24%\n",
      "\n"
     ]
    },
    {
     "name": "stderr",
     "output_type": "stream",
     "text": [
      "training...: 100%|██████████| 3394/3394 [06:47<00:00,  8.33it/s]\n",
      "evaluating...: 100%|██████████| 378/378 [00:37<00:00, 10.06it/s]\n"
     ]
    },
    {
     "name": "stdout",
     "output_type": "stream",
     "text": [
      "epoch [105/200], elapsed time: 7m, 25.00s\n",
      "train loss: 0.0005\ttrain accuracy: 94.69%\n",
      "test loss: 0.0023\ttest accuracy: 84.19%\n",
      "\n"
     ]
    },
    {
     "name": "stderr",
     "output_type": "stream",
     "text": [
      "training...: 100%|██████████| 3394/3394 [06:47<00:00,  8.33it/s]\n",
      "evaluating...: 100%|██████████| 378/378 [00:36<00:00, 10.27it/s]\n"
     ]
    },
    {
     "name": "stdout",
     "output_type": "stream",
     "text": [
      "epoch [106/200], elapsed time: 7m, 24.40s\n",
      "train loss: 0.0005\ttrain accuracy: 94.73%\n",
      "test loss: 0.0023\ttest accuracy: 84.42%\n",
      "\n"
     ]
    },
    {
     "name": "stderr",
     "output_type": "stream",
     "text": [
      "training...: 100%|██████████| 3394/3394 [06:46<00:00,  8.34it/s]\n",
      "evaluating...: 100%|██████████| 378/378 [00:36<00:00, 10.23it/s]\n"
     ]
    },
    {
     "name": "stdout",
     "output_type": "stream",
     "text": [
      "epoch [107/200], elapsed time: 7m, 23.89s\n",
      "train loss: 0.0005\ttrain accuracy: 94.76%\n",
      "test loss: 0.0023\ttest accuracy: 84.37%\n",
      "\n"
     ]
    },
    {
     "name": "stderr",
     "output_type": "stream",
     "text": [
      "training...: 100%|██████████| 3394/3394 [06:47<00:00,  8.33it/s]\n",
      "evaluating...: 100%|██████████| 378/378 [00:37<00:00, 10.09it/s]\n"
     ]
    },
    {
     "name": "stdout",
     "output_type": "stream",
     "text": [
      "epoch [108/200], elapsed time: 7m, 24.68s\n",
      "train loss: 0.0005\ttrain accuracy: 94.77%\n",
      "test loss: 0.0024\ttest accuracy: 84.21%\n",
      "\n"
     ]
    },
    {
     "name": "stderr",
     "output_type": "stream",
     "text": [
      "training...: 100%|██████████| 3394/3394 [06:47<00:00,  8.33it/s]\n",
      "evaluating...: 100%|██████████| 378/378 [00:37<00:00, 10.12it/s]\n"
     ]
    },
    {
     "name": "stdout",
     "output_type": "stream",
     "text": [
      "epoch [109/200], elapsed time: 7m, 24.81s\n",
      "train loss: 0.0005\ttrain accuracy: 94.82%\n",
      "test loss: 0.0023\ttest accuracy: 84.31%\n",
      "\n"
     ]
    },
    {
     "name": "stderr",
     "output_type": "stream",
     "text": [
      "training...: 100%|██████████| 3394/3394 [06:49<00:00,  8.30it/s]\n",
      "evaluating...: 100%|██████████| 378/378 [00:36<00:00, 10.47it/s]\n"
     ]
    },
    {
     "name": "stdout",
     "output_type": "stream",
     "text": [
      "epoch [110/200], elapsed time: 7m, 25.23s\n",
      "train loss: 0.0005\ttrain accuracy: 94.84%\n",
      "test loss: 0.0023\ttest accuracy: 84.14%\n",
      "\n"
     ]
    },
    {
     "name": "stderr",
     "output_type": "stream",
     "text": [
      "training...: 100%|██████████| 3394/3394 [06:50<00:00,  8.27it/s]\n",
      "evaluating...: 100%|██████████| 378/378 [00:36<00:00, 10.45it/s]\n"
     ]
    },
    {
     "name": "stdout",
     "output_type": "stream",
     "text": [
      "epoch [111/200], elapsed time: 7m, 26.36s\n",
      "train loss: 0.0005\ttrain accuracy: 94.90%\n",
      "test loss: 0.0023\ttest accuracy: 84.24%\n",
      "\n"
     ]
    },
    {
     "name": "stderr",
     "output_type": "stream",
     "text": [
      "training...: 100%|██████████| 3394/3394 [06:49<00:00,  8.29it/s]\n",
      "evaluating...: 100%|██████████| 378/378 [00:36<00:00, 10.43it/s]\n"
     ]
    },
    {
     "name": "stdout",
     "output_type": "stream",
     "text": [
      "epoch [112/200], elapsed time: 7m, 25.64s\n",
      "train loss: 0.0005\ttrain accuracy: 94.91%\n",
      "test loss: 0.0023\ttest accuracy: 84.28%\n",
      "\n"
     ]
    },
    {
     "name": "stderr",
     "output_type": "stream",
     "text": [
      "training...: 100%|██████████| 3394/3394 [06:49<00:00,  8.29it/s]\n",
      "evaluating...: 100%|██████████| 378/378 [00:36<00:00, 10.24it/s]\n"
     ]
    },
    {
     "name": "stdout",
     "output_type": "stream",
     "text": [
      "epoch [113/200], elapsed time: 7m, 26.18s\n",
      "train loss: 0.0005\ttrain accuracy: 94.94%\n",
      "test loss: 0.0023\ttest accuracy: 84.21%\n",
      "\n"
     ]
    },
    {
     "name": "stderr",
     "output_type": "stream",
     "text": [
      "training...: 100%|██████████| 3394/3394 [06:50<00:00,  8.27it/s]\n",
      "evaluating...: 100%|██████████| 378/378 [00:36<00:00, 10.40it/s]\n"
     ]
    },
    {
     "name": "stdout",
     "output_type": "stream",
     "text": [
      "epoch [114/200], elapsed time: 7m, 26.59s\n",
      "train loss: 0.0005\ttrain accuracy: 94.96%\n",
      "test loss: 0.0023\ttest accuracy: 84.29%\n",
      "\n"
     ]
    },
    {
     "name": "stderr",
     "output_type": "stream",
     "text": [
      "training...: 100%|██████████| 3394/3394 [06:49<00:00,  8.28it/s]\n",
      "evaluating...: 100%|██████████| 378/378 [00:35<00:00, 10.50it/s]\n"
     ]
    },
    {
     "name": "stdout",
     "output_type": "stream",
     "text": [
      "epoch [115/200], elapsed time: 7m, 25.99s\n",
      "train loss: 0.0005\ttrain accuracy: 94.97%\n",
      "test loss: 0.0023\ttest accuracy: 84.71%\n",
      "\n"
     ]
    },
    {
     "name": "stderr",
     "output_type": "stream",
     "text": [
      "training...: 100%|██████████| 3394/3394 [06:49<00:00,  8.28it/s]\n",
      "evaluating...: 100%|██████████| 378/378 [00:36<00:00, 10.30it/s]\n"
     ]
    },
    {
     "name": "stdout",
     "output_type": "stream",
     "text": [
      "epoch [116/200], elapsed time: 7m, 26.35s\n",
      "train loss: 0.0005\ttrain accuracy: 95.03%\n",
      "test loss: 0.0024\ttest accuracy: 84.26%\n",
      "\n"
     ]
    },
    {
     "name": "stderr",
     "output_type": "stream",
     "text": [
      "training...: 100%|██████████| 3394/3394 [06:49<00:00,  8.29it/s]\n",
      "evaluating...: 100%|██████████| 378/378 [00:36<00:00, 10.43it/s]\n"
     ]
    },
    {
     "name": "stdout",
     "output_type": "stream",
     "text": [
      "epoch [117/200], elapsed time: 7m, 25.78s\n",
      "train loss: 0.0005\ttrain accuracy: 95.05%\n",
      "test loss: 0.0023\ttest accuracy: 84.57%\n",
      "\n"
     ]
    },
    {
     "name": "stderr",
     "output_type": "stream",
     "text": [
      "training...: 100%|██████████| 3394/3394 [06:48<00:00,  8.32it/s]\n",
      "evaluating...: 100%|██████████| 378/378 [00:37<00:00, 10.06it/s]\n"
     ]
    },
    {
     "name": "stdout",
     "output_type": "stream",
     "text": [
      "epoch [118/200], elapsed time: 7m, 25.70s\n",
      "train loss: 0.0005\ttrain accuracy: 95.12%\n",
      "test loss: 0.0024\ttest accuracy: 84.34%\n",
      "\n"
     ]
    },
    {
     "name": "stderr",
     "output_type": "stream",
     "text": [
      "training...: 100%|██████████| 3394/3394 [06:47<00:00,  8.32it/s]\n",
      "evaluating...: 100%|██████████| 378/378 [00:37<00:00, 10.07it/s]\n"
     ]
    },
    {
     "name": "stdout",
     "output_type": "stream",
     "text": [
      "epoch [119/200], elapsed time: 7m, 25.23s\n",
      "train loss: 0.0005\ttrain accuracy: 95.12%\n",
      "test loss: 0.0023\ttest accuracy: 84.14%\n",
      "\n"
     ]
    },
    {
     "name": "stderr",
     "output_type": "stream",
     "text": [
      "training...: 100%|██████████| 3394/3394 [06:47<00:00,  8.33it/s]\n",
      "evaluating...: 100%|██████████| 378/378 [00:37<00:00, 10.08it/s]\n"
     ]
    },
    {
     "name": "stdout",
     "output_type": "stream",
     "text": [
      "epoch [120/200], elapsed time: 7m, 25.05s\n",
      "train loss: 0.0005\ttrain accuracy: 95.13%\n",
      "test loss: 0.0024\ttest accuracy: 84.23%\n",
      "\n"
     ]
    },
    {
     "name": "stderr",
     "output_type": "stream",
     "text": [
      "training...: 100%|██████████| 3394/3394 [06:47<00:00,  8.32it/s]\n",
      "evaluating...: 100%|██████████| 378/378 [00:37<00:00, 10.18it/s]\n"
     ]
    },
    {
     "name": "stdout",
     "output_type": "stream",
     "text": [
      "epoch [121/200], elapsed time: 7m, 25.08s\n",
      "train loss: 0.0005\ttrain accuracy: 95.18%\n",
      "test loss: 0.0024\ttest accuracy: 84.36%\n",
      "\n"
     ]
    },
    {
     "name": "stderr",
     "output_type": "stream",
     "text": [
      "training...: 100%|██████████| 3394/3394 [06:47<00:00,  8.32it/s]\n",
      "evaluating...: 100%|██████████| 378/378 [00:37<00:00, 10.00it/s]\n"
     ]
    },
    {
     "name": "stdout",
     "output_type": "stream",
     "text": [
      "epoch [122/200], elapsed time: 7m, 25.51s\n",
      "train loss: 0.0005\ttrain accuracy: 95.21%\n",
      "test loss: 0.0024\ttest accuracy: 84.22%\n",
      "\n"
     ]
    },
    {
     "name": "stderr",
     "output_type": "stream",
     "text": [
      "training...: 100%|██████████| 3394/3394 [06:47<00:00,  8.32it/s]\n",
      "evaluating...: 100%|██████████| 378/378 [00:37<00:00, 10.12it/s]\n"
     ]
    },
    {
     "name": "stdout",
     "output_type": "stream",
     "text": [
      "epoch [123/200], elapsed time: 7m, 25.12s\n",
      "train loss: 0.0005\ttrain accuracy: 95.23%\n",
      "test loss: 0.0024\ttest accuracy: 84.20%\n",
      "\n"
     ]
    },
    {
     "name": "stderr",
     "output_type": "stream",
     "text": [
      "training...: 100%|██████████| 3394/3394 [06:47<00:00,  8.33it/s]\n",
      "evaluating...: 100%|██████████| 378/378 [00:37<00:00, 10.06it/s]\n"
     ]
    },
    {
     "name": "stdout",
     "output_type": "stream",
     "text": [
      "epoch [124/200], elapsed time: 7m, 24.93s\n",
      "train loss: 0.0005\ttrain accuracy: 95.25%\n",
      "test loss: 0.0024\ttest accuracy: 84.11%\n",
      "\n"
     ]
    },
    {
     "name": "stderr",
     "output_type": "stream",
     "text": [
      "training...: 100%|██████████| 3394/3394 [06:47<00:00,  8.32it/s]\n",
      "evaluating...: 100%|██████████| 378/378 [00:37<00:00, 10.10it/s]\n"
     ]
    },
    {
     "name": "stdout",
     "output_type": "stream",
     "text": [
      "epoch [125/200], elapsed time: 7m, 25.25s\n",
      "train loss: 0.0005\ttrain accuracy: 95.28%\n",
      "test loss: 0.0024\ttest accuracy: 84.14%\n",
      "\n"
     ]
    },
    {
     "name": "stderr",
     "output_type": "stream",
     "text": [
      "training...: 100%|██████████| 3394/3394 [06:49<00:00,  8.29it/s]\n",
      "evaluating...: 100%|██████████| 378/378 [00:36<00:00, 10.23it/s]\n"
     ]
    },
    {
     "name": "stdout",
     "output_type": "stream",
     "text": [
      "epoch [126/200], elapsed time: 7m, 26.15s\n",
      "train loss: 0.0005\ttrain accuracy: 95.33%\n",
      "test loss: 0.0024\ttest accuracy: 84.09%\n",
      "\n"
     ]
    },
    {
     "name": "stderr",
     "output_type": "stream",
     "text": [
      "training...: 100%|██████████| 3394/3394 [06:49<00:00,  8.29it/s]\n",
      "evaluating...: 100%|██████████| 378/378 [00:36<00:00, 10.37it/s]\n"
     ]
    },
    {
     "name": "stdout",
     "output_type": "stream",
     "text": [
      "epoch [127/200], elapsed time: 7m, 25.86s\n",
      "train loss: 0.0005\ttrain accuracy: 95.33%\n",
      "test loss: 0.0024\ttest accuracy: 84.40%\n",
      "\n"
     ]
    },
    {
     "name": "stderr",
     "output_type": "stream",
     "text": [
      "training...: 100%|██████████| 3394/3394 [06:49<00:00,  8.28it/s]\n",
      "evaluating...: 100%|██████████| 378/378 [00:36<00:00, 10.41it/s]\n"
     ]
    },
    {
     "name": "stdout",
     "output_type": "stream",
     "text": [
      "epoch [128/200], elapsed time: 7m, 26.28s\n",
      "train loss: 0.0004\ttrain accuracy: 95.36%\n",
      "test loss: 0.0024\ttest accuracy: 84.23%\n",
      "\n"
     ]
    },
    {
     "name": "stderr",
     "output_type": "stream",
     "text": [
      "training...: 100%|██████████| 3394/3394 [06:49<00:00,  8.29it/s]\n",
      "evaluating...: 100%|██████████| 378/378 [00:36<00:00, 10.46it/s]\n"
     ]
    },
    {
     "name": "stdout",
     "output_type": "stream",
     "text": [
      "epoch [129/200], elapsed time: 7m, 25.79s\n",
      "train loss: 0.0004\ttrain accuracy: 95.38%\n",
      "test loss: 0.0024\ttest accuracy: 84.48%\n",
      "\n"
     ]
    },
    {
     "name": "stderr",
     "output_type": "stream",
     "text": [
      "training...: 100%|██████████| 3394/3394 [06:49<00:00,  8.28it/s]\n",
      "evaluating...: 100%|██████████| 378/378 [00:36<00:00, 10.38it/s]\n"
     ]
    },
    {
     "name": "stdout",
     "output_type": "stream",
     "text": [
      "epoch [130/200], elapsed time: 7m, 26.15s\n",
      "train loss: 0.0004\ttrain accuracy: 95.41%\n",
      "test loss: 0.0024\ttest accuracy: 84.29%\n",
      "\n"
     ]
    },
    {
     "name": "stderr",
     "output_type": "stream",
     "text": [
      "training...: 100%|██████████| 3394/3394 [06:49<00:00,  8.29it/s]\n",
      "evaluating...: 100%|██████████| 378/378 [00:35<00:00, 10.51it/s]\n"
     ]
    },
    {
     "name": "stdout",
     "output_type": "stream",
     "text": [
      "epoch [131/200], elapsed time: 7m, 25.26s\n",
      "train loss: 0.0004\ttrain accuracy: 95.43%\n",
      "test loss: 0.0024\ttest accuracy: 84.23%\n",
      "\n"
     ]
    },
    {
     "name": "stderr",
     "output_type": "stream",
     "text": [
      "training...: 100%|██████████| 3394/3394 [06:49<00:00,  8.28it/s]\n",
      "evaluating...: 100%|██████████| 378/378 [00:36<00:00, 10.26it/s]\n"
     ]
    },
    {
     "name": "stdout",
     "output_type": "stream",
     "text": [
      "epoch [132/200], elapsed time: 7m, 26.58s\n",
      "train loss: 0.0004\ttrain accuracy: 95.51%\n",
      "test loss: 0.0025\ttest accuracy: 83.88%\n",
      "\n"
     ]
    },
    {
     "name": "stderr",
     "output_type": "stream",
     "text": [
      "training...: 100%|██████████| 3394/3394 [06:49<00:00,  8.29it/s]\n",
      "evaluating...: 100%|██████████| 378/378 [00:36<00:00, 10.27it/s]\n"
     ]
    },
    {
     "name": "stdout",
     "output_type": "stream",
     "text": [
      "epoch [133/200], elapsed time: 7m, 26.45s\n",
      "train loss: 0.0004\ttrain accuracy: 95.52%\n",
      "test loss: 0.0025\ttest accuracy: 83.85%\n",
      "\n"
     ]
    },
    {
     "name": "stderr",
     "output_type": "stream",
     "text": [
      "training...: 100%|██████████| 3394/3394 [06:47<00:00,  8.32it/s]\n",
      "evaluating...: 100%|██████████| 378/378 [00:37<00:00, 10.10it/s]\n"
     ]
    },
    {
     "name": "stdout",
     "output_type": "stream",
     "text": [
      "epoch [134/200], elapsed time: 7m, 25.19s\n",
      "train loss: 0.0004\ttrain accuracy: 95.53%\n",
      "test loss: 0.0024\ttest accuracy: 84.22%\n",
      "\n"
     ]
    },
    {
     "name": "stderr",
     "output_type": "stream",
     "text": [
      "training...: 100%|██████████| 3394/3394 [06:47<00:00,  8.33it/s]\n",
      "evaluating...: 100%|██████████| 378/378 [00:36<00:00, 10.23it/s]\n"
     ]
    },
    {
     "name": "stdout",
     "output_type": "stream",
     "text": [
      "epoch [135/200], elapsed time: 7m, 24.44s\n",
      "train loss: 0.0004\ttrain accuracy: 95.52%\n",
      "test loss: 0.0024\ttest accuracy: 84.05%\n",
      "\n"
     ]
    },
    {
     "name": "stderr",
     "output_type": "stream",
     "text": [
      "training...: 100%|██████████| 3394/3394 [06:47<00:00,  8.33it/s]\n",
      "evaluating...: 100%|██████████| 378/378 [00:37<00:00, 10.20it/s]\n"
     ]
    },
    {
     "name": "stdout",
     "output_type": "stream",
     "text": [
      "epoch [136/200], elapsed time: 7m, 24.26s\n",
      "train loss: 0.0004\ttrain accuracy: 95.60%\n",
      "test loss: 0.0025\ttest accuracy: 84.26%\n",
      "\n"
     ]
    },
    {
     "name": "stderr",
     "output_type": "stream",
     "text": [
      "training...: 100%|██████████| 3394/3394 [06:47<00:00,  8.33it/s]\n",
      "evaluating...: 100%|██████████| 378/378 [00:37<00:00, 10.01it/s]\n"
     ]
    },
    {
     "name": "stdout",
     "output_type": "stream",
     "text": [
      "epoch [137/200], elapsed time: 7m, 25.30s\n",
      "train loss: 0.0004\ttrain accuracy: 95.60%\n",
      "test loss: 0.0025\ttest accuracy: 83.78%\n",
      "\n"
     ]
    },
    {
     "name": "stderr",
     "output_type": "stream",
     "text": [
      "training...: 100%|██████████| 3394/3394 [06:47<00:00,  8.33it/s]\n",
      "evaluating...: 100%|██████████| 378/378 [00:37<00:00, 10.20it/s]\n"
     ]
    },
    {
     "name": "stdout",
     "output_type": "stream",
     "text": [
      "epoch [138/200], elapsed time: 7m, 24.54s\n",
      "train loss: 0.0004\ttrain accuracy: 95.62%\n",
      "test loss: 0.0025\ttest accuracy: 83.87%\n",
      "\n"
     ]
    },
    {
     "name": "stderr",
     "output_type": "stream",
     "text": [
      "training...: 100%|██████████| 3394/3394 [06:47<00:00,  8.33it/s]\n",
      "evaluating...: 100%|██████████| 378/378 [00:37<00:00, 10.13it/s]\n"
     ]
    },
    {
     "name": "stdout",
     "output_type": "stream",
     "text": [
      "epoch [139/200], elapsed time: 7m, 24.67s\n",
      "train loss: 0.0004\ttrain accuracy: 95.70%\n",
      "test loss: 0.0025\ttest accuracy: 83.61%\n",
      "\n"
     ]
    },
    {
     "name": "stderr",
     "output_type": "stream",
     "text": [
      "training...: 100%|██████████| 3394/3394 [06:46<00:00,  8.34it/s]\n",
      "evaluating...: 100%|██████████| 378/378 [00:37<00:00, 10.08it/s]\n"
     ]
    },
    {
     "name": "stdout",
     "output_type": "stream",
     "text": [
      "epoch [140/200], elapsed time: 7m, 24.36s\n",
      "train loss: 0.0004\ttrain accuracy: 95.66%\n",
      "test loss: 0.0025\ttest accuracy: 83.69%\n",
      "\n"
     ]
    },
    {
     "name": "stderr",
     "output_type": "stream",
     "text": [
      "training...: 100%|██████████| 3394/3394 [06:46<00:00,  8.34it/s]\n",
      "evaluating...: 100%|██████████| 378/378 [00:37<00:00, 10.20it/s]\n"
     ]
    },
    {
     "name": "stdout",
     "output_type": "stream",
     "text": [
      "epoch [141/200], elapsed time: 7m, 23.93s\n",
      "train loss: 0.0004\ttrain accuracy: 95.74%\n",
      "test loss: 0.0025\ttest accuracy: 84.37%\n",
      "\n"
     ]
    },
    {
     "name": "stderr",
     "output_type": "stream",
     "text": [
      "training...: 100%|██████████| 3394/3394 [06:47<00:00,  8.33it/s]\n",
      "evaluating...: 100%|██████████| 378/378 [00:36<00:00, 10.23it/s]\n"
     ]
    },
    {
     "name": "stdout",
     "output_type": "stream",
     "text": [
      "epoch [142/200], elapsed time: 7m, 24.56s\n",
      "train loss: 0.0004\ttrain accuracy: 95.74%\n",
      "test loss: 0.0025\ttest accuracy: 84.01%\n",
      "\n"
     ]
    },
    {
     "name": "stderr",
     "output_type": "stream",
     "text": [
      "training...: 100%|██████████| 3394/3394 [06:48<00:00,  8.32it/s]\n",
      "evaluating...: 100%|██████████| 378/378 [00:36<00:00, 10.36it/s]\n"
     ]
    },
    {
     "name": "stdout",
     "output_type": "stream",
     "text": [
      "epoch [143/200], elapsed time: 7m, 24.56s\n",
      "train loss: 0.0004\ttrain accuracy: 95.72%\n",
      "test loss: 0.0024\ttest accuracy: 83.97%\n",
      "\n"
     ]
    },
    {
     "name": "stderr",
     "output_type": "stream",
     "text": [
      "training...: 100%|██████████| 3394/3394 [06:49<00:00,  8.29it/s]\n",
      "evaluating...: 100%|██████████| 378/378 [00:35<00:00, 10.62it/s]\n"
     ]
    },
    {
     "name": "stdout",
     "output_type": "stream",
     "text": [
      "epoch [144/200], elapsed time: 7m, 24.84s\n",
      "train loss: 0.0004\ttrain accuracy: 95.72%\n",
      "test loss: 0.0024\ttest accuracy: 84.08%\n",
      "\n"
     ]
    },
    {
     "name": "stderr",
     "output_type": "stream",
     "text": [
      "training...: 100%|██████████| 3394/3394 [06:48<00:00,  8.30it/s]\n",
      "evaluating...: 100%|██████████| 378/378 [00:36<00:00, 10.44it/s]\n"
     ]
    },
    {
     "name": "stdout",
     "output_type": "stream",
     "text": [
      "epoch [145/200], elapsed time: 7m, 25.19s\n",
      "train loss: 0.0004\ttrain accuracy: 95.80%\n",
      "test loss: 0.0025\ttest accuracy: 84.10%\n",
      "\n"
     ]
    },
    {
     "name": "stderr",
     "output_type": "stream",
     "text": [
      "training...: 100%|██████████| 3394/3394 [06:48<00:00,  8.30it/s]\n",
      "evaluating...: 100%|██████████| 378/378 [00:36<00:00, 10.41it/s]\n"
     ]
    },
    {
     "name": "stdout",
     "output_type": "stream",
     "text": [
      "epoch [146/200], elapsed time: 7m, 25.28s\n",
      "train loss: 0.0004\ttrain accuracy: 95.82%\n",
      "test loss: 0.0025\ttest accuracy: 83.95%\n",
      "\n"
     ]
    },
    {
     "name": "stderr",
     "output_type": "stream",
     "text": [
      "training...: 100%|██████████| 3394/3394 [06:48<00:00,  8.30it/s]\n",
      "evaluating...: 100%|██████████| 378/378 [00:35<00:00, 10.57it/s]\n"
     ]
    },
    {
     "name": "stdout",
     "output_type": "stream",
     "text": [
      "epoch [147/200], elapsed time: 7m, 24.45s\n",
      "train loss: 0.0004\ttrain accuracy: 95.83%\n",
      "test loss: 0.0025\ttest accuracy: 84.17%\n",
      "\n"
     ]
    },
    {
     "name": "stderr",
     "output_type": "stream",
     "text": [
      "training...: 100%|██████████| 3394/3394 [06:49<00:00,  8.30it/s]\n",
      "evaluating...: 100%|██████████| 378/378 [00:36<00:00, 10.41it/s]\n"
     ]
    },
    {
     "name": "stdout",
     "output_type": "stream",
     "text": [
      "epoch [148/200], elapsed time: 7m, 25.45s\n",
      "train loss: 0.0004\ttrain accuracy: 95.84%\n",
      "test loss: 0.0025\ttest accuracy: 84.00%\n",
      "\n"
     ]
    },
    {
     "name": "stderr",
     "output_type": "stream",
     "text": [
      "training...: 100%|██████████| 3394/3394 [06:49<00:00,  8.30it/s]\n",
      "evaluating...: 100%|██████████| 378/378 [00:36<00:00, 10.30it/s]\n"
     ]
    },
    {
     "name": "stdout",
     "output_type": "stream",
     "text": [
      "epoch [149/200], elapsed time: 7m, 25.84s\n",
      "train loss: 0.0004\ttrain accuracy: 95.89%\n",
      "test loss: 0.0025\ttest accuracy: 84.01%\n",
      "\n"
     ]
    },
    {
     "name": "stderr",
     "output_type": "stream",
     "text": [
      "training...: 100%|██████████| 3394/3394 [06:48<00:00,  8.32it/s]\n",
      "evaluating...: 100%|██████████| 378/378 [00:36<00:00, 10.28it/s]\n"
     ]
    },
    {
     "name": "stdout",
     "output_type": "stream",
     "text": [
      "epoch [150/200], elapsed time: 7m, 24.85s\n",
      "train loss: 0.0004\ttrain accuracy: 95.89%\n",
      "test loss: 0.0025\ttest accuracy: 84.17%\n",
      "\n"
     ]
    },
    {
     "name": "stderr",
     "output_type": "stream",
     "text": [
      "training...: 100%|██████████| 3394/3394 [06:46<00:00,  8.34it/s]\n",
      "evaluating...: 100%|██████████| 378/378 [00:37<00:00, 10.19it/s]\n"
     ]
    },
    {
     "name": "stdout",
     "output_type": "stream",
     "text": [
      "epoch [151/200], elapsed time: 7m, 24.06s\n",
      "train loss: 0.0004\ttrain accuracy: 95.92%\n",
      "test loss: 0.0025\ttest accuracy: 84.00%\n",
      "\n"
     ]
    },
    {
     "name": "stderr",
     "output_type": "stream",
     "text": [
      "training...: 100%|██████████| 3394/3394 [06:46<00:00,  8.34it/s]\n",
      "evaluating...: 100%|██████████| 378/378 [00:37<00:00, 10.16it/s]\n"
     ]
    },
    {
     "name": "stdout",
     "output_type": "stream",
     "text": [
      "epoch [152/200], elapsed time: 7m, 23.96s\n",
      "train loss: 0.0004\ttrain accuracy: 95.95%\n",
      "test loss: 0.0025\ttest accuracy: 83.96%\n",
      "\n"
     ]
    },
    {
     "name": "stderr",
     "output_type": "stream",
     "text": [
      "training...: 100%|██████████| 3394/3394 [06:47<00:00,  8.34it/s]\n",
      "evaluating...: 100%|██████████| 378/378 [00:37<00:00, 10.08it/s]\n"
     ]
    },
    {
     "name": "stdout",
     "output_type": "stream",
     "text": [
      "epoch [153/200], elapsed time: 7m, 24.64s\n",
      "train loss: 0.0004\ttrain accuracy: 95.97%\n",
      "test loss: 0.0026\ttest accuracy: 84.16%\n",
      "\n"
     ]
    },
    {
     "name": "stderr",
     "output_type": "stream",
     "text": [
      "training...: 100%|██████████| 3394/3394 [06:47<00:00,  8.33it/s]\n",
      "evaluating...: 100%|██████████| 378/378 [00:37<00:00, 10.21it/s]\n"
     ]
    },
    {
     "name": "stdout",
     "output_type": "stream",
     "text": [
      "epoch [154/200], elapsed time: 7m, 24.30s\n",
      "train loss: 0.0004\ttrain accuracy: 95.99%\n",
      "test loss: 0.0025\ttest accuracy: 83.84%\n",
      "\n"
     ]
    },
    {
     "name": "stderr",
     "output_type": "stream",
     "text": [
      "training...: 100%|██████████| 3394/3394 [06:47<00:00,  8.33it/s]\n",
      "evaluating...: 100%|██████████| 378/378 [00:36<00:00, 10.32it/s]\n"
     ]
    },
    {
     "name": "stdout",
     "output_type": "stream",
     "text": [
      "epoch [155/200], elapsed time: 7m, 24.26s\n",
      "train loss: 0.0004\ttrain accuracy: 96.02%\n",
      "test loss: 0.0025\ttest accuracy: 84.16%\n",
      "\n"
     ]
    },
    {
     "name": "stderr",
     "output_type": "stream",
     "text": [
      "training...: 100%|██████████| 3394/3394 [06:46<00:00,  8.34it/s]\n",
      "evaluating...: 100%|██████████| 378/378 [00:36<00:00, 10.24it/s]\n"
     ]
    },
    {
     "name": "stdout",
     "output_type": "stream",
     "text": [
      "epoch [156/200], elapsed time: 7m, 23.88s\n",
      "train loss: 0.0004\ttrain accuracy: 96.05%\n",
      "test loss: 0.0026\ttest accuracy: 84.31%\n",
      "\n"
     ]
    },
    {
     "name": "stderr",
     "output_type": "stream",
     "text": [
      "training...: 100%|██████████| 3394/3394 [06:47<00:00,  8.34it/s]\n",
      "evaluating...: 100%|██████████| 378/378 [00:37<00:00, 10.18it/s]\n"
     ]
    },
    {
     "name": "stdout",
     "output_type": "stream",
     "text": [
      "epoch [157/200], elapsed time: 7m, 24.18s\n",
      "train loss: 0.0004\ttrain accuracy: 96.06%\n",
      "test loss: 0.0026\ttest accuracy: 83.82%\n",
      "\n"
     ]
    },
    {
     "name": "stderr",
     "output_type": "stream",
     "text": [
      "training...: 100%|██████████| 3394/3394 [06:47<00:00,  8.32it/s]\n",
      "evaluating...: 100%|██████████| 378/378 [00:35<00:00, 10.51it/s]\n"
     ]
    },
    {
     "name": "stdout",
     "output_type": "stream",
     "text": [
      "epoch [158/200], elapsed time: 7m, 23.76s\n",
      "train loss: 0.0004\ttrain accuracy: 96.09%\n",
      "test loss: 0.0025\ttest accuracy: 83.89%\n",
      "\n"
     ]
    },
    {
     "name": "stderr",
     "output_type": "stream",
     "text": [
      "training...: 100%|██████████| 3394/3394 [06:49<00:00,  8.29it/s]\n",
      "evaluating...: 100%|██████████| 378/378 [00:36<00:00, 10.32it/s]\n"
     ]
    },
    {
     "name": "stdout",
     "output_type": "stream",
     "text": [
      "epoch [159/200], elapsed time: 7m, 26.14s\n",
      "train loss: 0.0004\ttrain accuracy: 96.10%\n",
      "test loss: 0.0026\ttest accuracy: 83.86%\n",
      "\n"
     ]
    },
    {
     "name": "stderr",
     "output_type": "stream",
     "text": [
      "training...: 100%|██████████| 3394/3394 [06:49<00:00,  8.29it/s]\n",
      "evaluating...: 100%|██████████| 378/378 [00:36<00:00, 10.48it/s]\n"
     ]
    },
    {
     "name": "stdout",
     "output_type": "stream",
     "text": [
      "epoch [160/200], elapsed time: 7m, 25.26s\n",
      "train loss: 0.0004\ttrain accuracy: 96.14%\n",
      "test loss: 0.0026\ttest accuracy: 83.32%\n",
      "\n"
     ]
    },
    {
     "name": "stderr",
     "output_type": "stream",
     "text": [
      "training...: 100%|██████████| 3394/3394 [06:48<00:00,  8.31it/s]\n",
      "evaluating...: 100%|██████████| 378/378 [00:35<00:00, 10.57it/s]\n"
     ]
    },
    {
     "name": "stdout",
     "output_type": "stream",
     "text": [
      "epoch [161/200], elapsed time: 7m, 24.12s\n",
      "train loss: 0.0004\ttrain accuracy: 96.18%\n",
      "test loss: 0.0026\ttest accuracy: 83.84%\n",
      "\n"
     ]
    },
    {
     "name": "stderr",
     "output_type": "stream",
     "text": [
      "training...: 100%|██████████| 3394/3394 [06:48<00:00,  8.30it/s]\n",
      "evaluating...: 100%|██████████| 378/378 [00:36<00:00, 10.36it/s]\n"
     ]
    },
    {
     "name": "stdout",
     "output_type": "stream",
     "text": [
      "epoch [162/200], elapsed time: 7m, 25.44s\n",
      "train loss: 0.0004\ttrain accuracy: 96.18%\n",
      "test loss: 0.0025\ttest accuracy: 83.61%\n",
      "\n"
     ]
    },
    {
     "name": "stderr",
     "output_type": "stream",
     "text": [
      "training...: 100%|██████████| 3394/3394 [06:49<00:00,  8.30it/s]\n",
      "evaluating...: 100%|██████████| 378/378 [00:36<00:00, 10.45it/s]\n"
     ]
    },
    {
     "name": "stdout",
     "output_type": "stream",
     "text": [
      "epoch [163/200], elapsed time: 7m, 25.22s\n",
      "train loss: 0.0004\ttrain accuracy: 96.22%\n",
      "test loss: 0.0026\ttest accuracy: 83.85%\n",
      "\n"
     ]
    },
    {
     "name": "stderr",
     "output_type": "stream",
     "text": [
      "training...: 100%|██████████| 3394/3394 [06:48<00:00,  8.30it/s]\n",
      "evaluating...: 100%|██████████| 378/378 [00:36<00:00, 10.37it/s]\n"
     ]
    },
    {
     "name": "stdout",
     "output_type": "stream",
     "text": [
      "epoch [164/200], elapsed time: 7m, 25.31s\n",
      "train loss: 0.0004\ttrain accuracy: 96.22%\n",
      "test loss: 0.0026\ttest accuracy: 84.02%\n",
      "\n"
     ]
    },
    {
     "name": "stderr",
     "output_type": "stream",
     "text": [
      "training...: 100%|██████████| 3394/3394 [06:49<00:00,  8.30it/s]\n",
      "evaluating...: 100%|██████████| 378/378 [00:36<00:00, 10.41it/s]\n"
     ]
    },
    {
     "name": "stdout",
     "output_type": "stream",
     "text": [
      "epoch [165/200], elapsed time: 7m, 25.44s\n",
      "train loss: 0.0004\ttrain accuracy: 96.25%\n",
      "test loss: 0.0025\ttest accuracy: 83.92%\n",
      "\n"
     ]
    },
    {
     "name": "stderr",
     "output_type": "stream",
     "text": [
      "training...: 100%|██████████| 3394/3394 [06:48<00:00,  8.31it/s]\n",
      "evaluating...: 100%|██████████| 378/378 [00:36<00:00, 10.33it/s]\n"
     ]
    },
    {
     "name": "stdout",
     "output_type": "stream",
     "text": [
      "epoch [166/200], elapsed time: 7m, 25.03s\n",
      "train loss: 0.0004\ttrain accuracy: 96.31%\n",
      "test loss: 0.0026\ttest accuracy: 84.04%\n",
      "\n"
     ]
    },
    {
     "name": "stderr",
     "output_type": "stream",
     "text": [
      "training...: 100%|██████████| 3394/3394 [06:46<00:00,  8.34it/s]\n",
      "evaluating...: 100%|██████████| 378/378 [00:37<00:00, 10.20it/s]\n"
     ]
    },
    {
     "name": "stdout",
     "output_type": "stream",
     "text": [
      "epoch [167/200], elapsed time: 7m, 23.78s\n",
      "train loss: 0.0004\ttrain accuracy: 96.30%\n",
      "test loss: 0.0025\ttest accuracy: 84.12%\n",
      "\n"
     ]
    },
    {
     "name": "stderr",
     "output_type": "stream",
     "text": [
      "training...: 100%|██████████| 3394/3394 [06:46<00:00,  8.36it/s]\n",
      "evaluating...: 100%|██████████| 378/378 [00:37<00:00, 10.21it/s]\n"
     ]
    },
    {
     "name": "stdout",
     "output_type": "stream",
     "text": [
      "epoch [168/200], elapsed time: 7m, 23.19s\n",
      "train loss: 0.0004\ttrain accuracy: 96.33%\n",
      "test loss: 0.0026\ttest accuracy: 83.93%\n",
      "\n"
     ]
    },
    {
     "name": "stderr",
     "output_type": "stream",
     "text": [
      "training...: 100%|██████████| 3394/3394 [06:46<00:00,  8.35it/s]\n",
      "evaluating...: 100%|██████████| 378/378 [00:37<00:00, 10.21it/s]\n"
     ]
    },
    {
     "name": "stdout",
     "output_type": "stream",
     "text": [
      "epoch [169/200], elapsed time: 7m, 23.38s\n",
      "train loss: 0.0004\ttrain accuracy: 96.34%\n",
      "test loss: 0.0026\ttest accuracy: 83.91%\n",
      "\n"
     ]
    },
    {
     "name": "stderr",
     "output_type": "stream",
     "text": [
      "training...: 100%|██████████| 3394/3394 [06:46<00:00,  8.36it/s]\n",
      "evaluating...: 100%|██████████| 378/378 [00:37<00:00, 10.11it/s]\n"
     ]
    },
    {
     "name": "stdout",
     "output_type": "stream",
     "text": [
      "epoch [170/200], elapsed time: 7m, 23.60s\n",
      "train loss: 0.0004\ttrain accuracy: 96.37%\n",
      "test loss: 0.0026\ttest accuracy: 83.80%\n",
      "\n"
     ]
    },
    {
     "name": "stderr",
     "output_type": "stream",
     "text": [
      "training...: 100%|██████████| 3394/3394 [06:46<00:00,  8.34it/s]\n",
      "evaluating...: 100%|██████████| 378/378 [00:37<00:00, 10.16it/s]\n"
     ]
    },
    {
     "name": "stdout",
     "output_type": "stream",
     "text": [
      "epoch [171/200], elapsed time: 7m, 23.96s\n",
      "train loss: 0.0004\ttrain accuracy: 96.40%\n",
      "test loss: 0.0026\ttest accuracy: 84.10%\n",
      "\n"
     ]
    },
    {
     "name": "stderr",
     "output_type": "stream",
     "text": [
      "training...: 100%|██████████| 3394/3394 [06:46<00:00,  8.35it/s]\n",
      "evaluating...: 100%|██████████| 378/378 [00:36<00:00, 10.33it/s]\n"
     ]
    },
    {
     "name": "stdout",
     "output_type": "stream",
     "text": [
      "epoch [172/200], elapsed time: 7m, 23.01s\n",
      "train loss: 0.0004\ttrain accuracy: 96.43%\n",
      "test loss: 0.0026\ttest accuracy: 83.91%\n",
      "\n"
     ]
    },
    {
     "name": "stderr",
     "output_type": "stream",
     "text": [
      "training...: 100%|██████████| 3394/3394 [06:45<00:00,  8.36it/s]\n",
      "evaluating...: 100%|██████████| 378/378 [00:37<00:00, 10.16it/s]\n"
     ]
    },
    {
     "name": "stdout",
     "output_type": "stream",
     "text": [
      "epoch [173/200], elapsed time: 7m, 23.10s\n",
      "train loss: 0.0004\ttrain accuracy: 96.45%\n",
      "test loss: 0.0026\ttest accuracy: 83.86%\n",
      "\n"
     ]
    },
    {
     "name": "stderr",
     "output_type": "stream",
     "text": [
      "training...: 100%|██████████| 3394/3394 [06:46<00:00,  8.35it/s]\n",
      "evaluating...: 100%|██████████| 378/378 [00:35<00:00, 10.55it/s]\n"
     ]
    },
    {
     "name": "stdout",
     "output_type": "stream",
     "text": [
      "epoch [174/200], elapsed time: 7m, 22.19s\n",
      "train loss: 0.0004\ttrain accuracy: 96.49%\n",
      "test loss: 0.0026\ttest accuracy: 83.61%\n",
      "\n"
     ]
    },
    {
     "name": "stderr",
     "output_type": "stream",
     "text": [
      "training...: 100%|██████████| 3394/3394 [06:47<00:00,  8.32it/s]\n",
      "evaluating...: 100%|██████████| 378/378 [00:36<00:00, 10.44it/s]\n"
     ]
    },
    {
     "name": "stdout",
     "output_type": "stream",
     "text": [
      "epoch [175/200], elapsed time: 7m, 23.97s\n",
      "train loss: 0.0003\ttrain accuracy: 96.49%\n",
      "test loss: 0.0026\ttest accuracy: 83.76%\n",
      "\n"
     ]
    },
    {
     "name": "stderr",
     "output_type": "stream",
     "text": [
      "training...: 100%|██████████| 3394/3394 [06:47<00:00,  8.32it/s]\n",
      "evaluating...: 100%|██████████| 378/378 [00:36<00:00, 10.37it/s]\n"
     ]
    },
    {
     "name": "stdout",
     "output_type": "stream",
     "text": [
      "epoch [176/200], elapsed time: 7m, 24.44s\n",
      "train loss: 0.0003\ttrain accuracy: 96.51%\n",
      "test loss: 0.0026\ttest accuracy: 83.97%\n",
      "\n"
     ]
    },
    {
     "name": "stderr",
     "output_type": "stream",
     "text": [
      "training...: 100%|██████████| 3394/3394 [06:47<00:00,  8.32it/s]\n",
      "evaluating...: 100%|██████████| 378/378 [00:36<00:00, 10.42it/s]\n"
     ]
    },
    {
     "name": "stdout",
     "output_type": "stream",
     "text": [
      "epoch [177/200], elapsed time: 7m, 24.13s\n",
      "train loss: 0.0003\ttrain accuracy: 96.54%\n",
      "test loss: 0.0026\ttest accuracy: 83.66%\n",
      "\n"
     ]
    },
    {
     "name": "stderr",
     "output_type": "stream",
     "text": [
      "training...: 100%|██████████| 3394/3394 [06:47<00:00,  8.32it/s]\n",
      "evaluating...: 100%|██████████| 378/378 [00:36<00:00, 10.30it/s]\n"
     ]
    },
    {
     "name": "stdout",
     "output_type": "stream",
     "text": [
      "epoch [178/200], elapsed time: 7m, 24.57s\n",
      "train loss: 0.0003\ttrain accuracy: 96.55%\n",
      "test loss: 0.0027\ttest accuracy: 83.83%\n",
      "\n"
     ]
    },
    {
     "name": "stderr",
     "output_type": "stream",
     "text": [
      "training...: 100%|██████████| 3394/3394 [06:47<00:00,  8.33it/s]\n",
      "evaluating...: 100%|██████████| 378/378 [00:35<00:00, 10.52it/s]\n"
     ]
    },
    {
     "name": "stdout",
     "output_type": "stream",
     "text": [
      "epoch [179/200], elapsed time: 7m, 23.61s\n",
      "train loss: 0.0003\ttrain accuracy: 96.59%\n",
      "test loss: 0.0027\ttest accuracy: 83.64%\n",
      "\n"
     ]
    },
    {
     "name": "stderr",
     "output_type": "stream",
     "text": [
      "training...: 100%|██████████| 3394/3394 [06:48<00:00,  8.31it/s]\n",
      "evaluating...: 100%|██████████| 378/378 [00:37<00:00, 10.12it/s]\n"
     ]
    },
    {
     "name": "stdout",
     "output_type": "stream",
     "text": [
      "epoch [180/200], elapsed time: 7m, 25.54s\n",
      "train loss: 0.0003\ttrain accuracy: 96.60%\n",
      "test loss: 0.0027\ttest accuracy: 83.84%\n",
      "\n"
     ]
    },
    {
     "name": "stderr",
     "output_type": "stream",
     "text": [
      "training...: 100%|██████████| 3394/3394 [06:46<00:00,  8.35it/s]\n",
      "evaluating...: 100%|██████████| 378/378 [00:37<00:00, 10.06it/s]\n"
     ]
    },
    {
     "name": "stdout",
     "output_type": "stream",
     "text": [
      "epoch [181/200], elapsed time: 7m, 23.99s\n",
      "train loss: 0.0003\ttrain accuracy: 96.62%\n",
      "test loss: 0.0027\ttest accuracy: 84.26%\n",
      "\n"
     ]
    },
    {
     "name": "stderr",
     "output_type": "stream",
     "text": [
      "training...: 100%|██████████| 3394/3394 [06:46<00:00,  8.35it/s]\n",
      "evaluating...: 100%|██████████| 378/378 [00:37<00:00, 10.03it/s]\n"
     ]
    },
    {
     "name": "stdout",
     "output_type": "stream",
     "text": [
      "epoch [182/200], elapsed time: 7m, 24.32s\n",
      "train loss: 0.0003\ttrain accuracy: 96.63%\n",
      "test loss: 0.0027\ttest accuracy: 84.10%\n",
      "\n"
     ]
    },
    {
     "name": "stderr",
     "output_type": "stream",
     "text": [
      "training...: 100%|██████████| 3394/3394 [06:46<00:00,  8.34it/s]\n",
      "evaluating...: 100%|██████████| 378/378 [00:37<00:00, 10.17it/s]\n"
     ]
    },
    {
     "name": "stdout",
     "output_type": "stream",
     "text": [
      "epoch [183/200], elapsed time: 7m, 23.89s\n",
      "train loss: 0.0003\ttrain accuracy: 96.66%\n",
      "test loss: 0.0027\ttest accuracy: 83.69%\n",
      "\n"
     ]
    },
    {
     "name": "stderr",
     "output_type": "stream",
     "text": [
      "training...: 100%|██████████| 3394/3394 [06:46<00:00,  8.35it/s]\n",
      "evaluating...: 100%|██████████| 378/378 [00:37<00:00, 10.07it/s]\n"
     ]
    },
    {
     "name": "stdout",
     "output_type": "stream",
     "text": [
      "epoch [184/200], elapsed time: 7m, 24.12s\n",
      "train loss: 0.0003\ttrain accuracy: 96.69%\n",
      "test loss: 0.0027\ttest accuracy: 83.71%\n",
      "\n"
     ]
    },
    {
     "name": "stderr",
     "output_type": "stream",
     "text": [
      "training...: 100%|██████████| 3394/3394 [06:46<00:00,  8.35it/s]\n",
      "evaluating...: 100%|██████████| 378/378 [00:37<00:00, 10.14it/s]\n"
     ]
    },
    {
     "name": "stdout",
     "output_type": "stream",
     "text": [
      "epoch [185/200], elapsed time: 7m, 23.61s\n",
      "train loss: 0.0003\ttrain accuracy: 96.71%\n",
      "test loss: 0.0027\ttest accuracy: 84.09%\n",
      "\n"
     ]
    },
    {
     "name": "stderr",
     "output_type": "stream",
     "text": [
      "training...: 100%|██████████| 3394/3394 [06:46<00:00,  8.35it/s]\n",
      "evaluating...: 100%|██████████| 378/378 [00:37<00:00, 10.11it/s]\n"
     ]
    },
    {
     "name": "stdout",
     "output_type": "stream",
     "text": [
      "epoch [186/200], elapsed time: 7m, 23.98s\n",
      "train loss: 0.0003\ttrain accuracy: 96.73%\n",
      "test loss: 0.0027\ttest accuracy: 83.91%\n",
      "\n"
     ]
    },
    {
     "name": "stderr",
     "output_type": "stream",
     "text": [
      "training...: 100%|██████████| 3394/3394 [06:46<00:00,  8.35it/s]\n",
      "evaluating...: 100%|██████████| 378/378 [00:37<00:00, 10.08it/s]\n"
     ]
    },
    {
     "name": "stdout",
     "output_type": "stream",
     "text": [
      "epoch [187/200], elapsed time: 7m, 23.99s\n",
      "train loss: 0.0003\ttrain accuracy: 96.75%\n",
      "test loss: 0.0027\ttest accuracy: 83.67%\n",
      "\n"
     ]
    },
    {
     "name": "stderr",
     "output_type": "stream",
     "text": [
      "training...: 100%|██████████| 3394/3394 [06:47<00:00,  8.33it/s]\n",
      "evaluating...: 100%|██████████| 378/378 [00:35<00:00, 10.54it/s]\n"
     ]
    },
    {
     "name": "stdout",
     "output_type": "stream",
     "text": [
      "epoch [188/200], elapsed time: 7m, 23.31s\n",
      "train loss: 0.0003\ttrain accuracy: 96.74%\n",
      "test loss: 0.0027\ttest accuracy: 83.91%\n",
      "\n"
     ]
    },
    {
     "name": "stderr",
     "output_type": "stream",
     "text": [
      "training...: 100%|██████████| 3394/3394 [06:47<00:00,  8.33it/s]\n",
      "evaluating...: 100%|██████████| 378/378 [00:36<00:00, 10.49it/s]\n"
     ]
    },
    {
     "name": "stdout",
     "output_type": "stream",
     "text": [
      "epoch [189/200], elapsed time: 7m, 23.36s\n",
      "train loss: 0.0003\ttrain accuracy: 96.77%\n",
      "test loss: 0.0027\ttest accuracy: 83.55%\n",
      "\n"
     ]
    },
    {
     "name": "stderr",
     "output_type": "stream",
     "text": [
      "training...: 100%|██████████| 3394/3394 [06:49<00:00,  8.29it/s]\n",
      "evaluating...: 100%|██████████| 378/378 [00:35<00:00, 10.54it/s]\n"
     ]
    },
    {
     "name": "stdout",
     "output_type": "stream",
     "text": [
      "epoch [190/200], elapsed time: 7m, 25.03s\n",
      "train loss: 0.0003\ttrain accuracy: 96.76%\n",
      "test loss: 0.0028\ttest accuracy: 83.99%\n",
      "\n"
     ]
    },
    {
     "name": "stderr",
     "output_type": "stream",
     "text": [
      "training...: 100%|██████████| 3394/3394 [06:42<00:00,  8.42it/s]\n",
      "evaluating...: 100%|██████████| 378/378 [00:37<00:00, 10.18it/s]\n"
     ]
    },
    {
     "name": "stdout",
     "output_type": "stream",
     "text": [
      "epoch [191/200], elapsed time: 7m, 20.11s\n",
      "train loss: 0.0003\ttrain accuracy: 96.82%\n",
      "test loss: 0.0027\ttest accuracy: 83.79%\n",
      "\n"
     ]
    },
    {
     "name": "stderr",
     "output_type": "stream",
     "text": [
      "training...: 100%|██████████| 3394/3394 [06:41<00:00,  8.45it/s]\n",
      "evaluating...: 100%|██████████| 378/378 [00:37<00:00, 10.14it/s]\n"
     ]
    },
    {
     "name": "stdout",
     "output_type": "stream",
     "text": [
      "epoch [192/200], elapsed time: 7m, 18.83s\n",
      "train loss: 0.0003\ttrain accuracy: 96.87%\n",
      "test loss: 0.0028\ttest accuracy: 84.04%\n",
      "\n"
     ]
    },
    {
     "name": "stderr",
     "output_type": "stream",
     "text": [
      "training...: 100%|██████████| 3394/3394 [06:45<00:00,  8.36it/s]\n",
      "evaluating...: 100%|██████████| 378/378 [00:35<00:00, 10.56it/s]\n"
     ]
    },
    {
     "name": "stdout",
     "output_type": "stream",
     "text": [
      "epoch [193/200], elapsed time: 7m, 21.60s\n",
      "train loss: 0.0003\ttrain accuracy: 96.88%\n",
      "test loss: 0.0027\ttest accuracy: 83.68%\n",
      "\n"
     ]
    },
    {
     "name": "stderr",
     "output_type": "stream",
     "text": [
      "training...: 100%|██████████| 3394/3394 [06:46<00:00,  8.34it/s]\n",
      "evaluating...: 100%|██████████| 378/378 [00:37<00:00, 10.17it/s]\n"
     ]
    },
    {
     "name": "stdout",
     "output_type": "stream",
     "text": [
      "epoch [194/200], elapsed time: 7m, 24.06s\n",
      "train loss: 0.0003\ttrain accuracy: 96.91%\n",
      "test loss: 0.0028\ttest accuracy: 83.44%\n",
      "\n"
     ]
    },
    {
     "name": "stderr",
     "output_type": "stream",
     "text": [
      "training...: 100%|██████████| 3394/3394 [06:45<00:00,  8.37it/s]\n",
      "evaluating...: 100%|██████████| 378/378 [00:36<00:00, 10.35it/s]\n"
     ]
    },
    {
     "name": "stdout",
     "output_type": "stream",
     "text": [
      "epoch [195/200], elapsed time: 7m, 22.11s\n",
      "train loss: 0.0003\ttrain accuracy: 96.91%\n",
      "test loss: 0.0027\ttest accuracy: 83.36%\n",
      "\n"
     ]
    },
    {
     "name": "stderr",
     "output_type": "stream",
     "text": [
      "training...: 100%|██████████| 3394/3394 [06:42<00:00,  8.44it/s]\n",
      "evaluating...: 100%|██████████| 378/378 [00:36<00:00, 10.40it/s]\n"
     ]
    },
    {
     "name": "stdout",
     "output_type": "stream",
     "text": [
      "epoch [196/200], elapsed time: 7m, 18.62s\n",
      "train loss: 0.0003\ttrain accuracy: 96.95%\n",
      "test loss: 0.0027\ttest accuracy: 83.78%\n",
      "\n"
     ]
    },
    {
     "name": "stderr",
     "output_type": "stream",
     "text": [
      "training...: 100%|██████████| 3394/3394 [06:42<00:00,  8.43it/s]\n",
      "evaluating...: 100%|██████████| 378/378 [00:37<00:00, 10.07it/s]\n"
     ]
    },
    {
     "name": "stdout",
     "output_type": "stream",
     "text": [
      "epoch [197/200], elapsed time: 7m, 20.19s\n",
      "train loss: 0.0003\ttrain accuracy: 96.96%\n",
      "test loss: 0.0028\ttest accuracy: 83.57%\n",
      "\n"
     ]
    },
    {
     "name": "stderr",
     "output_type": "stream",
     "text": [
      "training...: 100%|██████████| 3394/3394 [06:41<00:00,  8.45it/s]\n",
      "evaluating...: 100%|██████████| 378/378 [00:38<00:00,  9.81it/s]\n"
     ]
    },
    {
     "name": "stdout",
     "output_type": "stream",
     "text": [
      "epoch [198/200], elapsed time: 7m, 20.43s\n",
      "train loss: 0.0003\ttrain accuracy: 96.98%\n",
      "test loss: 0.0027\ttest accuracy: 83.51%\n",
      "\n"
     ]
    },
    {
     "name": "stderr",
     "output_type": "stream",
     "text": [
      "training...: 100%|██████████| 3394/3394 [06:41<00:00,  8.46it/s]\n",
      "evaluating...: 100%|██████████| 378/378 [00:37<00:00, 10.04it/s]\n"
     ]
    },
    {
     "name": "stdout",
     "output_type": "stream",
     "text": [
      "epoch [199/200], elapsed time: 7m, 18.78s\n",
      "train loss: 0.0003\ttrain accuracy: 97.00%\n",
      "test loss: 0.0028\ttest accuracy: 83.21%\n",
      "\n"
     ]
    },
    {
     "name": "stderr",
     "output_type": "stream",
     "text": [
      "training...: 100%|██████████| 3394/3394 [06:40<00:00,  8.47it/s]\n",
      "evaluating...: 100%|██████████| 378/378 [00:36<00:00, 10.35it/s]"
     ]
    },
    {
     "name": "stdout",
     "output_type": "stream",
     "text": [
      "epoch [200/200], elapsed time: 7m, 17.45s\n",
      "train loss: 0.0003\ttrain accuracy: 97.04%\n",
      "test loss: 0.0028\ttest accuracy: 83.29%\n",
      "\n"
     ]
    },
    {
     "name": "stderr",
     "output_type": "stream",
     "text": [
      "\n"
     ]
    }
   ],
   "source": [
    "train_loss_list = []\n",
    "train_acc_list = []\n",
    "test_loss_list = []\n",
    "test_acc_list = []\n",
    "\n",
    "best_loss = float('inf')\n",
    "set_seed(args)\n",
    "for epoch in range(1, args.num_epochs+1):\n",
    "    train_loss = 0 \n",
    "    train_acc = 0\n",
    "\n",
    "    test_loss = 0\n",
    "    test_acc = 0 \n",
    "\n",
    "    model.train()\n",
    "    start_time = time.time()\n",
    "    for batch in tqdm.tqdm(train_dataloader, desc = 'training...'):\n",
    "        batch = tuple(t.to(args.device) for t in batch)\n",
    "\n",
    "        inputs = {'input_ids':      batch[0], \n",
    "                  'attention_mask': batch[1], \n",
    "                  'token_type_ids':     batch[2]}\n",
    "        label = batch[3]\n",
    "\n",
    "        pred_y = model(**inputs).squeeze()\n",
    "        loss = criterion(pred_y, label)\n",
    "\n",
    "        train_acc += calc_accuracy(pred_y, label)\n",
    "        train_loss += loss.item()\n",
    "\n",
    "        optimizer.zero_grad()\n",
    "        loss.backward()\n",
    "        optimizer.step()\n",
    "\n",
    "    train_acc /= len(train_dataset)\n",
    "    train_loss /= len(train_dataset)\n",
    "    train_acc_list.append(train_acc)\n",
    "    train_loss_list.append(train_loss)\n",
    "\n",
    "    model.eval()\n",
    "    with torch.no_grad():\n",
    "        for batch in tqdm.tqdm(valid_dataloader, desc = 'evaluating...'):\n",
    "            batch = tuple(t.to(args.device) for t in batch)\n",
    "\n",
    "            inputs = {'input_ids':      batch[0], \n",
    "                      'attention_mask': batch[1], \n",
    "                      'token_type_ids':     batch[2]}\n",
    "            label = batch[3]\n",
    "\n",
    "            pred_y = model(**inputs).squeeze()\n",
    "            loss = criterion(pred_y, label)\n",
    "\n",
    "            test_acc += calc_accuracy(pred_y, label)\n",
    "            test_loss += loss.item()\n",
    "\n",
    "    test_acc /= len(valid_dataset)\n",
    "    test_loss /= len(valid_dataset)\n",
    "    test_acc_list.append(test_acc)\n",
    "    test_loss_list.append(test_loss)\n",
    "\n",
    "\n",
    "    end_time = time.time()\n",
    "    elapsed_mins, elapsed_secs = epoch_time(start_time, end_time)\n",
    "    print(f'epoch [{epoch}/{args.num_epochs}], elapsed time: {elapsed_mins}m, {elapsed_secs:.2f}s')\n",
    "    print(f'train loss: {train_loss:.4f}\\ttrain accuracy: {train_acc*100:.2f}%')\n",
    "    print(f'test loss: {test_loss:.4f}\\ttest accuracy: {test_acc*100:.2f}%\\n')\n",
    "\n",
    "    if best_loss > test_loss :\n",
    "        best_loss = test_loss \n",
    "        bert_param_path = os.path.join(BASE_DIR, 'baseline_parameters')\n",
    "        if not os.path.exists(bert_param_path):\n",
    "            os.makedirs(bert_param_path)\n",
    "\n",
    "        torch.save(model.state_dict(), os.path.join(bert_param_path, f'bert_parameters.pt'))\n",
    "    \n",
    "df = pd.DataFrame([train_loss_list, test_loss_list, train_acc_list, test_acc_list], index = ['train_loss', 'test_loss', 'train_acc', 'test_acc']).T \n",
    "\n",
    "\n",
    "save_path = os.path.join(BASE_DIR, 'baseline')\n",
    "if not os.path.exists(save_path):\n",
    "    os.makedirs(save_path)\n",
    "\n",
    "df.to_csv(f'{save_path}/bert_results.csv', encoding='utf-8-sig', index=False)"
   ]
  },
  {
   "cell_type": "code",
   "execution_count": null,
   "metadata": {},
   "outputs": [],
   "source": []
  }
 ],
 "metadata": {
  "kernelspec": {
   "display_name": "Python 3.7.15 ('base')",
   "language": "python",
   "name": "python3"
  },
  "language_info": {
   "codemirror_mode": {
    "name": "ipython",
    "version": 3
   },
   "file_extension": ".py",
   "mimetype": "text/x-python",
   "name": "python",
   "nbconvert_exporter": "python",
   "pygments_lexer": "ipython3",
   "version": "3.7.15"
  },
  "orig_nbformat": 4,
  "vscode": {
   "interpreter": {
    "hash": "d4d1e4263499bec80672ea0156c357c1ee493ec2b1c70f0acce89fc37c4a6abe"
   }
  }
 },
 "nbformat": 4,
 "nbformat_minor": 2
}
