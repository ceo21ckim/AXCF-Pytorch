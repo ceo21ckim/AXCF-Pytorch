{
 "cells": [
  {
   "cell_type": "code",
   "execution_count": 45,
   "metadata": {},
   "outputs": [],
   "source": [
    "import numpy as np \n",
    "import pandas as pd \n",
    "\n",
    "from __init__ import * \n",
    "\n",
    "import torch\n",
    "import torch.nn as nn \n",
    "from torch.utils.data import DataLoader, RandomSampler\n",
    "\n",
    "from models.bert import BERTDataset, BERTClassifier, bert_evaluate\n",
    "from models.utils import sentiment_score\n",
    "from transformers import BertTokenizer, BertModel"
   ]
  },
  {
   "cell_type": "code",
   "execution_count": 40,
   "metadata": {},
   "outputs": [],
   "source": [
    "class args:\n",
    "    max_seq_length = 128\n",
    "    dr_rate = 0.3\n",
    "    hidden_dim = 312\n",
    "    model_name_or_path = 'huawei-noah/TinyBERT_General_4L_312D'\n",
    "    learning_rate = 1e-5\n",
    "    save_path = SAVE_PATH\n",
    "    batch_size = 512\n",
    "    num_epochs = 100\n",
    "    device = 'cuda' if torch.cuda.is_available() else 'cpu'"
   ]
  },
  {
   "cell_type": "code",
   "execution_count": 41,
   "metadata": {},
   "outputs": [
    {
     "name": "stderr",
     "output_type": "stream",
     "text": [
      "Some weights of the model checkpoint at huawei-noah/TinyBERT_General_4L_312D were not used when initializing BertModel: ['fit_denses.1.bias', 'fit_denses.2.bias', 'cls.predictions.transform.LayerNorm.weight', 'cls.predictions.transform.dense.weight', 'cls.seq_relationship.bias', 'fit_denses.2.weight', 'cls.seq_relationship.weight', 'cls.predictions.transform.dense.bias', 'fit_denses.4.weight', 'fit_denses.3.weight', 'cls.predictions.decoder.weight', 'cls.predictions.transform.LayerNorm.bias', 'fit_denses.1.weight', 'cls.predictions.bias', 'fit_denses.0.bias', 'fit_denses.4.bias', 'fit_denses.0.weight', 'fit_denses.3.bias']\n",
      "- This IS expected if you are initializing BertModel from the checkpoint of a model trained on another task or with another architecture (e.g. initializing a BertForSequenceClassification model from a BertForPreTraining model).\n",
      "- This IS NOT expected if you are initializing BertModel from the checkpoint of a model that you expect to be exactly identical (initializing a BertForSequenceClassification model from a BertForSequenceClassification model).\n"
     ]
    }
   ],
   "source": [
    "test_path = os.path.join(YELP_DIR, 'test.csv')\n",
    "test = pd.read_csv(test_path, encoding='utf-8-sig')\n",
    "\n",
    "test.stars = test.stars.apply(sentiment_score)\n",
    "\n",
    "model = BertModel.from_pretrained(args.model_name_or_path)\n",
    "tokenizer = BertTokenizer.from_pretrained(args.model_name_or_path)\n",
    "\n",
    "model = BERTClassifier(args, model)"
   ]
  },
  {
   "cell_type": "code",
   "execution_count": 42,
   "metadata": {},
   "outputs": [],
   "source": [
    "param_path = os.path.join(SAVE_PATH, 'bert_parameters.pt')\n",
    "model.load_state_dict(torch.load(param_path))\n",
    "\n",
    "model = model.to(args.device)"
   ]
  },
  {
   "cell_type": "code",
   "execution_count": null,
   "metadata": {},
   "outputs": [],
   "source": []
  },
  {
   "cell_type": "code",
   "execution_count": 48,
   "metadata": {},
   "outputs": [],
   "source": [
    "testset = BERTDataset(args, test, tokenizer)\n",
    "test_loader = DataLoader(testset, batch_size=args.batch_size, sampler=RandomSampler)"
   ]
  },
  {
   "cell_type": "code",
   "execution_count": 51,
   "metadata": {},
   "outputs": [
    {
     "name": "stderr",
     "output_type": "stream",
     "text": [
      "Evaluating...: 100%|██████████| 472/472 [01:30<00:00,  5.20it/s]\n",
      "Evaluating...: 100%|██████████| 472/472 [01:37<00:00,  4.86it/s]\n",
      "Evaluating...: 100%|██████████| 472/472 [01:39<00:00,  4.74it/s]\n",
      "Evaluating...: 100%|██████████| 472/472 [01:41<00:00,  4.64it/s]\n",
      "Evaluating...: 100%|██████████| 472/472 [01:43<00:00,  4.57it/s]"
     ]
    },
    {
     "name": "stdout",
     "output_type": "stream",
     "text": [
      "0.8825170840048872 0.0006397495566260213\n",
      "2.5308764362165446e-05 8.407106744571803e-05\n"
     ]
    },
    {
     "name": "stderr",
     "output_type": "stream",
     "text": [
      "\n"
     ]
    }
   ],
   "source": [
    "criterion = nn.BCEWithLogitsLoss().to(args.device)\n",
    "\n",
    "accs, losses = [], []\n",
    "for _ in range(5):\n",
    "    testset = BERTDataset(args, test, tokenizer)\n",
    "    test_loader = DataLoader(testset, batch_size=args.batch_size, sampler=RandomSampler(testset), num_workers=4)\n",
    "\n",
    "    acc, loss = bert_evaluate(args, model, test_loader, criterion)\n",
    "    loss = loss.detach().cpu().item()\n",
    "    accs.append(acc)\n",
    "    losses.append(loss)\n",
    "\n",
    "print(np.mean(accs), np.mean(losses))\n",
    "print(np.std(accs), np.std(losses))"
   ]
  },
  {
   "cell_type": "code",
   "execution_count": 57,
   "metadata": {},
   "outputs": [],
   "source": [
    "a = list(map(lambda x: x*100, accs))"
   ]
  },
  {
   "cell_type": "code",
   "execution_count": 61,
   "metadata": {},
   "outputs": [
    {
     "data": {
      "text/plain": [
       "(0.0025308764362169363, 88.25170840048872)"
      ]
     },
     "execution_count": 61,
     "metadata": {},
     "output_type": "execute_result"
    }
   ],
   "source": [
    "np.std(a), np.mean(a)"
   ]
  }
 ],
 "metadata": {
  "kernelspec": {
   "display_name": "Python 3.7.15 ('base')",
   "language": "python",
   "name": "python3"
  },
  "language_info": {
   "codemirror_mode": {
    "name": "ipython",
    "version": 3
   },
   "file_extension": ".py",
   "mimetype": "text/x-python",
   "name": "python",
   "nbconvert_exporter": "python",
   "pygments_lexer": "ipython3",
   "version": "3.7.15"
  },
  "orig_nbformat": 4,
  "vscode": {
   "interpreter": {
    "hash": "d4d1e4263499bec80672ea0156c357c1ee493ec2b1c70f0acce89fc37c4a6abe"
   }
  }
 },
 "nbformat": 4,
 "nbformat_minor": 2
}
